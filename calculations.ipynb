{
 "cells": [
  {
   "cell_type": "markdown",
   "id": "dde67c59",
   "metadata": {},
   "source": [
    "# 📊 Cálculos e Análises\n",
    "\n",
    "Bem-vindo à seção de **Cálculos** da dashboard!  \n",
    "Aqui você encontrará todas as métricas, fórmulas e análises essenciais para interpretar os dados de forma clara e eficiente.\n",
    "\n",
    "---\n",
    "\n",
    "> **Explore os resultados, compare indicadores e tome decisões baseadas em dados!**"
   ]
  },
  {
   "cell_type": "code",
   "execution_count": 1,
   "id": "69ce3fd7",
   "metadata": {},
   "outputs": [],
   "source": [
    "import pandas as pd"
   ]
  },
  {
   "cell_type": "code",
   "execution_count": 2,
   "id": "3d846d23",
   "metadata": {},
   "outputs": [],
   "source": [
    "df = pd.read_csv(\"data/banco_agro_projeto_limpo.csv\")"
   ]
  },
  {
   "cell_type": "code",
   "execution_count": 3,
   "id": "e5e6812f",
   "metadata": {},
   "outputs": [
    {
     "data": {
      "application/vnd.microsoft.datawrangler.viewer.v0+json": {
       "columns": [
        {
         "name": "index",
         "rawType": "int64",
         "type": "integer"
        },
        {
         "name": "Produto",
         "rawType": "object",
         "type": "string"
        },
        {
         "name": "Estoque",
         "rawType": "int64",
         "type": "integer"
        },
        {
         "name": "Vendidos",
         "rawType": "int64",
         "type": "integer"
        },
        {
         "name": "Data_de_vendas",
         "rawType": "object",
         "type": "string"
        },
        {
         "name": "Vendedor",
         "rawType": "object",
         "type": "string"
        },
        {
         "name": "cidade",
         "rawType": "object",
         "type": "string"
        },
        {
         "name": "latitude",
         "rawType": "float64",
         "type": "float"
        },
        {
         "name": "longitude",
         "rawType": "float64",
         "type": "float"
        },
        {
         "name": "Preco_kg",
         "rawType": "float64",
         "type": "float"
        },
        {
         "name": "Faturamento",
         "rawType": "float64",
         "type": "float"
        },
        {
         "name": "Não_vendidos",
         "rawType": "float64",
         "type": "float"
        }
       ],
       "ref": "bd8cad8b-1194-4379-ae40-0bf5d465244f",
       "rows": [
        [
         "0",
         "Café",
         "466",
         "277",
         "2024-01-01",
         "Desconhecido",
         "São Paulo",
         "-23.55052",
         "-46.633308",
         "38.57",
         "10683.89",
         "17973.62"
        ],
        [
         "1",
         "Soja",
         "191",
         "37",
         "2024-01-02",
         "Pedro",
         "Rio de Janeiro",
         "-22.906847",
         "-43.172896",
         "2.33",
         "86.21000000000001",
         "445.03"
        ],
        [
         "2",
         "Cana-de-açúcar",
         "241",
         "241",
         "2024-01-03",
         "Fernanda",
         "Brasília",
         "-15.794229",
         "-47.882166",
         "1.28",
         "308.48",
         "308.48"
        ],
        [
         "3",
         "Arroz",
         "222",
         "283",
         "2024-01-04",
         "Carlos",
         "Belo Horizonte",
         "-19.924502",
         "-43.935237",
         "1.56",
         "441.48",
         "346.32"
        ],
        [
         "4",
         "Arroz",
         "370",
         "432",
         "2024-01-05",
         "Patrícia",
         "Fortaleza",
         "-3.71722",
         "-38.5434",
         "1.56",
         "673.9200000000001",
         "577.2"
        ],
        [
         "5",
         "Café",
         "559",
         "443",
         "2024-01-06",
         "Desconhecido",
         "São Paulo",
         "-23.55052",
         "-46.633308",
         "38.57",
         "17086.51",
         "21560.63"
        ],
        [
         "6",
         "Cana-de-açúcar",
         "530",
         "337",
         "2024-01-07",
         "Patrícia",
         "São Paulo",
         "-23.55052",
         "-46.633308",
         "1.28",
         "431.36",
         "678.4"
        ],
        [
         "7",
         "Algodão",
         "100",
         "100",
         "2024-01-08",
         "Ricardo",
         "Recife",
         "-8.04756",
         "-34.877",
         "17.68",
         "1768.0",
         "1768.0"
        ],
        [
         "8",
         "Cana-de-açúcar",
         "52",
         "116",
         "2024-01-09",
         "Desconhecido",
         "Salvador",
         "-12.971399",
         "-38.501305",
         "1.28",
         "148.48",
         "66.56"
        ],
        [
         "9",
         "Café",
         "187",
         "369",
         "2024-01-10",
         "Pedro",
         "Curitiba",
         "-25.428954",
         "-49.267137",
         "38.57",
         "14232.33",
         "7212.59"
        ],
        [
         "10",
         "Soja",
         "929",
         "190",
         "2024-01-11",
         "Pedro",
         "São Paulo",
         "-23.55052",
         "-46.633308",
         "2.33",
         "442.7",
         "2164.57"
        ],
        [
         "11",
         "Cana-de-açúcar",
         "526",
         "181",
         "2024-01-12",
         "João",
         "Brasília",
         "-15.794229",
         "-47.882166",
         "1.28",
         "231.68",
         "673.28"
        ],
        [
         "12",
         "Arroz",
         "438",
         "104",
         "2024-01-13",
         "Ana",
         "Curitiba",
         "-25.428954",
         "-49.267137",
         "1.56",
         "162.24",
         "683.28"
        ],
        [
         "13",
         "Arroz",
         "315",
         "200",
         "2024-01-14",
         "Carlos",
         "Salvador",
         "-12.971399",
         "-38.501305",
         "1.56",
         "312.0",
         "491.4"
        ],
        [
         "14",
         "Café",
         "50",
         "377",
         "2024-01-15",
         "Carlos",
         "Manaus",
         "-3.10194",
         "-60.025",
         "38.57",
         "14540.89",
         "1928.5"
        ],
        [
         "15",
         "Café",
         "969",
         "412",
         "2024-01-16",
         "Patrícia",
         "Manaus",
         "-3.10194",
         "-60.025",
         "38.57",
         "15890.84",
         "37374.33"
        ],
        [
         "16",
         "Soja",
         "36",
         "36",
         "2024-01-17",
         "Fernanda",
         "Rio de Janeiro",
         "-22.906847",
         "-43.172896",
         "2.33",
         "83.88",
         "83.88"
        ],
        [
         "17",
         "Cana-de-açúcar",
         "830",
         "830",
         "2024-01-18",
         "Ricardo",
         "Manaus",
         "-3.10194",
         "-60.025",
         "1.28",
         "1062.4",
         "1062.4"
        ],
        [
         "18",
         "Cana-de-açúcar",
         "620",
         "192",
         "2024-01-19",
         "Patrícia",
         "Belo Horizonte",
         "-19.924502",
         "-43.935237",
         "1.28",
         "245.76",
         "793.6"
        ],
        [
         "19",
         "Trigo",
         "931",
         "189",
         "2024-01-20",
         "Ana",
         "Porto Alegre",
         "-30.034647",
         "-51.217658",
         "1.42",
         "268.38",
         "1322.02"
        ],
        [
         "20",
         "Café",
         "323",
         "278",
         "2024-01-21",
         "Patrícia",
         "Belo Horizonte",
         "-19.924502",
         "-43.935237",
         "38.57",
         "10722.46",
         "12458.11"
        ],
        [
         "21",
         "Trigo",
         "861",
         "280",
         "2024-01-22",
         "Pedro",
         "Porto Alegre",
         "-30.034647",
         "-51.217658",
         "1.42",
         "397.6",
         "1222.62"
        ],
        [
         "22",
         "Arroz",
         "141",
         "243",
         "2024-01-23",
         "Fernanda",
         "Fortaleza",
         "-3.71722",
         "-38.5434",
         "1.56",
         "379.08",
         "219.96"
        ],
        [
         "23",
         "Algodão",
         "612",
         "209",
         "2024-01-24",
         "Pedro",
         "Rio de Janeiro",
         "-22.906847",
         "-43.172896",
         "17.68",
         "3695.12",
         "10820.16"
        ],
        [
         "24",
         "Milho",
         "432",
         "85",
         "2024-01-25",
         "Ana",
         "Recife",
         "-8.04756",
         "-34.877",
         "1.09",
         "92.65",
         "470.88000000000005"
        ],
        [
         "25",
         "Trigo",
         "865",
         "498",
         "2024-01-26",
         "Carlos",
         "Porto Alegre",
         "-30.034647",
         "-51.217658",
         "1.42",
         "707.16",
         "1228.3"
        ],
        [
         "26",
         "Algodão",
         "65",
         "65",
         "2024-01-27",
         "Carlos",
         "Belo Horizonte",
         "-19.924502",
         "-43.935237",
         "17.68",
         "1149.2",
         "1149.2"
        ],
        [
         "27",
         "Arroz",
         "277",
         "476",
         "2024-01-28",
         "Carlos",
         "Rio de Janeiro",
         "-22.906847",
         "-43.172896",
         "1.56",
         "742.5600000000001",
         "432.12"
        ],
        [
         "28",
         "Soja",
         "48",
         "48",
         "2024-01-29",
         "Carlos",
         "Curitiba",
         "-25.428954",
         "-49.267137",
         "2.33",
         "111.84",
         "111.84"
        ],
        [
         "29",
         "Arroz",
         "278",
         "278",
         "2024-01-30",
         "Fernanda",
         "Brasília",
         "-15.794229",
         "-47.882166",
         "1.56",
         "433.68",
         "433.68"
        ],
        [
         "30",
         "Cana-de-açúcar",
         "229",
         "186",
         "2024-01-31",
         "Desconhecido",
         "Manaus",
         "-3.10194",
         "-60.025",
         "1.28",
         "238.08",
         "293.12"
        ],
        [
         "31",
         "Café",
         "509",
         "327",
         "2024-02-01",
         "Pedro",
         "Porto Alegre",
         "-30.034647",
         "-51.217658",
         "38.57",
         "12612.39",
         "19632.13"
        ],
        [
         "32",
         "Trigo",
         "529",
         "180",
         "2024-02-02",
         "Fernanda",
         "Porto Alegre",
         "-30.034647",
         "-51.217658",
         "1.42",
         "255.6",
         "751.18"
        ],
        [
         "33",
         "Cana-de-açúcar",
         "303",
         "68",
         "2024-02-03",
         "Maria",
         "Manaus",
         "-3.10194",
         "-60.025",
         "1.28",
         "87.04",
         "387.84"
        ],
        [
         "34",
         "Arroz",
         "272",
         "272",
         "2024-02-04",
         "Maria",
         "Curitiba",
         "-25.428954",
         "-49.267137",
         "1.56",
         "424.32",
         "424.32"
        ],
        [
         "35",
         "Algodão",
         "615",
         "26",
         "2024-02-05",
         "Ricardo",
         "São Paulo",
         "-23.55052",
         "-46.633308",
         "17.68",
         "459.68",
         "10873.2"
        ],
        [
         "36",
         "Soja",
         "174",
         "271",
         "2024-02-06",
         "Fernanda",
         "Fortaleza",
         "-3.71722",
         "-38.5434",
         "2.33",
         "631.4300000000001",
         "405.42"
        ],
        [
         "37",
         "Trigo",
         "500",
         "304",
         "2024-02-07",
         "Ana",
         "Recife",
         "-8.04756",
         "-34.877",
         "1.42",
         "431.68",
         "710.0"
        ],
        [
         "38",
         "Café",
         "454",
         "106",
         "2024-02-08",
         "Fernanda",
         "Belo Horizonte",
         "-19.924502",
         "-43.935237",
         "38.57",
         "4088.42",
         "17510.78"
        ],
        [
         "39",
         "Algodão",
         "109",
         "167",
         "2024-02-09",
         "Patrícia",
         "Salvador",
         "-12.971399",
         "-38.501305",
         "17.68",
         "2952.56",
         "1927.12"
        ],
        [
         "40",
         "Café",
         "745",
         "265",
         "2024-02-10",
         "Patrícia",
         "Brasília",
         "-15.794229",
         "-47.882166",
         "38.57",
         "10221.05",
         "28734.65"
        ],
        [
         "41",
         "Cana-de-açúcar",
         "396",
         "377",
         "2024-02-11",
         "Ana",
         "Brasília",
         "-15.794229",
         "-47.882166",
         "1.28",
         "482.56",
         "506.88"
        ],
        [
         "42",
         "Soja",
         "154",
         "355",
         "2024-02-12",
         "Carlos",
         "Salvador",
         "-12.971399",
         "-38.501305",
         "2.33",
         "827.15",
         "358.82"
        ],
        [
         "43",
         "Soja",
         "99",
         "99",
         "2024-02-13",
         "Pedro",
         "Belo Horizonte",
         "-19.924502",
         "-43.935237",
         "2.33",
         "230.67",
         "230.67"
        ],
        [
         "44",
         "Soja",
         "588",
         "179",
         "2024-02-14",
         "Carlos",
         "Curitiba",
         "-25.428954",
         "-49.267137",
         "2.33",
         "417.07",
         "1370.04"
        ],
        [
         "45",
         "Café",
         "448",
         "292",
         "2024-02-15",
         "Carlos",
         "Salvador",
         "-12.971399",
         "-38.501305",
         "38.57",
         "11262.44",
         "17279.36"
        ],
        [
         "46",
         "Soja",
         "525",
         "319",
         "2024-02-16",
         "Maria",
         "Belo Horizonte",
         "-19.924502",
         "-43.935237",
         "2.33",
         "743.27",
         "1223.25"
        ],
        [
         "47",
         "Arroz",
         "418",
         "265",
         "2024-02-17",
         "Fernanda",
         "Recife",
         "-8.04756",
         "-34.877",
         "1.56",
         "413.4",
         "652.08"
        ],
        [
         "48",
         "Soja",
         "710",
         "1",
         "2024-02-18",
         "Desconhecido",
         "Rio de Janeiro",
         "-22.906847",
         "-43.172896",
         "2.33",
         "2.33",
         "1654.3"
        ],
        [
         "49",
         "Soja",
         "253",
         "391",
         "2024-02-19",
         "Pedro",
         "São Paulo",
         "-23.55052",
         "-46.633308",
         "2.33",
         "911.03",
         "589.49"
        ]
       ],
       "shape": {
        "columns": 11,
        "rows": 2000
       }
      },
      "text/html": [
       "<div>\n",
       "<style scoped>\n",
       "    .dataframe tbody tr th:only-of-type {\n",
       "        vertical-align: middle;\n",
       "    }\n",
       "\n",
       "    .dataframe tbody tr th {\n",
       "        vertical-align: top;\n",
       "    }\n",
       "\n",
       "    .dataframe thead th {\n",
       "        text-align: right;\n",
       "    }\n",
       "</style>\n",
       "<table border=\"1\" class=\"dataframe\">\n",
       "  <thead>\n",
       "    <tr style=\"text-align: right;\">\n",
       "      <th></th>\n",
       "      <th>Produto</th>\n",
       "      <th>Estoque</th>\n",
       "      <th>Vendidos</th>\n",
       "      <th>Data_de_vendas</th>\n",
       "      <th>Vendedor</th>\n",
       "      <th>cidade</th>\n",
       "      <th>latitude</th>\n",
       "      <th>longitude</th>\n",
       "      <th>Preco_kg</th>\n",
       "      <th>Faturamento</th>\n",
       "      <th>Não_vendidos</th>\n",
       "    </tr>\n",
       "  </thead>\n",
       "  <tbody>\n",
       "    <tr>\n",
       "      <th>0</th>\n",
       "      <td>Café</td>\n",
       "      <td>466</td>\n",
       "      <td>277</td>\n",
       "      <td>2024-01-01</td>\n",
       "      <td>Desconhecido</td>\n",
       "      <td>São Paulo</td>\n",
       "      <td>-23.550520</td>\n",
       "      <td>-46.633308</td>\n",
       "      <td>38.57</td>\n",
       "      <td>10683.89</td>\n",
       "      <td>17973.62</td>\n",
       "    </tr>\n",
       "    <tr>\n",
       "      <th>1</th>\n",
       "      <td>Soja</td>\n",
       "      <td>191</td>\n",
       "      <td>37</td>\n",
       "      <td>2024-01-02</td>\n",
       "      <td>Pedro</td>\n",
       "      <td>Rio de Janeiro</td>\n",
       "      <td>-22.906847</td>\n",
       "      <td>-43.172896</td>\n",
       "      <td>2.33</td>\n",
       "      <td>86.21</td>\n",
       "      <td>445.03</td>\n",
       "    </tr>\n",
       "    <tr>\n",
       "      <th>2</th>\n",
       "      <td>Cana-de-açúcar</td>\n",
       "      <td>241</td>\n",
       "      <td>241</td>\n",
       "      <td>2024-01-03</td>\n",
       "      <td>Fernanda</td>\n",
       "      <td>Brasília</td>\n",
       "      <td>-15.794229</td>\n",
       "      <td>-47.882166</td>\n",
       "      <td>1.28</td>\n",
       "      <td>308.48</td>\n",
       "      <td>308.48</td>\n",
       "    </tr>\n",
       "    <tr>\n",
       "      <th>3</th>\n",
       "      <td>Arroz</td>\n",
       "      <td>222</td>\n",
       "      <td>283</td>\n",
       "      <td>2024-01-04</td>\n",
       "      <td>Carlos</td>\n",
       "      <td>Belo Horizonte</td>\n",
       "      <td>-19.924502</td>\n",
       "      <td>-43.935237</td>\n",
       "      <td>1.56</td>\n",
       "      <td>441.48</td>\n",
       "      <td>346.32</td>\n",
       "    </tr>\n",
       "    <tr>\n",
       "      <th>4</th>\n",
       "      <td>Arroz</td>\n",
       "      <td>370</td>\n",
       "      <td>432</td>\n",
       "      <td>2024-01-05</td>\n",
       "      <td>Patrícia</td>\n",
       "      <td>Fortaleza</td>\n",
       "      <td>-3.717220</td>\n",
       "      <td>-38.543400</td>\n",
       "      <td>1.56</td>\n",
       "      <td>673.92</td>\n",
       "      <td>577.20</td>\n",
       "    </tr>\n",
       "    <tr>\n",
       "      <th>...</th>\n",
       "      <td>...</td>\n",
       "      <td>...</td>\n",
       "      <td>...</td>\n",
       "      <td>...</td>\n",
       "      <td>...</td>\n",
       "      <td>...</td>\n",
       "      <td>...</td>\n",
       "      <td>...</td>\n",
       "      <td>...</td>\n",
       "      <td>...</td>\n",
       "      <td>...</td>\n",
       "    </tr>\n",
       "    <tr>\n",
       "      <th>1995</th>\n",
       "      <td>Arroz</td>\n",
       "      <td>493</td>\n",
       "      <td>336</td>\n",
       "      <td>2029-06-18</td>\n",
       "      <td>Patrícia</td>\n",
       "      <td>São Paulo</td>\n",
       "      <td>-23.550520</td>\n",
       "      <td>-46.633308</td>\n",
       "      <td>1.56</td>\n",
       "      <td>524.16</td>\n",
       "      <td>769.08</td>\n",
       "    </tr>\n",
       "    <tr>\n",
       "      <th>1996</th>\n",
       "      <td>Cana-de-açúcar</td>\n",
       "      <td>457</td>\n",
       "      <td>385</td>\n",
       "      <td>2029-06-19</td>\n",
       "      <td>Ana</td>\n",
       "      <td>Porto Alegre</td>\n",
       "      <td>-30.034647</td>\n",
       "      <td>-51.217658</td>\n",
       "      <td>1.28</td>\n",
       "      <td>492.80</td>\n",
       "      <td>584.96</td>\n",
       "    </tr>\n",
       "    <tr>\n",
       "      <th>1997</th>\n",
       "      <td>Algodão</td>\n",
       "      <td>316</td>\n",
       "      <td>276</td>\n",
       "      <td>2029-06-20</td>\n",
       "      <td>Maria</td>\n",
       "      <td>Recife</td>\n",
       "      <td>-8.047560</td>\n",
       "      <td>-34.877000</td>\n",
       "      <td>17.68</td>\n",
       "      <td>4879.68</td>\n",
       "      <td>5586.88</td>\n",
       "    </tr>\n",
       "    <tr>\n",
       "      <th>1998</th>\n",
       "      <td>Trigo</td>\n",
       "      <td>65</td>\n",
       "      <td>319</td>\n",
       "      <td>2029-06-21</td>\n",
       "      <td>João</td>\n",
       "      <td>Salvador</td>\n",
       "      <td>-12.971399</td>\n",
       "      <td>-38.501305</td>\n",
       "      <td>1.42</td>\n",
       "      <td>452.98</td>\n",
       "      <td>92.30</td>\n",
       "    </tr>\n",
       "    <tr>\n",
       "      <th>1999</th>\n",
       "      <td>Milho</td>\n",
       "      <td>982</td>\n",
       "      <td>403</td>\n",
       "      <td>2029-06-22</td>\n",
       "      <td>Ricardo</td>\n",
       "      <td>Recife</td>\n",
       "      <td>-8.047560</td>\n",
       "      <td>-34.877000</td>\n",
       "      <td>1.09</td>\n",
       "      <td>439.27</td>\n",
       "      <td>1070.38</td>\n",
       "    </tr>\n",
       "  </tbody>\n",
       "</table>\n",
       "<p>2000 rows × 11 columns</p>\n",
       "</div>"
      ],
      "text/plain": [
       "             Produto  Estoque  Vendidos Data_de_vendas      Vendedor  \\\n",
       "0               Café      466       277     2024-01-01  Desconhecido   \n",
       "1               Soja      191        37     2024-01-02         Pedro   \n",
       "2     Cana-de-açúcar      241       241     2024-01-03      Fernanda   \n",
       "3              Arroz      222       283     2024-01-04        Carlos   \n",
       "4              Arroz      370       432     2024-01-05      Patrícia   \n",
       "...              ...      ...       ...            ...           ...   \n",
       "1995           Arroz      493       336     2029-06-18      Patrícia   \n",
       "1996  Cana-de-açúcar      457       385     2029-06-19           Ana   \n",
       "1997         Algodão      316       276     2029-06-20         Maria   \n",
       "1998           Trigo       65       319     2029-06-21          João   \n",
       "1999           Milho      982       403     2029-06-22       Ricardo   \n",
       "\n",
       "              cidade   latitude  longitude  Preco_kg  Faturamento  \\\n",
       "0          São Paulo -23.550520 -46.633308     38.57     10683.89   \n",
       "1     Rio de Janeiro -22.906847 -43.172896      2.33        86.21   \n",
       "2           Brasília -15.794229 -47.882166      1.28       308.48   \n",
       "3     Belo Horizonte -19.924502 -43.935237      1.56       441.48   \n",
       "4          Fortaleza  -3.717220 -38.543400      1.56       673.92   \n",
       "...              ...        ...        ...       ...          ...   \n",
       "1995       São Paulo -23.550520 -46.633308      1.56       524.16   \n",
       "1996    Porto Alegre -30.034647 -51.217658      1.28       492.80   \n",
       "1997          Recife  -8.047560 -34.877000     17.68      4879.68   \n",
       "1998        Salvador -12.971399 -38.501305      1.42       452.98   \n",
       "1999          Recife  -8.047560 -34.877000      1.09       439.27   \n",
       "\n",
       "      Não_vendidos  \n",
       "0         17973.62  \n",
       "1           445.03  \n",
       "2           308.48  \n",
       "3           346.32  \n",
       "4           577.20  \n",
       "...            ...  \n",
       "1995        769.08  \n",
       "1996        584.96  \n",
       "1997       5586.88  \n",
       "1998         92.30  \n",
       "1999       1070.38  \n",
       "\n",
       "[2000 rows x 11 columns]"
      ]
     },
     "execution_count": 3,
     "metadata": {},
     "output_type": "execute_result"
    }
   ],
   "source": [
    "df"
   ]
  },
  {
   "cell_type": "code",
   "execution_count": 4,
   "id": "113c9372",
   "metadata": {},
   "outputs": [
    {
     "data": {
      "application/vnd.microsoft.datawrangler.viewer.v0+json": {
       "columns": [
        {
         "name": "index",
         "rawType": "object",
         "type": "string"
        },
        {
         "name": "Estoque",
         "rawType": "float64",
         "type": "float"
        },
        {
         "name": "Vendidos",
         "rawType": "float64",
         "type": "float"
        },
        {
         "name": "latitude",
         "rawType": "float64",
         "type": "float"
        },
        {
         "name": "longitude",
         "rawType": "float64",
         "type": "float"
        },
        {
         "name": "Preco_kg",
         "rawType": "float64",
         "type": "float"
        },
        {
         "name": "Faturamento",
         "rawType": "float64",
         "type": "float"
        },
        {
         "name": "Não_vendidos",
         "rawType": "float64",
         "type": "float"
        }
       ],
       "ref": "4c81372a-fd4a-479a-99ae-6d8acf043a8b",
       "rows": [
        [
         "count",
         "2000.0",
         "2000.0",
         "2000.0",
         "2000.0",
         "2000.0",
         "2000.0",
         "2000.0"
        ],
        [
         "mean",
         "487.692",
         "259.006",
         "-16.5013163505",
         "-45.410685832000006",
         "9.05788",
         "2322.346915",
         "4356.936665"
        ],
        [
         "std",
         "287.21342571675854",
         "173.59212561933367",
         "8.91598996359961",
         "6.957261236190678",
         "12.940259342900776",
         "4276.588454109296",
         "7776.863551046214"
        ],
        [
         "min",
         "0.0",
         "1.0",
         "-30.034647",
         "-60.025",
         "1.09",
         "1.09",
         "0.0"
        ],
        [
         "25%",
         "243.0",
         "119.0",
         "-23.55052",
         "-49.267137",
         "1.28",
         "244.42",
         "484.125"
        ],
        [
         "50%",
         "479.5",
         "244.0",
         "-19.924502",
         "-46.633308",
         "1.56",
         "496.29",
         "968.22"
        ],
        [
         "75%",
         "736.0",
         "377.0",
         "-8.04756",
         "-38.5434",
         "17.68",
         "1578.4",
         "2907.4700000000003"
        ],
        [
         "max",
         "999.0",
         "998.0",
         "-3.10194",
         "-34.877",
         "38.57",
         "37798.6",
         "38492.86"
        ]
       ],
       "shape": {
        "columns": 7,
        "rows": 8
       }
      },
      "text/html": [
       "<div>\n",
       "<style scoped>\n",
       "    .dataframe tbody tr th:only-of-type {\n",
       "        vertical-align: middle;\n",
       "    }\n",
       "\n",
       "    .dataframe tbody tr th {\n",
       "        vertical-align: top;\n",
       "    }\n",
       "\n",
       "    .dataframe thead th {\n",
       "        text-align: right;\n",
       "    }\n",
       "</style>\n",
       "<table border=\"1\" class=\"dataframe\">\n",
       "  <thead>\n",
       "    <tr style=\"text-align: right;\">\n",
       "      <th></th>\n",
       "      <th>Estoque</th>\n",
       "      <th>Vendidos</th>\n",
       "      <th>latitude</th>\n",
       "      <th>longitude</th>\n",
       "      <th>Preco_kg</th>\n",
       "      <th>Faturamento</th>\n",
       "      <th>Não_vendidos</th>\n",
       "    </tr>\n",
       "  </thead>\n",
       "  <tbody>\n",
       "    <tr>\n",
       "      <th>count</th>\n",
       "      <td>2000.000000</td>\n",
       "      <td>2000.000000</td>\n",
       "      <td>2000.000000</td>\n",
       "      <td>2000.000000</td>\n",
       "      <td>2000.000000</td>\n",
       "      <td>2000.000000</td>\n",
       "      <td>2000.000000</td>\n",
       "    </tr>\n",
       "    <tr>\n",
       "      <th>mean</th>\n",
       "      <td>487.692000</td>\n",
       "      <td>259.006000</td>\n",
       "      <td>-16.501316</td>\n",
       "      <td>-45.410686</td>\n",
       "      <td>9.057880</td>\n",
       "      <td>2322.346915</td>\n",
       "      <td>4356.936665</td>\n",
       "    </tr>\n",
       "    <tr>\n",
       "      <th>std</th>\n",
       "      <td>287.213426</td>\n",
       "      <td>173.592126</td>\n",
       "      <td>8.915990</td>\n",
       "      <td>6.957261</td>\n",
       "      <td>12.940259</td>\n",
       "      <td>4276.588454</td>\n",
       "      <td>7776.863551</td>\n",
       "    </tr>\n",
       "    <tr>\n",
       "      <th>min</th>\n",
       "      <td>0.000000</td>\n",
       "      <td>1.000000</td>\n",
       "      <td>-30.034647</td>\n",
       "      <td>-60.025000</td>\n",
       "      <td>1.090000</td>\n",
       "      <td>1.090000</td>\n",
       "      <td>0.000000</td>\n",
       "    </tr>\n",
       "    <tr>\n",
       "      <th>25%</th>\n",
       "      <td>243.000000</td>\n",
       "      <td>119.000000</td>\n",
       "      <td>-23.550520</td>\n",
       "      <td>-49.267137</td>\n",
       "      <td>1.280000</td>\n",
       "      <td>244.420000</td>\n",
       "      <td>484.125000</td>\n",
       "    </tr>\n",
       "    <tr>\n",
       "      <th>50%</th>\n",
       "      <td>479.500000</td>\n",
       "      <td>244.000000</td>\n",
       "      <td>-19.924502</td>\n",
       "      <td>-46.633308</td>\n",
       "      <td>1.560000</td>\n",
       "      <td>496.290000</td>\n",
       "      <td>968.220000</td>\n",
       "    </tr>\n",
       "    <tr>\n",
       "      <th>75%</th>\n",
       "      <td>736.000000</td>\n",
       "      <td>377.000000</td>\n",
       "      <td>-8.047560</td>\n",
       "      <td>-38.543400</td>\n",
       "      <td>17.680000</td>\n",
       "      <td>1578.400000</td>\n",
       "      <td>2907.470000</td>\n",
       "    </tr>\n",
       "    <tr>\n",
       "      <th>max</th>\n",
       "      <td>999.000000</td>\n",
       "      <td>998.000000</td>\n",
       "      <td>-3.101940</td>\n",
       "      <td>-34.877000</td>\n",
       "      <td>38.570000</td>\n",
       "      <td>37798.600000</td>\n",
       "      <td>38492.860000</td>\n",
       "    </tr>\n",
       "  </tbody>\n",
       "</table>\n",
       "</div>"
      ],
      "text/plain": [
       "           Estoque     Vendidos     latitude    longitude     Preco_kg  \\\n",
       "count  2000.000000  2000.000000  2000.000000  2000.000000  2000.000000   \n",
       "mean    487.692000   259.006000   -16.501316   -45.410686     9.057880   \n",
       "std     287.213426   173.592126     8.915990     6.957261    12.940259   \n",
       "min       0.000000     1.000000   -30.034647   -60.025000     1.090000   \n",
       "25%     243.000000   119.000000   -23.550520   -49.267137     1.280000   \n",
       "50%     479.500000   244.000000   -19.924502   -46.633308     1.560000   \n",
       "75%     736.000000   377.000000    -8.047560   -38.543400    17.680000   \n",
       "max     999.000000   998.000000    -3.101940   -34.877000    38.570000   \n",
       "\n",
       "        Faturamento  Não_vendidos  \n",
       "count   2000.000000   2000.000000  \n",
       "mean    2322.346915   4356.936665  \n",
       "std     4276.588454   7776.863551  \n",
       "min        1.090000      0.000000  \n",
       "25%      244.420000    484.125000  \n",
       "50%      496.290000    968.220000  \n",
       "75%     1578.400000   2907.470000  \n",
       "max    37798.600000  38492.860000  "
      ]
     },
     "execution_count": 4,
     "metadata": {},
     "output_type": "execute_result"
    }
   ],
   "source": [
    "df.describe()"
   ]
  },
  {
   "cell_type": "code",
   "execution_count": 5,
   "id": "15dd480e",
   "metadata": {},
   "outputs": [
    {
     "name": "stdout",
     "output_type": "stream",
     "text": [
      "<class 'pandas.core.frame.DataFrame'>\n",
      "RangeIndex: 2000 entries, 0 to 1999\n",
      "Data columns (total 11 columns):\n",
      " #   Column          Non-Null Count  Dtype  \n",
      "---  ------          --------------  -----  \n",
      " 0   Produto         2000 non-null   object \n",
      " 1   Estoque         2000 non-null   int64  \n",
      " 2   Vendidos        2000 non-null   int64  \n",
      " 3   Data_de_vendas  2000 non-null   object \n",
      " 4   Vendedor        2000 non-null   object \n",
      " 5   cidade          2000 non-null   object \n",
      " 6   latitude        2000 non-null   float64\n",
      " 7   longitude       2000 non-null   float64\n",
      " 8   Preco_kg        2000 non-null   float64\n",
      " 9   Faturamento     2000 non-null   float64\n",
      " 10  Não_vendidos    2000 non-null   float64\n",
      "dtypes: float64(5), int64(2), object(4)\n",
      "memory usage: 172.0+ KB\n"
     ]
    }
   ],
   "source": [
    "df.info()"
   ]
  },
  {
   "cell_type": "markdown",
   "id": "2afc7858",
   "metadata": {},
   "source": [
    "## Informações básicas"
   ]
  },
  {
   "cell_type": "code",
   "execution_count": 6,
   "id": "ca833878",
   "metadata": {},
   "outputs": [
    {
     "data": {
      "text/plain": [
       "np.int64(518012)"
      ]
     },
     "execution_count": 6,
     "metadata": {},
     "output_type": "execute_result"
    }
   ],
   "source": [
    "df['Vendidos'].sum() #total de produtos vendidos  "
   ]
  },
  {
   "cell_type": "code",
   "execution_count": 7,
   "id": "2f05bfc2",
   "metadata": {},
   "outputs": [
    {
     "data": {
      "text/plain": [
       "np.int64(975384)"
      ]
     },
     "execution_count": 7,
     "metadata": {},
     "output_type": "execute_result"
    }
   ],
   "source": [
    "df['Estoque'].sum() #total em estoque não vendido\n"
   ]
  },
  {
   "cell_type": "code",
   "execution_count": 8,
   "id": "eb5a5fbf",
   "metadata": {},
   "outputs": [
    {
     "data": {
      "text/plain": [
       "array([38.57,  2.33,  1.28,  1.56, 17.68,  1.42,  1.09])"
      ]
     },
     "execution_count": 8,
     "metadata": {},
     "output_type": "execute_result"
    }
   ],
   "source": [
    "df['Preco_kg'].unique()"
   ]
  },
  {
   "cell_type": "code",
   "execution_count": 9,
   "id": "34df945f",
   "metadata": {},
   "outputs": [
    {
     "data": {
      "text/plain": [
       "np.float64(9.05788)"
      ]
     },
     "execution_count": 9,
     "metadata": {},
     "output_type": "execute_result"
    }
   ],
   "source": [
    "df['Preco_kg'].mean() # preço médio por kg\n",
    "# como temos dois valores com 38 e 17 eles aumentam e muito o valor dos nossos produtos, mas entretanto observamos\n",
    "# que temois mais produtos baratos que caros "
   ]
  },
  {
   "cell_type": "code",
   "execution_count": 10,
   "id": "97709c5b",
   "metadata": {},
   "outputs": [
    {
     "data": {
      "application/vnd.microsoft.datawrangler.viewer.v0+json": {
       "columns": [
        {
         "name": "index",
         "rawType": "int64",
         "type": "integer"
        },
        {
         "name": "Produto",
         "rawType": "object",
         "type": "string"
        },
        {
         "name": "Vendidos",
         "rawType": "int64",
         "type": "integer"
        }
       ],
       "ref": "f774e533-a5b4-4153-85d0-815c7149c44d",
       "rows": [
        [
         "0",
         "Algodão",
         "84813"
        ],
        [
         "6",
         "Trigo",
         "82231"
        ],
        [
         "1",
         "Arroz",
         "73925"
        ],
        [
         "5",
         "Soja",
         "71977"
        ],
        [
         "3",
         "Cana-de-açúcar",
         "70430"
        ],
        [
         "4",
         "Milho",
         "67707"
        ],
        [
         "2",
         "Café",
         "66929"
        ]
       ],
       "shape": {
        "columns": 2,
        "rows": 7
       }
      },
      "text/html": [
       "<div>\n",
       "<style scoped>\n",
       "    .dataframe tbody tr th:only-of-type {\n",
       "        vertical-align: middle;\n",
       "    }\n",
       "\n",
       "    .dataframe tbody tr th {\n",
       "        vertical-align: top;\n",
       "    }\n",
       "\n",
       "    .dataframe thead th {\n",
       "        text-align: right;\n",
       "    }\n",
       "</style>\n",
       "<table border=\"1\" class=\"dataframe\">\n",
       "  <thead>\n",
       "    <tr style=\"text-align: right;\">\n",
       "      <th></th>\n",
       "      <th>Produto</th>\n",
       "      <th>Vendidos</th>\n",
       "    </tr>\n",
       "  </thead>\n",
       "  <tbody>\n",
       "    <tr>\n",
       "      <th>0</th>\n",
       "      <td>Algodão</td>\n",
       "      <td>84813</td>\n",
       "    </tr>\n",
       "    <tr>\n",
       "      <th>6</th>\n",
       "      <td>Trigo</td>\n",
       "      <td>82231</td>\n",
       "    </tr>\n",
       "    <tr>\n",
       "      <th>1</th>\n",
       "      <td>Arroz</td>\n",
       "      <td>73925</td>\n",
       "    </tr>\n",
       "    <tr>\n",
       "      <th>5</th>\n",
       "      <td>Soja</td>\n",
       "      <td>71977</td>\n",
       "    </tr>\n",
       "    <tr>\n",
       "      <th>3</th>\n",
       "      <td>Cana-de-açúcar</td>\n",
       "      <td>70430</td>\n",
       "    </tr>\n",
       "    <tr>\n",
       "      <th>4</th>\n",
       "      <td>Milho</td>\n",
       "      <td>67707</td>\n",
       "    </tr>\n",
       "    <tr>\n",
       "      <th>2</th>\n",
       "      <td>Café</td>\n",
       "      <td>66929</td>\n",
       "    </tr>\n",
       "  </tbody>\n",
       "</table>\n",
       "</div>"
      ],
      "text/plain": [
       "          Produto  Vendidos\n",
       "0         Algodão     84813\n",
       "6           Trigo     82231\n",
       "1           Arroz     73925\n",
       "5            Soja     71977\n",
       "3  Cana-de-açúcar     70430\n",
       "4           Milho     67707\n",
       "2            Café     66929"
      ]
     },
     "execution_count": 10,
     "metadata": {},
     "output_type": "execute_result"
    }
   ],
   "source": [
    "df.groupby('Produto')['Vendidos'].sum().reset_index().sort_values(by='Vendidos', ascending=False) # total vendido por produto  \n",
    "# Percebemos que o algodão vende muito mesmo ele sendo extremamente barato"
   ]
  },
  {
   "cell_type": "code",
   "execution_count": 11,
   "id": "d19c2635",
   "metadata": {},
   "outputs": [
    {
     "data": {
      "application/vnd.microsoft.datawrangler.viewer.v0+json": {
       "columns": [
        {
         "name": "index",
         "rawType": "int64",
         "type": "integer"
        },
        {
         "name": "Produto",
         "rawType": "object",
         "type": "string"
        },
        {
         "name": "Estoque",
         "rawType": "int64",
         "type": "integer"
        }
       ],
       "ref": "a798e5d3-bbb4-4a28-961b-5916f8241f1d",
       "rows": [
        [
         "6",
         "Trigo",
         "152750"
        ],
        [
         "0",
         "Algodão",
         "151739"
        ],
        [
         "3",
         "Cana-de-açúcar",
         "139702"
        ],
        [
         "5",
         "Soja",
         "138778"
        ],
        [
         "1",
         "Arroz",
         "136524"
        ],
        [
         "2",
         "Café",
         "128606"
        ],
        [
         "4",
         "Milho",
         "127285"
        ]
       ],
       "shape": {
        "columns": 2,
        "rows": 7
       }
      },
      "text/html": [
       "<div>\n",
       "<style scoped>\n",
       "    .dataframe tbody tr th:only-of-type {\n",
       "        vertical-align: middle;\n",
       "    }\n",
       "\n",
       "    .dataframe tbody tr th {\n",
       "        vertical-align: top;\n",
       "    }\n",
       "\n",
       "    .dataframe thead th {\n",
       "        text-align: right;\n",
       "    }\n",
       "</style>\n",
       "<table border=\"1\" class=\"dataframe\">\n",
       "  <thead>\n",
       "    <tr style=\"text-align: right;\">\n",
       "      <th></th>\n",
       "      <th>Produto</th>\n",
       "      <th>Estoque</th>\n",
       "    </tr>\n",
       "  </thead>\n",
       "  <tbody>\n",
       "    <tr>\n",
       "      <th>6</th>\n",
       "      <td>Trigo</td>\n",
       "      <td>152750</td>\n",
       "    </tr>\n",
       "    <tr>\n",
       "      <th>0</th>\n",
       "      <td>Algodão</td>\n",
       "      <td>151739</td>\n",
       "    </tr>\n",
       "    <tr>\n",
       "      <th>3</th>\n",
       "      <td>Cana-de-açúcar</td>\n",
       "      <td>139702</td>\n",
       "    </tr>\n",
       "    <tr>\n",
       "      <th>5</th>\n",
       "      <td>Soja</td>\n",
       "      <td>138778</td>\n",
       "    </tr>\n",
       "    <tr>\n",
       "      <th>1</th>\n",
       "      <td>Arroz</td>\n",
       "      <td>136524</td>\n",
       "    </tr>\n",
       "    <tr>\n",
       "      <th>2</th>\n",
       "      <td>Café</td>\n",
       "      <td>128606</td>\n",
       "    </tr>\n",
       "    <tr>\n",
       "      <th>4</th>\n",
       "      <td>Milho</td>\n",
       "      <td>127285</td>\n",
       "    </tr>\n",
       "  </tbody>\n",
       "</table>\n",
       "</div>"
      ],
      "text/plain": [
       "          Produto  Estoque\n",
       "6           Trigo   152750\n",
       "0         Algodão   151739\n",
       "3  Cana-de-açúcar   139702\n",
       "5            Soja   138778\n",
       "1           Arroz   136524\n",
       "2            Café   128606\n",
       "4           Milho   127285"
      ]
     },
     "execution_count": 11,
     "metadata": {},
     "output_type": "execute_result"
    }
   ],
   "source": [
    "df.groupby('Produto')['Estoque'].sum().reset_index().sort_values(by='Estoque', ascending=False) # total de estoque por produto  \n",
    "# Notamos que o trigo é oque mias está em estoque, mesmo ele vendendo muito, é possível repensar não só com o trigo mas com todos os outros produtos sobre se devemos produzir tanto"
   ]
  },
  {
   "cell_type": "markdown",
   "id": "63a773ea",
   "metadata": {},
   "source": [
    "## Faturamento sobre cada item da tabela"
   ]
  },
  {
   "cell_type": "code",
   "execution_count": 12,
   "id": "465e6d9d",
   "metadata": {},
   "outputs": [
    {
     "data": {
      "text/plain": [
       "array(['Café', 'Soja', 'Cana-de-açúcar', 'Arroz', 'Algodão', 'Trigo',\n",
       "       'Milho'], dtype=object)"
      ]
     },
     "execution_count": 12,
     "metadata": {},
     "output_type": "execute_result"
    }
   ],
   "source": [
    "df['Produto'].unique()"
   ]
  },
  {
   "cell_type": "code",
   "execution_count": 13,
   "id": "fa6fba74",
   "metadata": {},
   "outputs": [
    {
     "data": {
      "application/vnd.microsoft.datawrangler.viewer.v0+json": {
       "columns": [
        {
         "name": "index",
         "rawType": "int64",
         "type": "integer"
        },
        {
         "name": "Produto",
         "rawType": "object",
         "type": "string"
        },
        {
         "name": "Faturamento",
         "rawType": "float64",
         "type": "float"
        }
       ],
       "ref": "df61ca95-7034-4687-9d17-ca7ed1c3f125",
       "rows": [
        [
         "2",
         "Café",
         "2581452.0"
        ],
        [
         "0",
         "Algodão",
         "1499494.0"
        ],
        [
         "5",
         "Soja",
         "167706.0"
        ],
        [
         "6",
         "Trigo",
         "116768.0"
        ],
        [
         "1",
         "Arroz",
         "115323.0"
        ],
        [
         "3",
         "Cana-de-açúcar",
         "90150.0"
        ],
        [
         "4",
         "Milho",
         "73801.0"
        ]
       ],
       "shape": {
        "columns": 2,
        "rows": 7
       }
      },
      "text/html": [
       "<div>\n",
       "<style scoped>\n",
       "    .dataframe tbody tr th:only-of-type {\n",
       "        vertical-align: middle;\n",
       "    }\n",
       "\n",
       "    .dataframe tbody tr th {\n",
       "        vertical-align: top;\n",
       "    }\n",
       "\n",
       "    .dataframe thead th {\n",
       "        text-align: right;\n",
       "    }\n",
       "</style>\n",
       "<table border=\"1\" class=\"dataframe\">\n",
       "  <thead>\n",
       "    <tr style=\"text-align: right;\">\n",
       "      <th></th>\n",
       "      <th>Produto</th>\n",
       "      <th>Faturamento</th>\n",
       "    </tr>\n",
       "  </thead>\n",
       "  <tbody>\n",
       "    <tr>\n",
       "      <th>2</th>\n",
       "      <td>Café</td>\n",
       "      <td>2581452.0</td>\n",
       "    </tr>\n",
       "    <tr>\n",
       "      <th>0</th>\n",
       "      <td>Algodão</td>\n",
       "      <td>1499494.0</td>\n",
       "    </tr>\n",
       "    <tr>\n",
       "      <th>5</th>\n",
       "      <td>Soja</td>\n",
       "      <td>167706.0</td>\n",
       "    </tr>\n",
       "    <tr>\n",
       "      <th>6</th>\n",
       "      <td>Trigo</td>\n",
       "      <td>116768.0</td>\n",
       "    </tr>\n",
       "    <tr>\n",
       "      <th>1</th>\n",
       "      <td>Arroz</td>\n",
       "      <td>115323.0</td>\n",
       "    </tr>\n",
       "    <tr>\n",
       "      <th>3</th>\n",
       "      <td>Cana-de-açúcar</td>\n",
       "      <td>90150.0</td>\n",
       "    </tr>\n",
       "    <tr>\n",
       "      <th>4</th>\n",
       "      <td>Milho</td>\n",
       "      <td>73801.0</td>\n",
       "    </tr>\n",
       "  </tbody>\n",
       "</table>\n",
       "</div>"
      ],
      "text/plain": [
       "          Produto  Faturamento\n",
       "2            Café    2581452.0\n",
       "0         Algodão    1499494.0\n",
       "5            Soja     167706.0\n",
       "6           Trigo     116768.0\n",
       "1           Arroz     115323.0\n",
       "3  Cana-de-açúcar      90150.0\n",
       "4           Milho      73801.0"
      ]
     },
     "execution_count": 13,
     "metadata": {},
     "output_type": "execute_result"
    }
   ],
   "source": [
    "\n",
    "df['Faturamento'] = df['Vendidos'] * df['Preco_kg']\n",
    "faturamento_total = df.groupby('Produto')['Faturamento'].sum().reset_index().round().sort_values(by=\"Faturamento\", ascending=False)\n",
    "faturamento_total\n",
    "# Mesmo o algodão sendo mais vendido o café nos rende mais, mesmo sendo o que menos vende entre todos os produtos# Percebemos tambêm que o milho vende pouco e faturou pouco, logo é nescessário discutir sobre a continuidade de cultiva-lo\n",
    "\n"
   ]
  },
  {
   "cell_type": "code",
   "execution_count": 14,
   "id": "4c767c2d",
   "metadata": {},
   "outputs": [
    {
     "name": "stdout",
     "output_type": "stream",
     "text": [
      "Produto        CaféAlgodãoSojaTrigoArrozCana-de-açúcarMilho\n",
      "Faturamento                                       4644694.0\n",
      "dtype: object\n"
     ]
    },
    {
     "data": {
      "application/vnd.microsoft.datawrangler.viewer.v0+json": {
       "columns": [
        {
         "name": "index",
         "rawType": "object",
         "type": "string"
        },
        {
         "name": "0",
         "rawType": "object",
         "type": "unknown"
        }
       ],
       "ref": "771d3d8d-b0c3-439c-a2a6-f053bb8a6363",
       "rows": [
        [
         "Produto",
         "CaféAlgodãoSojaTrigoArrozCana-de-açúcarMilho"
        ],
        [
         "Faturamento",
         "4644694.0"
        ]
       ],
       "shape": {
        "columns": 1,
        "rows": 2
       }
      },
      "text/plain": [
       "Produto        CaféAlgodãoSojaTrigoArrozCana-de-açúcarMilho\n",
       "Faturamento                                       4644694.0\n",
       "dtype: object"
      ]
     },
     "execution_count": 14,
     "metadata": {},
     "output_type": "execute_result"
    }
   ],
   "source": [
    "print(faturamento_total.sum())\n",
    "ft = faturamento_total.sum()\n",
    "ft\n",
    "#Faturamento total obtido das vendas dos produtos"
   ]
  },
  {
   "cell_type": "markdown",
   "id": "76443dd4",
   "metadata": {},
   "source": [
    "## Itens não vendidos(Em estoque)"
   ]
  },
  {
   "cell_type": "code",
   "execution_count": 15,
   "id": "07da672c",
   "metadata": {},
   "outputs": [
    {
     "name": "stdout",
     "output_type": "stream",
     "text": [
      "          Produto  Não_vendidos\n",
      "2            Café    4960333.42\n",
      "0         Algodão    2682745.52\n",
      "5            Soja     323352.74\n",
      "6           Trigo     216905.00\n",
      "1           Arroz     212977.44\n",
      "3  Cana-de-açúcar     178818.56\n",
      "4           Milho     138740.65\n"
     ]
    }
   ],
   "source": [
    "# Calculando a perda de cada linha\n",
    "df[\"Não_vendidos\"] = df['Estoque'] * df[\"Preco_kg\"]\n",
    "\n",
    "# Agrupando pelo produto\n",
    "Perdas = df.groupby('Produto')['Não_vendidos'].sum().round(2).reset_index().sort_values(by=\"Não_vendidos\", ascending=False)\n",
    "\n",
    "print(Perdas)\n",
    "\n"
   ]
  },
  {
   "cell_type": "code",
   "execution_count": 16,
   "id": "bf8adae5",
   "metadata": {},
   "outputs": [
    {
     "name": "stdout",
     "output_type": "stream",
     "text": [
      "Produto         CaféAlgodãoSojaTrigoArrozCana-de-açúcarMilho\n",
      "Não_vendidos                                      8713873.33\n",
      "dtype: object\n"
     ]
    },
    {
     "data": {
      "application/vnd.microsoft.datawrangler.viewer.v0+json": {
       "columns": [
        {
         "name": "index",
         "rawType": "object",
         "type": "string"
        },
        {
         "name": "0",
         "rawType": "object",
         "type": "unknown"
        }
       ],
       "ref": "cc9c6885-f1cf-4b9e-9927-4e1f20572a56",
       "rows": [
        [
         "Produto",
         "CaféAlgodãoSojaTrigoArrozCana-de-açúcarMilho"
        ],
        [
         "Não_vendidos",
         "8713873.33"
        ]
       ],
       "shape": {
        "columns": 1,
        "rows": 2
       }
      },
      "text/plain": [
       "Produto         CaféAlgodãoSojaTrigoArrozCana-de-açúcarMilho\n",
       "Não_vendidos                                      8713873.33\n",
       "dtype: object"
      ]
     },
     "execution_count": 16,
     "metadata": {},
     "output_type": "execute_result"
    }
   ],
   "source": [
    "print(Perdas.sum())\n",
    "p = Perdas.sum()\n",
    "p"
   ]
  },
  {
   "cell_type": "code",
   "execution_count": 17,
   "id": "691ddf99",
   "metadata": {},
   "outputs": [
    {
     "name": "stdout",
     "output_type": "stream",
     "text": [
      "Produto        CaféAlgodãoSojaTrigoArrozCana-de-açúcarMilho\n",
      "Faturamento                                       4644694.0\n",
      "dtype: object Produto         CaféAlgodãoSojaTrigoArrozCana-de-açúcarMilho\n",
      "Não_vendidos                                      8713873.33\n",
      "dtype: object\n"
     ]
    }
   ],
   "source": [
    "print(faturamento_total.sum(),Perdas.sum())"
   ]
  },
  {
   "cell_type": "code",
   "execution_count": 18,
   "id": "15ed87d1",
   "metadata": {},
   "outputs": [
    {
     "data": {
      "text/plain": [
       "0.5330228962600722"
      ]
     },
     "execution_count": 18,
     "metadata": {},
     "output_type": "execute_result"
    }
   ],
   "source": [
    "Indice = 4644694.0 / 8713873.33\n",
    "Indice\n",
    "# Através desse calculo sobre o faturamneto total e perdas descobrimos que estamos estocamndo mais doque vendendendo "
   ]
  },
  {
   "cell_type": "markdown",
   "id": "f76b5c12",
   "metadata": {},
   "source": [
    "### Cidade com maiores Faturamentos e vendederoes com maiores Faturamentos"
   ]
  },
  {
   "cell_type": "code",
   "execution_count": 19,
   "id": "535abc41",
   "metadata": {},
   "outputs": [
    {
     "data": {
      "application/vnd.microsoft.datawrangler.viewer.v0+json": {
       "columns": [
        {
         "name": "index",
         "rawType": "int64",
         "type": "integer"
        },
        {
         "name": "cidade",
         "rawType": "object",
         "type": "string"
        },
        {
         "name": "Faturamento",
         "rawType": "float64",
         "type": "float"
        }
       ],
       "ref": "bf6f67c5-6681-414e-b2d2-0496928032e9",
       "rows": [
        [
         "9",
         "São Paulo",
         "555279.0"
        ],
        [
         "4",
         "Manaus",
         "494631.0"
        ],
        [
         "7",
         "Rio de Janeiro",
         "481187.0"
        ],
        [
         "6",
         "Recife",
         "481039.0"
        ],
        [
         "3",
         "Fortaleza",
         "477431.0"
        ],
        [
         "1",
         "Brasília",
         "455123.0"
        ],
        [
         "8",
         "Salvador",
         "431106.0"
        ],
        [
         "2",
         "Curitiba",
         "428082.0"
        ],
        [
         "0",
         "Belo Horizonte",
         "426561.0"
        ],
        [
         "5",
         "Porto Alegre",
         "414254.0"
        ]
       ],
       "shape": {
        "columns": 2,
        "rows": 10
       }
      },
      "text/html": [
       "<div>\n",
       "<style scoped>\n",
       "    .dataframe tbody tr th:only-of-type {\n",
       "        vertical-align: middle;\n",
       "    }\n",
       "\n",
       "    .dataframe tbody tr th {\n",
       "        vertical-align: top;\n",
       "    }\n",
       "\n",
       "    .dataframe thead th {\n",
       "        text-align: right;\n",
       "    }\n",
       "</style>\n",
       "<table border=\"1\" class=\"dataframe\">\n",
       "  <thead>\n",
       "    <tr style=\"text-align: right;\">\n",
       "      <th></th>\n",
       "      <th>cidade</th>\n",
       "      <th>Faturamento</th>\n",
       "    </tr>\n",
       "  </thead>\n",
       "  <tbody>\n",
       "    <tr>\n",
       "      <th>9</th>\n",
       "      <td>São Paulo</td>\n",
       "      <td>555279.0</td>\n",
       "    </tr>\n",
       "    <tr>\n",
       "      <th>4</th>\n",
       "      <td>Manaus</td>\n",
       "      <td>494631.0</td>\n",
       "    </tr>\n",
       "    <tr>\n",
       "      <th>7</th>\n",
       "      <td>Rio de Janeiro</td>\n",
       "      <td>481187.0</td>\n",
       "    </tr>\n",
       "    <tr>\n",
       "      <th>6</th>\n",
       "      <td>Recife</td>\n",
       "      <td>481039.0</td>\n",
       "    </tr>\n",
       "    <tr>\n",
       "      <th>3</th>\n",
       "      <td>Fortaleza</td>\n",
       "      <td>477431.0</td>\n",
       "    </tr>\n",
       "    <tr>\n",
       "      <th>1</th>\n",
       "      <td>Brasília</td>\n",
       "      <td>455123.0</td>\n",
       "    </tr>\n",
       "    <tr>\n",
       "      <th>8</th>\n",
       "      <td>Salvador</td>\n",
       "      <td>431106.0</td>\n",
       "    </tr>\n",
       "    <tr>\n",
       "      <th>2</th>\n",
       "      <td>Curitiba</td>\n",
       "      <td>428082.0</td>\n",
       "    </tr>\n",
       "    <tr>\n",
       "      <th>0</th>\n",
       "      <td>Belo Horizonte</td>\n",
       "      <td>426561.0</td>\n",
       "    </tr>\n",
       "    <tr>\n",
       "      <th>5</th>\n",
       "      <td>Porto Alegre</td>\n",
       "      <td>414254.0</td>\n",
       "    </tr>\n",
       "  </tbody>\n",
       "</table>\n",
       "</div>"
      ],
      "text/plain": [
       "           cidade  Faturamento\n",
       "9       São Paulo     555279.0\n",
       "4          Manaus     494631.0\n",
       "7  Rio de Janeiro     481187.0\n",
       "6          Recife     481039.0\n",
       "3       Fortaleza     477431.0\n",
       "1        Brasília     455123.0\n",
       "8        Salvador     431106.0\n",
       "2        Curitiba     428082.0\n",
       "0  Belo Horizonte     426561.0\n",
       "5    Porto Alegre     414254.0"
      ]
     },
     "execution_count": 19,
     "metadata": {},
     "output_type": "execute_result"
    }
   ],
   "source": [
    "City_F = df.groupby('cidade')['Faturamento'].sum().reset_index().round().sort_values(by = 'Faturamento', ascending=False)\n",
    "City_F"
   ]
  },
  {
   "cell_type": "code",
   "execution_count": 20,
   "id": "27f9ed76",
   "metadata": {},
   "outputs": [
    {
     "data": {
      "application/vnd.microsoft.datawrangler.viewer.v0+json": {
       "columns": [
        {
         "name": "index",
         "rawType": "int64",
         "type": "integer"
        },
        {
         "name": "Vendedor",
         "rawType": "object",
         "type": "string"
        },
        {
         "name": "Faturamento",
         "rawType": "float64",
         "type": "float"
        }
       ],
       "ref": "54e53438-c9cf-4db7-ac8f-d6d405792f29",
       "rows": [
        [
         "6",
         "Patrícia",
         "684681.0"
        ],
        [
         "3",
         "Fernanda",
         "612031.0"
        ],
        [
         "7",
         "Pedro",
         "606358.0"
        ],
        [
         "0",
         "Ana",
         "530639.0"
        ],
        [
         "1",
         "Carlos",
         "523892.0"
        ],
        [
         "5",
         "Maria",
         "500050.0"
        ],
        [
         "8",
         "Ricardo",
         "499178.0"
        ],
        [
         "4",
         "João",
         "387170.0"
        ],
        [
         "2",
         "Desconhecido",
         "300693.0"
        ]
       ],
       "shape": {
        "columns": 2,
        "rows": 9
       }
      },
      "text/html": [
       "<div>\n",
       "<style scoped>\n",
       "    .dataframe tbody tr th:only-of-type {\n",
       "        vertical-align: middle;\n",
       "    }\n",
       "\n",
       "    .dataframe tbody tr th {\n",
       "        vertical-align: top;\n",
       "    }\n",
       "\n",
       "    .dataframe thead th {\n",
       "        text-align: right;\n",
       "    }\n",
       "</style>\n",
       "<table border=\"1\" class=\"dataframe\">\n",
       "  <thead>\n",
       "    <tr style=\"text-align: right;\">\n",
       "      <th></th>\n",
       "      <th>Vendedor</th>\n",
       "      <th>Faturamento</th>\n",
       "    </tr>\n",
       "  </thead>\n",
       "  <tbody>\n",
       "    <tr>\n",
       "      <th>6</th>\n",
       "      <td>Patrícia</td>\n",
       "      <td>684681.0</td>\n",
       "    </tr>\n",
       "    <tr>\n",
       "      <th>3</th>\n",
       "      <td>Fernanda</td>\n",
       "      <td>612031.0</td>\n",
       "    </tr>\n",
       "    <tr>\n",
       "      <th>7</th>\n",
       "      <td>Pedro</td>\n",
       "      <td>606358.0</td>\n",
       "    </tr>\n",
       "    <tr>\n",
       "      <th>0</th>\n",
       "      <td>Ana</td>\n",
       "      <td>530639.0</td>\n",
       "    </tr>\n",
       "    <tr>\n",
       "      <th>1</th>\n",
       "      <td>Carlos</td>\n",
       "      <td>523892.0</td>\n",
       "    </tr>\n",
       "    <tr>\n",
       "      <th>5</th>\n",
       "      <td>Maria</td>\n",
       "      <td>500050.0</td>\n",
       "    </tr>\n",
       "    <tr>\n",
       "      <th>8</th>\n",
       "      <td>Ricardo</td>\n",
       "      <td>499178.0</td>\n",
       "    </tr>\n",
       "    <tr>\n",
       "      <th>4</th>\n",
       "      <td>João</td>\n",
       "      <td>387170.0</td>\n",
       "    </tr>\n",
       "    <tr>\n",
       "      <th>2</th>\n",
       "      <td>Desconhecido</td>\n",
       "      <td>300693.0</td>\n",
       "    </tr>\n",
       "  </tbody>\n",
       "</table>\n",
       "</div>"
      ],
      "text/plain": [
       "       Vendedor  Faturamento\n",
       "6      Patrícia     684681.0\n",
       "3      Fernanda     612031.0\n",
       "7         Pedro     606358.0\n",
       "0           Ana     530639.0\n",
       "1        Carlos     523892.0\n",
       "5         Maria     500050.0\n",
       "8       Ricardo     499178.0\n",
       "4          João     387170.0\n",
       "2  Desconhecido     300693.0"
      ]
     },
     "execution_count": 20,
     "metadata": {},
     "output_type": "execute_result"
    }
   ],
   "source": [
    "sales_F = df.groupby('Vendedor')['Faturamento'].sum().reset_index().round().sort_values(by = 'Faturamento', ascending=False)\n",
    "sales_F"
   ]
  },
  {
   "cell_type": "markdown",
   "id": "5f0d8a2a",
   "metadata": {},
   "source": [
    "### Cidade com maiores Vendas e vendederoes com maiores Vendas"
   ]
  },
  {
   "cell_type": "code",
   "execution_count": 21,
   "id": "d49a9ba7",
   "metadata": {},
   "outputs": [
    {
     "data": {
      "application/vnd.microsoft.datawrangler.viewer.v0+json": {
       "columns": [
        {
         "name": "index",
         "rawType": "int64",
         "type": "integer"
        },
        {
         "name": "cidade",
         "rawType": "object",
         "type": "string"
        },
        {
         "name": "Vendidos",
         "rawType": "int64",
         "type": "integer"
        }
       ],
       "ref": "e1be40c9-9641-46ef-b08a-8380238bf8ef",
       "rows": [
        [
         "7",
         "Rio de Janeiro",
         "59943"
        ],
        [
         "3",
         "Fortaleza",
         "56701"
        ],
        [
         "9",
         "São Paulo",
         "56548"
        ],
        [
         "6",
         "Recife",
         "52194"
        ],
        [
         "2",
         "Curitiba",
         "51371"
        ],
        [
         "8",
         "Salvador",
         "50931"
        ],
        [
         "4",
         "Manaus",
         "49572"
        ],
        [
         "1",
         "Brasília",
         "48192"
        ],
        [
         "5",
         "Porto Alegre",
         "47138"
        ],
        [
         "0",
         "Belo Horizonte",
         "45422"
        ]
       ],
       "shape": {
        "columns": 2,
        "rows": 10
       }
      },
      "text/html": [
       "<div>\n",
       "<style scoped>\n",
       "    .dataframe tbody tr th:only-of-type {\n",
       "        vertical-align: middle;\n",
       "    }\n",
       "\n",
       "    .dataframe tbody tr th {\n",
       "        vertical-align: top;\n",
       "    }\n",
       "\n",
       "    .dataframe thead th {\n",
       "        text-align: right;\n",
       "    }\n",
       "</style>\n",
       "<table border=\"1\" class=\"dataframe\">\n",
       "  <thead>\n",
       "    <tr style=\"text-align: right;\">\n",
       "      <th></th>\n",
       "      <th>cidade</th>\n",
       "      <th>Vendidos</th>\n",
       "    </tr>\n",
       "  </thead>\n",
       "  <tbody>\n",
       "    <tr>\n",
       "      <th>7</th>\n",
       "      <td>Rio de Janeiro</td>\n",
       "      <td>59943</td>\n",
       "    </tr>\n",
       "    <tr>\n",
       "      <th>3</th>\n",
       "      <td>Fortaleza</td>\n",
       "      <td>56701</td>\n",
       "    </tr>\n",
       "    <tr>\n",
       "      <th>9</th>\n",
       "      <td>São Paulo</td>\n",
       "      <td>56548</td>\n",
       "    </tr>\n",
       "    <tr>\n",
       "      <th>6</th>\n",
       "      <td>Recife</td>\n",
       "      <td>52194</td>\n",
       "    </tr>\n",
       "    <tr>\n",
       "      <th>2</th>\n",
       "      <td>Curitiba</td>\n",
       "      <td>51371</td>\n",
       "    </tr>\n",
       "    <tr>\n",
       "      <th>8</th>\n",
       "      <td>Salvador</td>\n",
       "      <td>50931</td>\n",
       "    </tr>\n",
       "    <tr>\n",
       "      <th>4</th>\n",
       "      <td>Manaus</td>\n",
       "      <td>49572</td>\n",
       "    </tr>\n",
       "    <tr>\n",
       "      <th>1</th>\n",
       "      <td>Brasília</td>\n",
       "      <td>48192</td>\n",
       "    </tr>\n",
       "    <tr>\n",
       "      <th>5</th>\n",
       "      <td>Porto Alegre</td>\n",
       "      <td>47138</td>\n",
       "    </tr>\n",
       "    <tr>\n",
       "      <th>0</th>\n",
       "      <td>Belo Horizonte</td>\n",
       "      <td>45422</td>\n",
       "    </tr>\n",
       "  </tbody>\n",
       "</table>\n",
       "</div>"
      ],
      "text/plain": [
       "           cidade  Vendidos\n",
       "7  Rio de Janeiro     59943\n",
       "3       Fortaleza     56701\n",
       "9       São Paulo     56548\n",
       "6          Recife     52194\n",
       "2        Curitiba     51371\n",
       "8        Salvador     50931\n",
       "4          Manaus     49572\n",
       "1        Brasília     48192\n",
       "5    Porto Alegre     47138\n",
       "0  Belo Horizonte     45422"
      ]
     },
     "execution_count": 21,
     "metadata": {},
     "output_type": "execute_result"
    }
   ],
   "source": [
    "City_Maior = df.groupby('cidade')['Vendidos'].sum().reset_index().round().sort_values(by = 'Vendidos', ascending=False)\n",
    "City_Maior\n",
    "#Constatamos que o Rio de Janeiro e Fortaleza foram os estados que mais venderam\n"
   ]
  },
  {
   "cell_type": "code",
   "execution_count": 22,
   "id": "651600ee",
   "metadata": {},
   "outputs": [
    {
     "data": {
      "image/png": "[encoded data removed]",
      "text/plain": [
       "<Figure size 800x800 with 1 Axes>"
      ]
     },
     "metadata": {},
     "output_type": "display_data"
    }
   ],
   "source": [
    "import matplotlib.pyplot as plt\n",
    "sales_Maior = df.groupby('Vendedor')['Vendidos'].sum().reset_index().round().sort_values(by = 'Vendidos', ascending=False)\n",
    "sales_Maior\n",
    "fig, ax = plt.subplots(figsize=(8, 8), facecolor='none')  # ou facecolor='transparent'\n",
    "ax.pie(\n",
    "    sales_Maior['Vendidos'],\n",
    "    labels=sales_Maior['Vendedor'],\n",
    "    autopct='%1.1f%%',\n",
    "    textprops={'color': 'white'}\n",
    ")\n",
    "plt.title('Total Vendido por Vendedor',color='white')\n",
    "plt.show()\n",
    "# Constatamos que Patrícia e Ricardo foram os vendedores que mais venderam"
   ]
  },
  {
   "cell_type": "markdown",
   "id": "9b9a5ef8",
   "metadata": {},
   "source": [
    "### Data com maiores vendas"
   ]
  },
  {
   "cell_type": "code",
   "execution_count": 23,
   "id": "6bba38fd",
   "metadata": {},
   "outputs": [],
   "source": [
    "df['Data_de_vendas'] = pd.to_datetime(df['Data_de_vendas'], errors='coerce')\n",
    "# Transforma no formato de data\n"
   ]
  },
  {
   "cell_type": "code",
   "execution_count": 24,
   "id": "8f359982",
   "metadata": {},
   "outputs": [
    {
     "data": {
      "application/vnd.microsoft.datawrangler.viewer.v0+json": {
       "columns": [
        {
         "name": "index",
         "rawType": "int64",
         "type": "integer"
        },
        {
         "name": "Data_de_vendas",
         "rawType": "datetime64[ns]",
         "type": "datetime"
        },
        {
         "name": "Vendidos",
         "rawType": "int64",
         "type": "integer"
        }
       ],
       "ref": "f2ca912d-64c1-4c95-af36-9056fa1ed467",
       "rows": [
        [
         "646",
         "2025-10-14 00:00:00",
         "1372"
        ],
        [
         "552",
         "2025-07-12 00:00:00",
         "998"
        ],
        [
         "1596",
         "2028-05-27 00:00:00",
         "996"
        ],
        [
         "1337",
         "2027-09-09 00:00:00",
         "992"
        ],
        [
         "1943",
         "2029-05-09 00:00:00",
         "989"
        ],
        [
         "1965",
         "2029-05-31 00:00:00",
         "987"
        ],
        [
         "1662",
         "2028-08-01 00:00:00",
         "982"
        ],
        [
         "1710",
         "2028-09-18 00:00:00",
         "980"
        ],
        [
         "363",
         "2025-01-02 00:00:00",
         "974"
        ],
        [
         "1564",
         "2028-04-25 00:00:00",
         "973"
        ],
        [
         "1076",
         "2026-12-20 00:00:00",
         "957"
        ],
        [
         "954",
         "2026-08-20 00:00:00",
         "934"
        ],
        [
         "1455",
         "2028-01-06 00:00:00",
         "933"
        ],
        [
         "735",
         "2026-01-13 00:00:00",
         "918"
        ],
        [
         "896",
         "2026-06-23 00:00:00",
         "909"
        ],
        [
         "1183",
         "2027-04-07 00:00:00",
         "903"
        ],
        [
         "1699",
         "2028-09-07 00:00:00",
         "895"
        ],
        [
         "886",
         "2026-06-13 00:00:00",
         "894"
        ],
        [
         "413",
         "2025-02-21 00:00:00",
         "884"
        ],
        [
         "143",
         "2024-05-24 00:00:00",
         "877"
        ],
        [
         "431",
         "2025-03-13 00:00:00",
         "877"
        ],
        [
         "358",
         "2024-12-28 00:00:00",
         "863"
        ],
        [
         "1770",
         "2028-11-17 00:00:00",
         "855"
        ],
        [
         "1597",
         "2028-05-28 00:00:00",
         "850"
        ],
        [
         "738",
         "2026-01-16 00:00:00",
         "848"
        ],
        [
         "224",
         "2024-08-14 00:00:00",
         "847"
        ],
        [
         "1817",
         "2029-01-03 00:00:00",
         "846"
        ],
        [
         "665",
         "2025-11-03 00:00:00",
         "844"
        ],
        [
         "1947",
         "2029-05-13 00:00:00",
         "842"
        ],
        [
         "1581",
         "2028-05-12 00:00:00",
         "842"
        ],
        [
         "1303",
         "2027-08-05 00:00:00",
         "831"
        ],
        [
         "17",
         "2024-01-18 00:00:00",
         "830"
        ],
        [
         "275",
         "2024-10-06 00:00:00",
         "827"
        ],
        [
         "847",
         "2026-05-05 00:00:00",
         "803"
        ],
        [
         "1663",
         "2028-08-02 00:00:00",
         "799"
        ],
        [
         "1194",
         "2027-04-18 00:00:00",
         "790"
        ],
        [
         "229",
         "2024-08-19 00:00:00",
         "789"
        ],
        [
         "1396",
         "2027-11-07 00:00:00",
         "787"
        ],
        [
         "766",
         "2026-02-13 00:00:00",
         "781"
        ],
        [
         "211",
         "2024-08-01 00:00:00",
         "778"
        ],
        [
         "1087",
         "2026-12-31 00:00:00",
         "770"
        ],
        [
         "1123",
         "2027-02-05 00:00:00",
         "754"
        ],
        [
         "1135",
         "2027-02-17 00:00:00",
         "752"
        ],
        [
         "1352",
         "2027-09-24 00:00:00",
         "747"
        ],
        [
         "1771",
         "2028-11-18 00:00:00",
         "744"
        ],
        [
         "1177",
         "2027-04-01 00:00:00",
         "737"
        ],
        [
         "1795",
         "2028-12-12 00:00:00",
         "734"
        ],
        [
         "1308",
         "2027-08-11 00:00:00",
         "734"
        ],
        [
         "155",
         "2024-06-05 00:00:00",
         "724"
        ],
        [
         "52",
         "2024-02-22 00:00:00",
         "720"
        ]
       ],
       "shape": {
        "columns": 2,
        "rows": 1988
       }
      },
      "text/html": [
       "<div>\n",
       "<style scoped>\n",
       "    .dataframe tbody tr th:only-of-type {\n",
       "        vertical-align: middle;\n",
       "    }\n",
       "\n",
       "    .dataframe tbody tr th {\n",
       "        vertical-align: top;\n",
       "    }\n",
       "\n",
       "    .dataframe thead th {\n",
       "        text-align: right;\n",
       "    }\n",
       "</style>\n",
       "<table border=\"1\" class=\"dataframe\">\n",
       "  <thead>\n",
       "    <tr style=\"text-align: right;\">\n",
       "      <th></th>\n",
       "      <th>Data_de_vendas</th>\n",
       "      <th>Vendidos</th>\n",
       "    </tr>\n",
       "  </thead>\n",
       "  <tbody>\n",
       "    <tr>\n",
       "      <th>646</th>\n",
       "      <td>2025-10-14</td>\n",
       "      <td>1372</td>\n",
       "    </tr>\n",
       "    <tr>\n",
       "      <th>552</th>\n",
       "      <td>2025-07-12</td>\n",
       "      <td>998</td>\n",
       "    </tr>\n",
       "    <tr>\n",
       "      <th>1596</th>\n",
       "      <td>2028-05-27</td>\n",
       "      <td>996</td>\n",
       "    </tr>\n",
       "    <tr>\n",
       "      <th>1337</th>\n",
       "      <td>2027-09-09</td>\n",
       "      <td>992</td>\n",
       "    </tr>\n",
       "    <tr>\n",
       "      <th>1943</th>\n",
       "      <td>2029-05-09</td>\n",
       "      <td>989</td>\n",
       "    </tr>\n",
       "    <tr>\n",
       "      <th>...</th>\n",
       "      <td>...</td>\n",
       "      <td>...</td>\n",
       "    </tr>\n",
       "    <tr>\n",
       "      <th>137</th>\n",
       "      <td>2024-05-18</td>\n",
       "      <td>1</td>\n",
       "    </tr>\n",
       "    <tr>\n",
       "      <th>374</th>\n",
       "      <td>2025-01-13</td>\n",
       "      <td>1</td>\n",
       "    </tr>\n",
       "    <tr>\n",
       "      <th>213</th>\n",
       "      <td>2024-08-03</td>\n",
       "      <td>1</td>\n",
       "    </tr>\n",
       "    <tr>\n",
       "      <th>419</th>\n",
       "      <td>2025-02-28</td>\n",
       "      <td>1</td>\n",
       "    </tr>\n",
       "    <tr>\n",
       "      <th>872</th>\n",
       "      <td>2026-05-30</td>\n",
       "      <td>1</td>\n",
       "    </tr>\n",
       "  </tbody>\n",
       "</table>\n",
       "<p>1988 rows × 2 columns</p>\n",
       "</div>"
      ],
      "text/plain": [
       "     Data_de_vendas  Vendidos\n",
       "646      2025-10-14      1372\n",
       "552      2025-07-12       998\n",
       "1596     2028-05-27       996\n",
       "1337     2027-09-09       992\n",
       "1943     2029-05-09       989\n",
       "...             ...       ...\n",
       "137      2024-05-18         1\n",
       "374      2025-01-13         1\n",
       "213      2024-08-03         1\n",
       "419      2025-02-28         1\n",
       "872      2026-05-30         1\n",
       "\n",
       "[1988 rows x 2 columns]"
      ]
     },
     "execution_count": 24,
     "metadata": {},
     "output_type": "execute_result"
    }
   ],
   "source": [
    "date_Maior = df.groupby('Data_de_vendas')['Vendidos'].sum().reset_index().round().sort_values(by = 'Vendidos', ascending=False)\n",
    "date_Maior\n",
    "# Percebemos que o dia 14 do mes 10 de 2025 foi o dia que mias obtivemos venda e o restante dos dias as vendas foram muito espalhadas"
   ]
  },
  {
   "cell_type": "markdown",
   "id": "30291ae2",
   "metadata": {},
   "source": [
    "### Por Ano"
   ]
  },
  {
   "cell_type": "code",
   "execution_count": 25,
   "id": "7345f403",
   "metadata": {},
   "outputs": [
    {
     "data": {
      "image/png": "[encoded data removed]",
      "text/plain": [
       "<Figure size 1000x600 with 1 Axes>"
      ]
     },
     "metadata": {},
     "output_type": "display_data"
    }
   ],
   "source": [
    "df['Data_de_vendas'] = pd.to_datetime(df['Data_de_vendas'], errors='coerce')\n",
    "df_filtrado = df[df['Data_de_vendas'].dt.year.isin([2024, 2025, 2026, 2027, 2028, 2029])]\n",
    "\n",
    "# Crie colunas auxiliares\n",
    "df_filtrado['Ano'] = df_filtrado['Data_de_vendas'].dt.year\n",
    "df_filtrado['Mes'] = df_filtrado['Data_de_vendas'].dt.month\n",
    "\n",
    "# Agrupe por ano e mês\n",
    "vendas_mensais = df_filtrado.groupby(['Ano', 'Mes'], as_index=False)['Vendidos'].sum()\n",
    "vendas_mensais\n",
    "# Agora, vendas_mensais terá as colunas 'Ano', 'Mes' e 'Vendidos'\n",
    "\n",
    "import matplotlib.pyplot as plt\n",
    "\n",
    "plt.figure(figsize=(10,6))\n",
    "\n",
    "for ano in vendas_mensais['Ano'].unique():\n",
    "    dados_ano = vendas_mensais[vendas_mensais['Ano'] == ano]\n",
    "    plt.plot(\n",
    "        dados_ano['Mes'],\n",
    "        dados_ano['Vendidos'],\n",
    "        marker='o',\n",
    "        label=str(ano)\n",
    "    )\n",
    "\n",
    "plt.xlabel('Mês')\n",
    "plt.ylabel('Total Vendido')\n",
    "plt.title('Vendas Mensais por Ano (2024-2029)')\n",
    "plt.legend(title='Ano')\n",
    "plt.xticks(range(1,13))\n",
    "plt.grid(True)\n",
    "plt.show()"
   ]
  },
  {
   "cell_type": "code",
   "execution_count": 26,
   "id": "13975bf7",
   "metadata": {},
   "outputs": [
    {
     "name": "stdout",
     "output_type": "stream",
     "text": [
      "   Data_de_vendas  Vendidos\n",
      "4            2028     97384\n",
      "2            2026     95509\n",
      "3            2027     94240\n",
      "0            2024     93501\n",
      "1            2025     93208\n",
      "5            2029     44170\n"
     ]
    }
   ],
   "source": [
    "faturamento_ano = df.groupby(df['Data_de_vendas'].dt.year)['Vendidos'].sum().reset_index().sort_values(by=\"Vendidos\", ascending=False)\n",
    "print(faturamento_ano)\n",
    "# Percebemos que o ano que mais lucramos foi o entre 2028 e 2024 e que de 24 e 25 foi aumentando até 2028, e que houve algo que fez as vendas cairem quase pela metade, observar oque houve para maximizar as vendas \n"
   ]
  },
  {
   "cell_type": "code",
   "execution_count": 27,
   "id": "875b774e",
   "metadata": {},
   "outputs": [
    {
     "name": "stdout",
     "output_type": "stream",
     "text": [
      "<bound method NDFrame.head of     Data_de_vendas  Vendidos\n",
      "1                2     48655\n",
      "4                5     48410\n",
      "0                1     46809\n",
      "3                4     46310\n",
      "11              12     43011\n",
      "9               10     42923\n",
      "7                8     42843\n",
      "2                3     41660\n",
      "5                6     41127\n",
      "10              11     38918\n",
      "8                9     38850\n",
      "6                7     38496>\n"
     ]
    }
   ],
   "source": [
    "faturamento_Mês = df.groupby(df['Data_de_vendas'].dt.month)['Vendidos'].sum().reset_index().sort_values(by=\"Vendidos\", ascending=False)\n",
    "print(faturamento_Mês.head)\n",
    "# Percebemos que o mês 2 e 5 venderam bem e que foi se mantendo mais reduzindo as vendas, demonstrando uma estabilidade de certa forma nas vendas"
   ]
  },
  {
   "cell_type": "code",
   "execution_count": 28,
   "id": "ef5027e0",
   "metadata": {},
   "outputs": [
    {
     "name": "stdout",
     "output_type": "stream",
     "text": [
      "    Data_de_vendas  Vendidos\n",
      "4                5     20418\n",
      "8                9     18914\n",
      "1                2     18556\n",
      "0                1     18344\n",
      "11              12     18157\n"
     ]
    }
   ],
   "source": [
    "faturamento_dia = df.groupby(df['Data_de_vendas'].dt.day)['Vendidos'].sum().reset_index().sort_values(by=\"Vendidos\", ascending=False)\n",
    "print(faturamento_dia.head(5))\n",
    "# Nota-se que o dia 5 em específico tem uma grande procura , quase 2mil vendas na frende da segunda data, devemos observar o dia 5 para saber por qual motivo ele vende mais"
   ]
  },
  {
   "cell_type": "code",
   "execution_count": 29,
   "id": "d8f33499",
   "metadata": {},
   "outputs": [
    {
     "data": {
      "application/vnd.plotly.v1+json": {
       "config": {
        "plotlyServerURL": "https://plot.ly"
       },
       "data": [
        {
         "customdata": {
          "bdata": "AAAAAMAt5kBmZmZmAgkaQQAAAAAAiOdA16NwPUvHG0EAAAAAYBXpQGZmZmbJIBpBAAAAAKCv60D2KFyP3SMdQQAAAACANOhA9ihcj50wHkEAAAAAQATnQAAAAAC6SBlBAAAAAEB86UDNzMzMPFwdQQAAAADgRO1AAAAAAIteHUEAAAAAYN7oQK5H4XoIUBpBAAAAAICc60AK16NwHfIgQQ==",
          "dtype": "f8",
          "shape": "10, 2"
         },
         "hovertemplate": "<b>%{hovertext}</b><br><br>Faturamento=%{marker.color}<br>latitude=%{lat}<br>longitude=%{lon}<br>Vendidos=%{customdata[0]}<extra></extra>",
         "hovertext": [
          "Belo Horizonte",
          "Brasília",
          "Curitiba",
          "Fortaleza",
          "Manaus",
          "Porto Alegre",
          "Recife",
          "Rio de Janeiro",
          "Salvador",
          "São Paulo"
         ],
         "lat": {
          "bdata": "Kxa/KazsM8DPEfkupZYvwAd96e3PbTnABkzg1t28DcDiOzHrxdAIwI7nM6DeCD7ADjLJyFkYIMDIef8fJ+g2wPW7sDVb8SnAPsvz4O6MN8A=",
          "dtype": "f8"
         },
         "legendgroup": "",
         "lon": {
          "bdata": "LIGU2LX3RcBS0sPQ6vBHwJlGk4sxokjAvVKWIY5FQ8AzMzMzMwNOwDzbozfcm0nAx0s3iUFwQcD7zcR0IZZFwCApIsMqQEPAyCWOPBBRR8A=",
          "dtype": "f8"
         },
         "marker": {
          "color": {
           "bdata": "ZmZmZgIJGkHXo3A9S8cbQWZmZmbJIBpB9ihcj90jHUH2KFyPnTAeQQAAAAC6SBlBzczMzDxcHUEAAAAAi14dQa5H4XoIUBpBCtejcB3yIEE=",
           "dtype": "f8"
          },
          "coloraxis": "coloraxis",
          "size": {
           "bdata": "ZmZmZgIJGkHXo3A9S8cbQWZmZmbJIBpB9ihcj90jHUH2KFyPnTAeQQAAAAC6SBlBzczMzDxcHUEAAAAAi14dQa5H4XoIUBpBCtejcB3yIEE=",
           "dtype": "f8"
          },
          "sizemode": "area",
          "sizeref": 616.9763555555555
         },
         "mode": "markers",
         "name": "",
         "showlegend": false,
         "subplot": "map",
         "type": "scattermap"
        }
       ],
       "layout": {
        "coloraxis": {
         "colorbar": {
          "title": {
           "text": "Faturamento"
          }
         },
         "colorscale": [
          [
           0,
           "#0d0887"
          ],
          [
           0.1111111111111111,
           "#46039f"
          ],
          [
           0.2222222222222222,
           "#7201a8"
          ],
          [
           0.3333333333333333,
           "#9c179e"
          ],
          [
           0.4444444444444444,
           "#bd3786"
          ],
          [
           0.5555555555555556,
           "#d8576b"
          ],
          [
           0.6666666666666666,
           "#ed7953"
          ],
          [
           0.7777777777777778,
           "#fb9f3a"
          ],
          [
           0.8888888888888888,
           "#fdca26"
          ],
          [
           1,
           "#f0f921"
          ]
         ]
        },
        "legend": {
         "itemsizing": "constant",
         "tracegroupgap": 0
        },
        "map": {
         "center": {
          "lat": -16.5477818,
          "lon": -45.405510699999994
         },
         "domain": {
          "x": [
           0,
           1
          ],
          "y": [
           0,
           1
          ]
         },
         "style": "carto-darkmatter",
         "zoom": 4
        },
        "mapbox": {
         "center": {
          "lat": -16.5477818,
          "lon": -45.405510699999994
         },
         "zoom": 4
        },
        "margin": {
         "b": 0,
         "l": 0,
         "r": 0,
         "t": 0
        },
        "template": {
         "data": {
          "bar": [
           {
            "error_x": {
             "color": "#2a3f5f"
            },
            "error_y": {
             "color": "#2a3f5f"
            },
            "marker": {
             "line": {
              "color": "#E5ECF6",
              "width": 0.5
             },
             "pattern": {
              "fillmode": "overlay",
              "size": 10,
              "solidity": 0.2
             }
            },
            "type": "bar"
           }
          ],
          "barpolar": [
           {
            "marker": {
             "line": {
              "color": "#E5ECF6",
              "width": 0.5
             },
             "pattern": {
              "fillmode": "overlay",
              "size": 10,
              "solidity": 0.2
             }
            },
            "type": "barpolar"
           }
          ],
          "carpet": [
           {
            "aaxis": {
             "endlinecolor": "#2a3f5f",
             "gridcolor": "white",
             "linecolor": "white",
             "minorgridcolor": "white",
             "startlinecolor": "#2a3f5f"
            },
            "baxis": {
             "endlinecolor": "#2a3f5f",
             "gridcolor": "white",
             "linecolor": "white",
             "minorgridcolor": "white",
             "startlinecolor": "#2a3f5f"
            },
            "type": "carpet"
           }
          ],
          "choropleth": [
           {
            "colorbar": {
             "outlinewidth": 0,
             "ticks": ""
            },
            "type": "choropleth"
           }
          ],
          "contour": [
           {
            "colorbar": {
             "outlinewidth": 0,
             "ticks": ""
            },
            "colorscale": [
             [
              0,
              "#0d0887"
             ],
             [
              0.1111111111111111,
              "#46039f"
             ],
             [
              0.2222222222222222,
              "#7201a8"
             ],
             [
              0.3333333333333333,
              "#9c179e"
             ],
             [
              0.4444444444444444,
              "#bd3786"
             ],
             [
              0.5555555555555556,
              "#d8576b"
             ],
             [
              0.6666666666666666,
              "#ed7953"
             ],
             [
              0.7777777777777778,
              "#fb9f3a"
             ],
             [
              0.8888888888888888,
              "#fdca26"
             ],
             [
              1,
              "#f0f921"
             ]
            ],
            "type": "contour"
           }
          ],
          "contourcarpet": [
           {
            "colorbar": {
             "outlinewidth": 0,
             "ticks": ""
            },
            "type": "contourcarpet"
           }
          ],
          "heatmap": [
           {
            "colorbar": {
             "outlinewidth": 0,
             "ticks": ""
            },
            "colorscale": [
             [
              0,
              "#0d0887"
             ],
             [
              0.1111111111111111,
              "#46039f"
             ],
             [
              0.2222222222222222,
              "#7201a8"
             ],
             [
              0.3333333333333333,
              "#9c179e"
             ],
             [
              0.4444444444444444,
              "#bd3786"
             ],
             [
              0.5555555555555556,
              "#d8576b"
             ],
             [
              0.6666666666666666,
              "#ed7953"
             ],
             [
              0.7777777777777778,
              "#fb9f3a"
             ],
             [
              0.8888888888888888,
              "#fdca26"
             ],
             [
              1,
              "#f0f921"
             ]
            ],
            "type": "heatmap"
           }
          ],
          "histogram": [
           {
            "marker": {
             "pattern": {
              "fillmode": "overlay",
              "size": 10,
              "solidity": 0.2
             }
            },
            "type": "histogram"
           }
          ],
          "histogram2d": [
           {
            "colorbar": {
             "outlinewidth": 0,
             "ticks": ""
            },
            "colorscale": [
             [
              0,
              "#0d0887"
             ],
             [
              0.1111111111111111,
              "#46039f"
             ],
             [
              0.2222222222222222,
              "#7201a8"
             ],
             [
              0.3333333333333333,
              "#9c179e"
             ],
             [
              0.4444444444444444,
              "#bd3786"
             ],
             [
              0.5555555555555556,
              "#d8576b"
             ],
             [
              0.6666666666666666,
              "#ed7953"
             ],
             [
              0.7777777777777778,
              "#fb9f3a"
             ],
             [
              0.8888888888888888,
              "#fdca26"
             ],
             [
              1,
              "#f0f921"
             ]
            ],
            "type": "histogram2d"
           }
          ],
          "histogram2dcontour": [
           {
            "colorbar": {
             "outlinewidth": 0,
             "ticks": ""
            },
            "colorscale": [
             [
              0,
              "#0d0887"
             ],
             [
              0.1111111111111111,
              "#46039f"
             ],
             [
              0.2222222222222222,
              "#7201a8"
             ],
             [
              0.3333333333333333,
              "#9c179e"
             ],
             [
              0.4444444444444444,
              "#bd3786"
             ],
             [
              0.5555555555555556,
              "#d8576b"
             ],
             [
              0.6666666666666666,
              "#ed7953"
             ],
             [
              0.7777777777777778,
              "#fb9f3a"
             ],
             [
              0.8888888888888888,
              "#fdca26"
             ],
             [
              1,
              "#f0f921"
             ]
            ],
            "type": "histogram2dcontour"
           }
          ],
          "mesh3d": [
           {
            "colorbar": {
             "outlinewidth": 0,
             "ticks": ""
            },
            "type": "mesh3d"
           }
          ],
          "parcoords": [
           {
            "line": {
             "colorbar": {
              "outlinewidth": 0,
              "ticks": ""
             }
            },
            "type": "parcoords"
           }
          ],
          "pie": [
           {
            "automargin": true,
            "type": "pie"
           }
          ],
          "scatter": [
           {
            "fillpattern": {
             "fillmode": "overlay",
             "size": 10,
             "solidity": 0.2
            },
            "type": "scatter"
           }
          ],
          "scatter3d": [
           {
            "line": {
             "colorbar": {
              "outlinewidth": 0,
              "ticks": ""
             }
            },
            "marker": {
             "colorbar": {
              "outlinewidth": 0,
              "ticks": ""
             }
            },
            "type": "scatter3d"
           }
          ],
          "scattercarpet": [
           {
            "marker": {
             "colorbar": {
              "outlinewidth": 0,
              "ticks": ""
             }
            },
            "type": "scattercarpet"
           }
          ],
          "scattergeo": [
           {
            "marker": {
             "colorbar": {
              "outlinewidth": 0,
              "ticks": ""
             }
            },
            "type": "scattergeo"
           }
          ],
          "scattergl": [
           {
            "marker": {
             "colorbar": {
              "outlinewidth": 0,
              "ticks": ""
             }
            },
            "type": "scattergl"
           }
          ],
          "scattermap": [
           {
            "marker": {
             "colorbar": {
              "outlinewidth": 0,
              "ticks": ""
             }
            },
            "type": "scattermap"
           }
          ],
          "scattermapbox": [
           {
            "marker": {
             "colorbar": {
              "outlinewidth": 0,
              "ticks": ""
             }
            },
            "type": "scattermapbox"
           }
          ],
          "scatterpolar": [
           {
            "marker": {
             "colorbar": {
              "outlinewidth": 0,
              "ticks": ""
             }
            },
            "type": "scatterpolar"
           }
          ],
          "scatterpolargl": [
           {
            "marker": {
             "colorbar": {
              "outlinewidth": 0,
              "ticks": ""
             }
            },
            "type": "scatterpolargl"
           }
          ],
          "scatterternary": [
           {
            "marker": {
             "colorbar": {
              "outlinewidth": 0,
              "ticks": ""
             }
            },
            "type": "scatterternary"
           }
          ],
          "surface": [
           {
            "colorbar": {
             "outlinewidth": 0,
             "ticks": ""
            },
            "colorscale": [
             [
              0,
              "#0d0887"
             ],
             [
              0.1111111111111111,
              "#46039f"
             ],
             [
              0.2222222222222222,
              "#7201a8"
             ],
             [
              0.3333333333333333,
              "#9c179e"
             ],
             [
              0.4444444444444444,
              "#bd3786"
             ],
             [
              0.5555555555555556,
              "#d8576b"
             ],
             [
              0.6666666666666666,
              "#ed7953"
             ],
             [
              0.7777777777777778,
              "#fb9f3a"
             ],
             [
              0.8888888888888888,
              "#fdca26"
             ],
             [
              1,
              "#f0f921"
             ]
            ],
            "type": "surface"
           }
          ],
          "table": [
           {
            "cells": {
             "fill": {
              "color": "#EBF0F8"
             },
             "line": {
              "color": "white"
             }
            },
            "header": {
             "fill": {
              "color": "#C8D4E3"
             },
             "line": {
              "color": "white"
             }
            },
            "type": "table"
           }
          ]
         },
         "layout": {
          "annotationdefaults": {
           "arrowcolor": "#2a3f5f",
           "arrowhead": 0,
           "arrowwidth": 1
          },
          "autotypenumbers": "strict",
          "coloraxis": {
           "colorbar": {
            "outlinewidth": 0,
            "ticks": ""
           }
          },
          "colorscale": {
           "diverging": [
            [
             0,
             "#8e0152"
            ],
            [
             0.1,
             "#c51b7d"
            ],
            [
             0.2,
             "#de77ae"
            ],
            [
             0.3,
             "#f1b6da"
            ],
            [
             0.4,
             "#fde0ef"
            ],
            [
             0.5,
             "#f7f7f7"
            ],
            [
             0.6,
             "#e6f5d0"
            ],
            [
             0.7,
             "#b8e186"
            ],
            [
             0.8,
             "#7fbc41"
            ],
            [
             0.9,
             "#4d9221"
            ],
            [
             1,
             "#276419"
            ]
           ],
           "sequential": [
            [
             0,
             "#0d0887"
            ],
            [
             0.1111111111111111,
             "#46039f"
            ],
            [
             0.2222222222222222,
             "#7201a8"
            ],
            [
             0.3333333333333333,
             "#9c179e"
            ],
            [
             0.4444444444444444,
             "#bd3786"
            ],
            [
             0.5555555555555556,
             "#d8576b"
            ],
            [
             0.6666666666666666,
             "#ed7953"
            ],
            [
             0.7777777777777778,
             "#fb9f3a"
            ],
            [
             0.8888888888888888,
             "#fdca26"
            ],
            [
             1,
             "#f0f921"
            ]
           ],
           "sequentialminus": [
            [
             0,
             "#0d0887"
            ],
            [
             0.1111111111111111,
             "#46039f"
            ],
            [
             0.2222222222222222,
             "#7201a8"
            ],
            [
             0.3333333333333333,
             "#9c179e"
            ],
            [
             0.4444444444444444,
             "#bd3786"
            ],
            [
             0.5555555555555556,
             "#d8576b"
            ],
            [
             0.6666666666666666,
             "#ed7953"
            ],
            [
             0.7777777777777778,
             "#fb9f3a"
            ],
            [
             0.8888888888888888,
             "#fdca26"
            ],
            [
             1,
             "#f0f921"
            ]
           ]
          },
          "colorway": [
           "#636efa",
           "#EF553B",
           "#00cc96",
           "#ab63fa",
           "#FFA15A",
           "#19d3f3",
           "#FF6692",
           "#B6E880",
           "#FF97FF",
           "#FECB52"
          ],
          "font": {
           "color": "#2a3f5f"
          },
          "geo": {
           "bgcolor": "white",
           "lakecolor": "white",
           "landcolor": "#E5ECF6",
           "showlakes": true,
           "showland": true,
           "subunitcolor": "white"
          },
          "hoverlabel": {
           "align": "left"
          },
          "hovermode": "closest",
          "mapbox": {
           "style": "light"
          },
          "paper_bgcolor": "white",
          "plot_bgcolor": "#E5ECF6",
          "polar": {
           "angularaxis": {
            "gridcolor": "white",
            "linecolor": "white",
            "ticks": ""
           },
           "bgcolor": "#E5ECF6",
           "radialaxis": {
            "gridcolor": "white",
            "linecolor": "white",
            "ticks": ""
           }
          },
          "scene": {
           "xaxis": {
            "backgroundcolor": "#E5ECF6",
            "gridcolor": "white",
            "gridwidth": 2,
            "linecolor": "white",
            "showbackground": true,
            "ticks": "",
            "zerolinecolor": "white"
           },
           "yaxis": {
            "backgroundcolor": "#E5ECF6",
            "gridcolor": "white",
            "gridwidth": 2,
            "linecolor": "white",
            "showbackground": true,
            "ticks": "",
            "zerolinecolor": "white"
           },
           "zaxis": {
            "backgroundcolor": "#E5ECF6",
            "gridcolor": "white",
            "gridwidth": 2,
            "linecolor": "white",
            "showbackground": true,
            "ticks": "",
            "zerolinecolor": "white"
           }
          },
          "shapedefaults": {
           "line": {
            "color": "#2a3f5f"
           }
          },
          "ternary": {
           "aaxis": {
            "gridcolor": "white",
            "linecolor": "white",
            "ticks": ""
           },
           "baxis": {
            "gridcolor": "white",
            "linecolor": "white",
            "ticks": ""
           },
           "bgcolor": "#E5ECF6",
           "caxis": {
            "gridcolor": "white",
            "linecolor": "white",
            "ticks": ""
           }
          },
          "title": {
           "x": 0.05
          },
          "xaxis": {
           "automargin": true,
           "gridcolor": "white",
           "linecolor": "white",
           "ticks": "",
           "title": {
            "standoff": 15
           },
           "zerolinecolor": "white",
           "zerolinewidth": 2
          },
          "yaxis": {
           "automargin": true,
           "gridcolor": "white",
           "linecolor": "white",
           "ticks": "",
           "title": {
            "standoff": 15
           },
           "zerolinecolor": "white",
           "zerolinewidth": 2
          }
         }
        }
       }
      }
     },
     "metadata": {},
     "output_type": "display_data"
    }
   ],
   "source": [
    "df_cidade = df.groupby(\"cidade\", as_index=False).agg({\n",
    "    \"Faturamento\": \"sum\",   \n",
    "    \"Vendidos\": \"sum\",      \n",
    "    \"latitude\": \"first\",    \n",
    "    \"longitude\": \"first\"    \n",
    "})\n",
    "\n",
    "import plotly.express as px\n",
    "\n",
    "fig = px.scatter_map(\n",
    "    df_cidade,\n",
    "    lat=\"latitude\",\n",
    "    lon=\"longitude\",\n",
    "    size=\"Faturamento\",      \n",
    "    color=\"Faturamento\",     \n",
    "    hover_name=\"cidade\",\n",
    "    hover_data=[\"Vendidos\", \"Faturamento\"],  # mostra vendas totais e faturamento\n",
    "    size_max=30,\n",
    "    zoom=4\n",
    ")\n",
    "\n",
    "fig.update_layout(map_style=\"carto-darkmatter\")\n",
    "fig.update_layout(margin={\"r\":0,\"t\":0,\"l\":0,\"b\":0})\n",
    "fig.show()\n",
    "\n",
    "\n",
    "# Representação gráfica com plotly.express das cidade com maior faturamento"
   ]
  },
  {
   "cell_type": "code",
   "execution_count": 30,
   "id": "7a3c08fa",
   "metadata": {},
   "outputs": [
    {
     "data": {
      "application/vnd.plotly.v1+json": {
       "config": {
        "plotlyServerURL": "https://plot.ly"
       },
       "data": [
        {
         "customdata": {
          "bdata": "AAAAAMBU7UAfhevRnjEgQQAAAABA2u1AFK5H4dD5H0EAAAAAQLDeQJqZmZlVWhJBAAAAAMCl7kA9Ctejfq0iQQAAAABgQetAexSuR4ihF0EAAAAA4EfsQD4K16NIhR5BAAAAAMAu70DsUbgeEeUkQQAAAABgNu5AKVyPwiyBIkEAAAAAQNTuQNejcD2pdx5B",
          "dtype": "f8",
          "shape": "9, 2"
         },
         "hovertemplate": "<b>%{hovertext}</b><br><br>Faturamento=%{marker.color}<br>latitude=%{lat}<br>longitude=%{lon}<br>Vendidos=%{customdata[0]}<extra></extra>",
         "hovertext": [
          "Ana",
          "Carlos",
          "Desconhecido",
          "Fernanda",
          "João",
          "Maria",
          "Patrícia",
          "Pedro",
          "Ricardo"
         ],
         "lat": {
          "bdata": "B33p7c9tOcArFr8prOwzwD7L8+DujDfAzxH5LqWWL8DPEfkupZYvwOI7MevF0AjABkzg1t28DcDIef8fJ+g2wA4yychZGCDA",
          "dtype": "f8"
         },
         "legendgroup": "",
         "lon": {
          "bdata": "mUaTizGiSMAsgZTYtfdFwMgljjwQUUfAUtLD0OrwR8BS0sPQ6vBHwDMzMzMzA07AvVKWIY5FQ8D7zcR0IZZFwMdLN4lBcEHA",
          "dtype": "f8"
         },
         "marker": {
          "color": {
           "bdata": "H4Xr0Z4xIEEUrkfh0PkfQZqZmZlVWhJBPQrXo36tIkF7FK5HiKEXQT4K16NIhR5B7FG4HhHlJEEpXI/CLIEiQdejcD2pdx5B",
           "dtype": "f8"
          },
          "coloraxis": "coloraxis",
          "size": {
           "bdata": "H4Xr0Z4xIEEUrkfh0PkfQZqZmZlVWhJBPQrXo36tIkF7FK5HiKEXQT4K16NIhR5B7FG4HhHlJEEpXI/CLIEiQdejcD2pdx5B",
           "dtype": "f8"
          },
          "sizemode": "area",
          "sizeref": 760.7561777777778
         },
         "mode": "markers",
         "name": "",
         "showlegend": false,
         "subplot": "map",
         "type": "scattermap"
        }
       ],
       "layout": {
        "coloraxis": {
         "colorbar": {
          "title": {
           "text": "Faturamento"
          }
         },
         "colorscale": [
          [
           0,
           "#0d0887"
          ],
          [
           0.1111111111111111,
           "#46039f"
          ],
          [
           0.2222222222222222,
           "#7201a8"
          ],
          [
           0.3333333333333333,
           "#9c179e"
          ],
          [
           0.4444444444444444,
           "#bd3786"
          ],
          [
           0.5555555555555556,
           "#d8576b"
          ],
          [
           0.6666666666666666,
           "#ed7953"
          ],
          [
           0.7777777777777778,
           "#fb9f3a"
          ],
          [
           0.8888888888888888,
           "#fdca26"
          ],
          [
           1,
           "#f0f921"
          ]
         ]
        },
        "legend": {
         "itemsizing": "constant",
         "tracegroupgap": 0
        },
        "map": {
         "center": {
          "lat": -15.362889,
          "lon": -45.802034444444445
         },
         "domain": {
          "x": [
           0,
           1
          ],
          "y": [
           0,
           1
          ]
         },
         "style": "carto-darkmatter",
         "zoom": 4
        },
        "mapbox": {
         "center": {
          "lat": -15.362889,
          "lon": -45.802034444444445
         },
         "zoom": 4
        },
        "margin": {
         "b": 0,
         "l": 0,
         "r": 0,
         "t": 0
        },
        "template": {
         "data": {
          "bar": [
           {
            "error_x": {
             "color": "#2a3f5f"
            },
            "error_y": {
             "color": "#2a3f5f"
            },
            "marker": {
             "line": {
              "color": "#E5ECF6",
              "width": 0.5
             },
             "pattern": {
              "fillmode": "overlay",
              "size": 10,
              "solidity": 0.2
             }
            },
            "type": "bar"
           }
          ],
          "barpolar": [
           {
            "marker": {
             "line": {
              "color": "#E5ECF6",
              "width": 0.5
             },
             "pattern": {
              "fillmode": "overlay",
              "size": 10,
              "solidity": 0.2
             }
            },
            "type": "barpolar"
           }
          ],
          "carpet": [
           {
            "aaxis": {
             "endlinecolor": "#2a3f5f",
             "gridcolor": "white",
             "linecolor": "white",
             "minorgridcolor": "white",
             "startlinecolor": "#2a3f5f"
            },
            "baxis": {
             "endlinecolor": "#2a3f5f",
             "gridcolor": "white",
             "linecolor": "white",
             "minorgridcolor": "white",
             "startlinecolor": "#2a3f5f"
            },
            "type": "carpet"
           }
          ],
          "choropleth": [
           {
            "colorbar": {
             "outlinewidth": 0,
             "ticks": ""
            },
            "type": "choropleth"
           }
          ],
          "contour": [
           {
            "colorbar": {
             "outlinewidth": 0,
             "ticks": ""
            },
            "colorscale": [
             [
              0,
              "#0d0887"
             ],
             [
              0.1111111111111111,
              "#46039f"
             ],
             [
              0.2222222222222222,
              "#7201a8"
             ],
             [
              0.3333333333333333,
              "#9c179e"
             ],
             [
              0.4444444444444444,
              "#bd3786"
             ],
             [
              0.5555555555555556,
              "#d8576b"
             ],
             [
              0.6666666666666666,
              "#ed7953"
             ],
             [
              0.7777777777777778,
              "#fb9f3a"
             ],
             [
              0.8888888888888888,
              "#fdca26"
             ],
             [
              1,
              "#f0f921"
             ]
            ],
            "type": "contour"
           }
          ],
          "contourcarpet": [
           {
            "colorbar": {
             "outlinewidth": 0,
             "ticks": ""
            },
            "type": "contourcarpet"
           }
          ],
          "heatmap": [
           {
            "colorbar": {
             "outlinewidth": 0,
             "ticks": ""
            },
            "colorscale": [
             [
              0,
              "#0d0887"
             ],
             [
              0.1111111111111111,
              "#46039f"
             ],
             [
              0.2222222222222222,
              "#7201a8"
             ],
             [
              0.3333333333333333,
              "#9c179e"
             ],
             [
              0.4444444444444444,
              "#bd3786"
             ],
             [
              0.5555555555555556,
              "#d8576b"
             ],
             [
              0.6666666666666666,
              "#ed7953"
             ],
             [
              0.7777777777777778,
              "#fb9f3a"
             ],
             [
              0.8888888888888888,
              "#fdca26"
             ],
             [
              1,
              "#f0f921"
             ]
            ],
            "type": "heatmap"
           }
          ],
          "histogram": [
           {
            "marker": {
             "pattern": {
              "fillmode": "overlay",
              "size": 10,
              "solidity": 0.2
             }
            },
            "type": "histogram"
           }
          ],
          "histogram2d": [
           {
            "colorbar": {
             "outlinewidth": 0,
             "ticks": ""
            },
            "colorscale": [
             [
              0,
              "#0d0887"
             ],
             [
              0.1111111111111111,
              "#46039f"
             ],
             [
              0.2222222222222222,
              "#7201a8"
             ],
             [
              0.3333333333333333,
              "#9c179e"
             ],
             [
              0.4444444444444444,
              "#bd3786"
             ],
             [
              0.5555555555555556,
              "#d8576b"
             ],
             [
              0.6666666666666666,
              "#ed7953"
             ],
             [
              0.7777777777777778,
              "#fb9f3a"
             ],
             [
              0.8888888888888888,
              "#fdca26"
             ],
             [
              1,
              "#f0f921"
             ]
            ],
            "type": "histogram2d"
           }
          ],
          "histogram2dcontour": [
           {
            "colorbar": {
             "outlinewidth": 0,
             "ticks": ""
            },
            "colorscale": [
             [
              0,
              "#0d0887"
             ],
             [
              0.1111111111111111,
              "#46039f"
             ],
             [
              0.2222222222222222,
              "#7201a8"
             ],
             [
              0.3333333333333333,
              "#9c179e"
             ],
             [
              0.4444444444444444,
              "#bd3786"
             ],
             [
              0.5555555555555556,
              "#d8576b"
             ],
             [
              0.6666666666666666,
              "#ed7953"
             ],
             [
              0.7777777777777778,
              "#fb9f3a"
             ],
             [
              0.8888888888888888,
              "#fdca26"
             ],
             [
              1,
              "#f0f921"
             ]
            ],
            "type": "histogram2dcontour"
           }
          ],
          "mesh3d": [
           {
            "colorbar": {
             "outlinewidth": 0,
             "ticks": ""
            },
            "type": "mesh3d"
           }
          ],
          "parcoords": [
           {
            "line": {
             "colorbar": {
              "outlinewidth": 0,
              "ticks": ""
             }
            },
            "type": "parcoords"
           }
          ],
          "pie": [
           {
            "automargin": true,
            "type": "pie"
           }
          ],
          "scatter": [
           {
            "fillpattern": {
             "fillmode": "overlay",
             "size": 10,
             "solidity": 0.2
            },
            "type": "scatter"
           }
          ],
          "scatter3d": [
           {
            "line": {
             "colorbar": {
              "outlinewidth": 0,
              "ticks": ""
             }
            },
            "marker": {
             "colorbar": {
              "outlinewidth": 0,
              "ticks": ""
             }
            },
            "type": "scatter3d"
           }
          ],
          "scattercarpet": [
           {
            "marker": {
             "colorbar": {
              "outlinewidth": 0,
              "ticks": ""
             }
            },
            "type": "scattercarpet"
           }
          ],
          "scattergeo": [
           {
            "marker": {
             "colorbar": {
              "outlinewidth": 0,
              "ticks": ""
             }
            },
            "type": "scattergeo"
           }
          ],
          "scattergl": [
           {
            "marker": {
             "colorbar": {
              "outlinewidth": 0,
              "ticks": ""
             }
            },
            "type": "scattergl"
           }
          ],
          "scattermap": [
           {
            "marker": {
             "colorbar": {
              "outlinewidth": 0,
              "ticks": ""
             }
            },
            "type": "scattermap"
           }
          ],
          "scattermapbox": [
           {
            "marker": {
             "colorbar": {
              "outlinewidth": 0,
              "ticks": ""
             }
            },
            "type": "scattermapbox"
           }
          ],
          "scatterpolar": [
           {
            "marker": {
             "colorbar": {
              "outlinewidth": 0,
              "ticks": ""
             }
            },
            "type": "scatterpolar"
           }
          ],
          "scatterpolargl": [
           {
            "marker": {
             "colorbar": {
              "outlinewidth": 0,
              "ticks": ""
             }
            },
            "type": "scatterpolargl"
           }
          ],
          "scatterternary": [
           {
            "marker": {
             "colorbar": {
              "outlinewidth": 0,
              "ticks": ""
             }
            },
            "type": "scatterternary"
           }
          ],
          "surface": [
           {
            "colorbar": {
             "outlinewidth": 0,
             "ticks": ""
            },
            "colorscale": [
             [
              0,
              "#0d0887"
             ],
             [
              0.1111111111111111,
              "#46039f"
             ],
             [
              0.2222222222222222,
              "#7201a8"
             ],
             [
              0.3333333333333333,
              "#9c179e"
             ],
             [
              0.4444444444444444,
              "#bd3786"
             ],
             [
              0.5555555555555556,
              "#d8576b"
             ],
             [
              0.6666666666666666,
              "#ed7953"
             ],
             [
              0.7777777777777778,
              "#fb9f3a"
             ],
             [
              0.8888888888888888,
              "#fdca26"
             ],
             [
              1,
              "#f0f921"
             ]
            ],
            "type": "surface"
           }
          ],
          "table": [
           {
            "cells": {
             "fill": {
              "color": "#EBF0F8"
             },
             "line": {
              "color": "white"
             }
            },
            "header": {
             "fill": {
              "color": "#C8D4E3"
             },
             "line": {
              "color": "white"
             }
            },
            "type": "table"
           }
          ]
         },
         "layout": {
          "annotationdefaults": {
           "arrowcolor": "#2a3f5f",
           "arrowhead": 0,
           "arrowwidth": 1
          },
          "autotypenumbers": "strict",
          "coloraxis": {
           "colorbar": {
            "outlinewidth": 0,
            "ticks": ""
           }
          },
          "colorscale": {
           "diverging": [
            [
             0,
             "#8e0152"
            ],
            [
             0.1,
             "#c51b7d"
            ],
            [
             0.2,
             "#de77ae"
            ],
            [
             0.3,
             "#f1b6da"
            ],
            [
             0.4,
             "#fde0ef"
            ],
            [
             0.5,
             "#f7f7f7"
            ],
            [
             0.6,
             "#e6f5d0"
            ],
            [
             0.7,
             "#b8e186"
            ],
            [
             0.8,
             "#7fbc41"
            ],
            [
             0.9,
             "#4d9221"
            ],
            [
             1,
             "#276419"
            ]
           ],
           "sequential": [
            [
             0,
             "#0d0887"
            ],
            [
             0.1111111111111111,
             "#46039f"
            ],
            [
             0.2222222222222222,
             "#7201a8"
            ],
            [
             0.3333333333333333,
             "#9c179e"
            ],
            [
             0.4444444444444444,
             "#bd3786"
            ],
            [
             0.5555555555555556,
             "#d8576b"
            ],
            [
             0.6666666666666666,
             "#ed7953"
            ],
            [
             0.7777777777777778,
             "#fb9f3a"
            ],
            [
             0.8888888888888888,
             "#fdca26"
            ],
            [
             1,
             "#f0f921"
            ]
           ],
           "sequentialminus": [
            [
             0,
             "#0d0887"
            ],
            [
             0.1111111111111111,
             "#46039f"
            ],
            [
             0.2222222222222222,
             "#7201a8"
            ],
            [
             0.3333333333333333,
             "#9c179e"
            ],
            [
             0.4444444444444444,
             "#bd3786"
            ],
            [
             0.5555555555555556,
             "#d8576b"
            ],
            [
             0.6666666666666666,
             "#ed7953"
            ],
            [
             0.7777777777777778,
             "#fb9f3a"
            ],
            [
             0.8888888888888888,
             "#fdca26"
            ],
            [
             1,
             "#f0f921"
            ]
           ]
          },
          "colorway": [
           "#636efa",
           "#EF553B",
           "#00cc96",
           "#ab63fa",
           "#FFA15A",
           "#19d3f3",
           "#FF6692",
           "#B6E880",
           "#FF97FF",
           "#FECB52"
          ],
          "font": {
           "color": "#2a3f5f"
          },
          "geo": {
           "bgcolor": "white",
           "lakecolor": "white",
           "landcolor": "#E5ECF6",
           "showlakes": true,
           "showland": true,
           "subunitcolor": "white"
          },
          "hoverlabel": {
           "align": "left"
          },
          "hovermode": "closest",
          "mapbox": {
           "style": "light"
          },
          "paper_bgcolor": "white",
          "plot_bgcolor": "#E5ECF6",
          "polar": {
           "angularaxis": {
            "gridcolor": "white",
            "linecolor": "white",
            "ticks": ""
           },
           "bgcolor": "#E5ECF6",
           "radialaxis": {
            "gridcolor": "white",
            "linecolor": "white",
            "ticks": ""
           }
          },
          "scene": {
           "xaxis": {
            "backgroundcolor": "#E5ECF6",
            "gridcolor": "white",
            "gridwidth": 2,
            "linecolor": "white",
            "showbackground": true,
            "ticks": "",
            "zerolinecolor": "white"
           },
           "yaxis": {
            "backgroundcolor": "#E5ECF6",
            "gridcolor": "white",
            "gridwidth": 2,
            "linecolor": "white",
            "showbackground": true,
            "ticks": "",
            "zerolinecolor": "white"
           },
           "zaxis": {
            "backgroundcolor": "#E5ECF6",
            "gridcolor": "white",
            "gridwidth": 2,
            "linecolor": "white",
            "showbackground": true,
            "ticks": "",
            "zerolinecolor": "white"
           }
          },
          "shapedefaults": {
           "line": {
            "color": "#2a3f5f"
           }
          },
          "ternary": {
           "aaxis": {
            "gridcolor": "white",
            "linecolor": "white",
            "ticks": ""
           },
           "baxis": {
            "gridcolor": "white",
            "linecolor": "white",
            "ticks": ""
           },
           "bgcolor": "#E5ECF6",
           "caxis": {
            "gridcolor": "white",
            "linecolor": "white",
            "ticks": ""
           }
          },
          "title": {
           "x": 0.05
          },
          "xaxis": {
           "automargin": true,
           "gridcolor": "white",
           "linecolor": "white",
           "ticks": "",
           "title": {
            "standoff": 15
           },
           "zerolinecolor": "white",
           "zerolinewidth": 2
          },
          "yaxis": {
           "automargin": true,
           "gridcolor": "white",
           "linecolor": "white",
           "ticks": "",
           "title": {
            "standoff": 15
           },
           "zerolinecolor": "white",
           "zerolinewidth": 2
          }
         }
        }
       }
      }
     },
     "metadata": {},
     "output_type": "display_data"
    }
   ],
   "source": [
    "df_vendedor = df.groupby(\"Vendedor\", as_index=False).agg({\n",
    "    \"Faturamento\": \"sum\",    \n",
    "    \"Vendidos\": \"sum\",      \n",
    "    \"latitude\": \"first\",    \n",
    "    \"longitude\": \"first\"  \n",
    "})\n",
    "\n",
    "import plotly.express as px\n",
    "\n",
    "fig = px.scatter_map(\n",
    "    df_vendedor,\n",
    "    lat=\"latitude\",\n",
    "    lon=\"longitude\",\n",
    "    size=\"Faturamento\",     \n",
    "    color=\"Faturamento\",      \n",
    "    hover_name=\"Vendedor\",  \n",
    "    hover_data=[\"Vendidos\", \"Faturamento\"],  \n",
    "    size_max=30,\n",
    "    zoom=4\n",
    ")\n",
    "\n",
    "fig.update_layout(map_style=\"carto-darkmatter\")\n",
    "fig.update_layout(margin={\"r\":0,\"t\":0,\"l\":0,\"b\":0})\n",
    "fig.show()\n",
    "\n",
    "# Representação gráfica com plotly.express das Vendedores com maior faturamento\n"
   ]
  },
  {
   "cell_type": "markdown",
   "id": "ce35bf39",
   "metadata": {},
   "source": [
    "### Outras estatistícas básicas"
   ]
  },
  {
   "cell_type": "code",
   "execution_count": 31,
   "id": "5cc0ead0",
   "metadata": {},
   "outputs": [
    {
     "data": {
      "text/plain": [
       "np.float64(259.006)"
      ]
     },
     "execution_count": 31,
     "metadata": {},
     "output_type": "execute_result"
    }
   ],
   "source": [
    "df['Vendidos'].mean()\n",
    "# Temoos que a média de vendas ficou por 259 itens diariamente"
   ]
  },
  {
   "cell_type": "code",
   "execution_count": 32,
   "id": "81baad38",
   "metadata": {},
   "outputs": [
    {
     "data": {
      "text/plain": [
       "np.float64(487.692)"
      ]
     },
     "execution_count": 32,
     "metadata": {},
     "output_type": "execute_result"
    }
   ],
   "source": [
    "\n",
    "df['Estoque'].mean()\n",
    "# Temoos que a média de itens não vendidos ficou por 488 itens diariamente"
   ]
  },
  {
   "cell_type": "code",
   "execution_count": 33,
   "id": "177dafc6",
   "metadata": {},
   "outputs": [
    {
     "data": {
      "application/vnd.microsoft.datawrangler.viewer.v0+json": {
       "columns": [
        {
         "name": "index",
         "rawType": "int64",
         "type": "integer"
        },
        {
         "name": "Produto",
         "rawType": "object",
         "type": "string"
        }
       ],
       "ref": "b9c35c35-fe3e-4888-b910-fe5fdf39135c",
       "rows": [
        [
         "0",
         "Algodão"
        ]
       ],
       "shape": {
        "columns": 1,
        "rows": 1
       }
      },
      "text/plain": [
       "0    Algodão\n",
       "Name: Produto, dtype: object"
      ]
     },
     "execution_count": 33,
     "metadata": {},
     "output_type": "execute_result"
    }
   ],
   "source": [
    "df['Produto'].mode()\n",
    "# Temos que o produto que mais vendeu foi"
   ]
  },
  {
   "cell_type": "code",
   "execution_count": 34,
   "id": "774d4e2a",
   "metadata": {},
   "outputs": [
    {
     "ename": "KeyError",
     "evalue": "'Categoria'",
     "output_type": "error",
     "traceback": [
      "\u001b[1;31m---------------------------------------------------------------------------\u001b[0m",
      "\u001b[1;31mKeyError\u001b[0m                                  Traceback (most recent call last)",
      "File \u001b[1;32mc:\\Users\\luisf\\AppData\\Local\\Programs\\Python\\Python313\\Lib\\site-packages\\pandas\\core\\indexes\\base.py:3805\u001b[0m, in \u001b[0;36mIndex.get_loc\u001b[1;34m(self, key)\u001b[0m\n\u001b[0;32m   3804\u001b[0m \u001b[38;5;28;01mtry\u001b[39;00m:\n\u001b[1;32m-> 3805\u001b[0m     \u001b[38;5;28;01mreturn\u001b[39;00m \u001b[38;5;28;43mself\u001b[39;49m\u001b[38;5;241;43m.\u001b[39;49m\u001b[43m_engine\u001b[49m\u001b[38;5;241;43m.\u001b[39;49m\u001b[43mget_loc\u001b[49m\u001b[43m(\u001b[49m\u001b[43mcasted_key\u001b[49m\u001b[43m)\u001b[49m\n\u001b[0;32m   3806\u001b[0m \u001b[38;5;28;01mexcept\u001b[39;00m \u001b[38;5;167;01mKeyError\u001b[39;00m \u001b[38;5;28;01mas\u001b[39;00m err:\n",
      "File \u001b[1;32mindex.pyx:167\u001b[0m, in \u001b[0;36mpandas._libs.index.IndexEngine.get_loc\u001b[1;34m()\u001b[0m\n",
      "File \u001b[1;32mindex.pyx:196\u001b[0m, in \u001b[0;36mpandas._libs.index.IndexEngine.get_loc\u001b[1;34m()\u001b[0m\n",
      "File \u001b[1;32mpandas\\\\_libs\\\\hashtable_class_helper.pxi:7081\u001b[0m, in \u001b[0;36mpandas._libs.hashtable.PyObjectHashTable.get_item\u001b[1;34m()\u001b[0m\n",
      "File \u001b[1;32mpandas\\\\_libs\\\\hashtable_class_helper.pxi:7089\u001b[0m, in \u001b[0;36mpandas._libs.hashtable.PyObjectHashTable.get_item\u001b[1;34m()\u001b[0m\n",
      "\u001b[1;31mKeyError\u001b[0m: 'Categoria'",
      "\nThe above exception was the direct cause of the following exception:\n",
      "\u001b[1;31mKeyError\u001b[0m                                  Traceback (most recent call last)",
      "Cell \u001b[1;32mIn[34], line 1\u001b[0m\n\u001b[1;32m----> 1\u001b[0m \u001b[43mdf\u001b[49m\u001b[43m[\u001b[49m\u001b[38;5;124;43m'\u001b[39;49m\u001b[38;5;124;43mCategoria\u001b[39;49m\u001b[38;5;124;43m'\u001b[39;49m\u001b[43m]\u001b[49m\u001b[38;5;241m.\u001b[39munique() \u001b[38;5;66;03m# NÃO EXITE MAIS A COLUNA CATEGORIA\u001b[39;00m\n",
      "File \u001b[1;32mc:\\Users\\luisf\\AppData\\Local\\Programs\\Python\\Python313\\Lib\\site-packages\\pandas\\core\\frame.py:4102\u001b[0m, in \u001b[0;36mDataFrame.__getitem__\u001b[1;34m(self, key)\u001b[0m\n\u001b[0;32m   4100\u001b[0m \u001b[38;5;28;01mif\u001b[39;00m \u001b[38;5;28mself\u001b[39m\u001b[38;5;241m.\u001b[39mcolumns\u001b[38;5;241m.\u001b[39mnlevels \u001b[38;5;241m>\u001b[39m \u001b[38;5;241m1\u001b[39m:\n\u001b[0;32m   4101\u001b[0m     \u001b[38;5;28;01mreturn\u001b[39;00m \u001b[38;5;28mself\u001b[39m\u001b[38;5;241m.\u001b[39m_getitem_multilevel(key)\n\u001b[1;32m-> 4102\u001b[0m indexer \u001b[38;5;241m=\u001b[39m \u001b[38;5;28;43mself\u001b[39;49m\u001b[38;5;241;43m.\u001b[39;49m\u001b[43mcolumns\u001b[49m\u001b[38;5;241;43m.\u001b[39;49m\u001b[43mget_loc\u001b[49m\u001b[43m(\u001b[49m\u001b[43mkey\u001b[49m\u001b[43m)\u001b[49m\n\u001b[0;32m   4103\u001b[0m \u001b[38;5;28;01mif\u001b[39;00m is_integer(indexer):\n\u001b[0;32m   4104\u001b[0m     indexer \u001b[38;5;241m=\u001b[39m [indexer]\n",
      "File \u001b[1;32mc:\\Users\\luisf\\AppData\\Local\\Programs\\Python\\Python313\\Lib\\site-packages\\pandas\\core\\indexes\\base.py:3812\u001b[0m, in \u001b[0;36mIndex.get_loc\u001b[1;34m(self, key)\u001b[0m\n\u001b[0;32m   3807\u001b[0m     \u001b[38;5;28;01mif\u001b[39;00m \u001b[38;5;28misinstance\u001b[39m(casted_key, \u001b[38;5;28mslice\u001b[39m) \u001b[38;5;129;01mor\u001b[39;00m (\n\u001b[0;32m   3808\u001b[0m         \u001b[38;5;28misinstance\u001b[39m(casted_key, abc\u001b[38;5;241m.\u001b[39mIterable)\n\u001b[0;32m   3809\u001b[0m         \u001b[38;5;129;01mand\u001b[39;00m \u001b[38;5;28many\u001b[39m(\u001b[38;5;28misinstance\u001b[39m(x, \u001b[38;5;28mslice\u001b[39m) \u001b[38;5;28;01mfor\u001b[39;00m x \u001b[38;5;129;01min\u001b[39;00m casted_key)\n\u001b[0;32m   3810\u001b[0m     ):\n\u001b[0;32m   3811\u001b[0m         \u001b[38;5;28;01mraise\u001b[39;00m InvalidIndexError(key)\n\u001b[1;32m-> 3812\u001b[0m     \u001b[38;5;28;01mraise\u001b[39;00m \u001b[38;5;167;01mKeyError\u001b[39;00m(key) \u001b[38;5;28;01mfrom\u001b[39;00m\u001b[38;5;250m \u001b[39m\u001b[38;5;21;01merr\u001b[39;00m\n\u001b[0;32m   3813\u001b[0m \u001b[38;5;28;01mexcept\u001b[39;00m \u001b[38;5;167;01mTypeError\u001b[39;00m:\n\u001b[0;32m   3814\u001b[0m     \u001b[38;5;66;03m# If we have a listlike key, _check_indexing_error will raise\u001b[39;00m\n\u001b[0;32m   3815\u001b[0m     \u001b[38;5;66;03m#  InvalidIndexError. Otherwise we fall through and re-raise\u001b[39;00m\n\u001b[0;32m   3816\u001b[0m     \u001b[38;5;66;03m#  the TypeError.\u001b[39;00m\n\u001b[0;32m   3817\u001b[0m     \u001b[38;5;28mself\u001b[39m\u001b[38;5;241m.\u001b[39m_check_indexing_error(key)\n",
      "\u001b[1;31mKeyError\u001b[0m: 'Categoria'"
     ]
    }
   ],
   "source": [
    "df['Categoria'].unique() # NÃO EXITE MAIS A COLUNA CATEGORIA"
   ]
  },
  {
   "cell_type": "code",
   "execution_count": null,
   "id": "1d2f6f99",
   "metadata": {
    "notebookRunGroups": {
     "groupValue": "1"
    }
   },
   "outputs": [
    {
     "data": {
      "application/vnd.microsoft.datawrangler.viewer.v0+json": {
       "columns": [
        {
         "name": "index",
         "rawType": "int64",
         "type": "integer"
        },
        {
         "name": "Produto",
         "rawType": "object",
         "type": "string"
        },
        {
         "name": "Estoque",
         "rawType": "int64",
         "type": "integer"
        },
        {
         "name": "Vendidos",
         "rawType": "int64",
         "type": "integer"
        },
        {
         "name": "Data_de_vendas",
         "rawType": "datetime64[ns]",
         "type": "datetime"
        },
        {
         "name": "Vendedor",
         "rawType": "object",
         "type": "string"
        },
        {
         "name": "cidade",
         "rawType": "object",
         "type": "string"
        },
        {
         "name": "latitude",
         "rawType": "float64",
         "type": "float"
        },
        {
         "name": "longitude",
         "rawType": "float64",
         "type": "float"
        },
        {
         "name": "Preco_kg",
         "rawType": "float64",
         "type": "float"
        },
        {
         "name": "Faturamento",
         "rawType": "float64",
         "type": "float"
        },
        {
         "name": "Não_vendidos",
         "rawType": "float64",
         "type": "float"
        }
       ],
       "ref": "ae0f2e67-f12c-4c3e-9ddc-8673212aae8e",
       "rows": [
        [
         "0",
         "Café",
         "466",
         "277",
         "2024-01-01 00:00:00",
         "Desconhecido",
         "São Paulo",
         "-23.55052",
         "-46.633308",
         "38.57",
         "10683.89",
         "17973.62"
        ],
        [
         "1",
         "Soja",
         "191",
         "37",
         "2024-01-02 00:00:00",
         "Pedro",
         "Rio de Janeiro",
         "-22.906847",
         "-43.172896",
         "2.33",
         "86.21000000000001",
         "445.03000000000003"
        ],
        [
         "2",
         "Cana-de-açúcar",
         "241",
         "241",
         "2024-01-03 00:00:00",
         "Fernanda",
         "Brasília",
         "-15.794229",
         "-47.882166",
         "1.28",
         "308.48",
         "308.48"
        ],
        [
         "3",
         "Arroz",
         "222",
         "283",
         "2024-01-04 00:00:00",
         "Carlos",
         "Belo Horizonte",
         "-19.924502",
         "-43.935237",
         "1.56",
         "441.48",
         "346.32"
        ],
        [
         "4",
         "Arroz",
         "370",
         "432",
         "2024-01-05 00:00:00",
         "Patrícia",
         "Fortaleza",
         "-3.71722",
         "-38.5434",
         "1.56",
         "673.9200000000001",
         "577.2"
        ],
        [
         "5",
         "Café",
         "559",
         "443",
         "2024-01-06 00:00:00",
         "Desconhecido",
         "São Paulo",
         "-23.55052",
         "-46.633308",
         "38.57",
         "17086.51",
         "21560.63"
        ],
        [
         "6",
         "Cana-de-açúcar",
         "530",
         "337",
         "2024-01-07 00:00:00",
         "Patrícia",
         "São Paulo",
         "-23.55052",
         "-46.633308",
         "1.28",
         "431.36",
         "678.4"
        ],
        [
         "7",
         "Algodão",
         "100",
         "100",
         "2024-01-08 00:00:00",
         "Ricardo",
         "Recife",
         "-8.04756",
         "-34.877",
         "17.68",
         "1768.0",
         "1768.0"
        ],
        [
         "8",
         "Cana-de-açúcar",
         "52",
         "116",
         "2024-01-09 00:00:00",
         "Desconhecido",
         "Salvador",
         "-12.971399",
         "-38.501305",
         "1.28",
         "148.48",
         "66.56"
        ],
        [
         "9",
         "Café",
         "187",
         "369",
         "2024-01-10 00:00:00",
         "Pedro",
         "Curitiba",
         "-25.428954",
         "-49.267137",
         "38.57",
         "14232.33",
         "7212.59"
        ],
        [
         "10",
         "Soja",
         "929",
         "190",
         "2024-01-11 00:00:00",
         "Pedro",
         "São Paulo",
         "-23.55052",
         "-46.633308",
         "2.33",
         "442.7",
         "2164.57"
        ],
        [
         "11",
         "Cana-de-açúcar",
         "526",
         "181",
         "2024-01-12 00:00:00",
         "João",
         "Brasília",
         "-15.794229",
         "-47.882166",
         "1.28",
         "231.68",
         "673.28"
        ],
        [
         "12",
         "Arroz",
         "438",
         "104",
         "2024-01-13 00:00:00",
         "Ana",
         "Curitiba",
         "-25.428954",
         "-49.267137",
         "1.56",
         "162.24",
         "683.28"
        ],
        [
         "13",
         "Arroz",
         "315",
         "200",
         "2024-01-14 00:00:00",
         "Carlos",
         "Salvador",
         "-12.971399",
         "-38.501305",
         "1.56",
         "312.0",
         "491.40000000000003"
        ],
        [
         "14",
         "Café",
         "50",
         "377",
         "2024-01-15 00:00:00",
         "Carlos",
         "Manaus",
         "-3.10194",
         "-60.025",
         "38.57",
         "14540.89",
         "1928.5"
        ],
        [
         "15",
         "Café",
         "969",
         "412",
         "2024-01-16 00:00:00",
         "Patrícia",
         "Manaus",
         "-3.10194",
         "-60.025",
         "38.57",
         "15890.84",
         "37374.33"
        ],
        [
         "16",
         "Soja",
         "36",
         "36",
         "2024-01-17 00:00:00",
         "Fernanda",
         "Rio de Janeiro",
         "-22.906847",
         "-43.172896",
         "2.33",
         "83.88",
         "83.88"
        ],
        [
         "17",
         "Cana-de-açúcar",
         "830",
         "830",
         "2024-01-18 00:00:00",
         "Ricardo",
         "Manaus",
         "-3.10194",
         "-60.025",
         "1.28",
         "1062.4",
         "1062.4"
        ],
        [
         "18",
         "Cana-de-açúcar",
         "620",
         "192",
         "2024-01-19 00:00:00",
         "Patrícia",
         "Belo Horizonte",
         "-19.924502",
         "-43.935237",
         "1.28",
         "245.76",
         "793.6"
        ],
        [
         "19",
         "Trigo",
         "931",
         "189",
         "2024-01-20 00:00:00",
         "Ana",
         "Porto Alegre",
         "-30.034647",
         "-51.217658",
         "1.42",
         "268.38",
         "1322.02"
        ],
        [
         "20",
         "Café",
         "323",
         "278",
         "2024-01-21 00:00:00",
         "Patrícia",
         "Belo Horizonte",
         "-19.924502",
         "-43.935237",
         "38.57",
         "10722.460000000001",
         "12458.11"
        ],
        [
         "21",
         "Trigo",
         "861",
         "280",
         "2024-01-22 00:00:00",
         "Pedro",
         "Porto Alegre",
         "-30.034647",
         "-51.217658",
         "1.42",
         "397.59999999999997",
         "1222.62"
        ],
        [
         "22",
         "Arroz",
         "141",
         "243",
         "2024-01-23 00:00:00",
         "Fernanda",
         "Fortaleza",
         "-3.71722",
         "-38.5434",
         "1.56",
         "379.08000000000004",
         "219.96"
        ],
        [
         "23",
         "Algodão",
         "612",
         "209",
         "2024-01-24 00:00:00",
         "Pedro",
         "Rio de Janeiro",
         "-22.906847",
         "-43.172896",
         "17.68",
         "3695.12",
         "10820.16"
        ],
        [
         "24",
         "Milho",
         "432",
         "85",
         "2024-01-25 00:00:00",
         "Ana",
         "Recife",
         "-8.04756",
         "-34.877",
         "1.09",
         "92.65",
         "470.88000000000005"
        ],
        [
         "25",
         "Trigo",
         "865",
         "498",
         "2024-01-26 00:00:00",
         "Carlos",
         "Porto Alegre",
         "-30.034647",
         "-51.217658",
         "1.42",
         "707.16",
         "1228.3"
        ],
        [
         "26",
         "Algodão",
         "65",
         "65",
         "2024-01-27 00:00:00",
         "Carlos",
         "Belo Horizonte",
         "-19.924502",
         "-43.935237",
         "17.68",
         "1149.2",
         "1149.2"
        ],
        [
         "27",
         "Arroz",
         "277",
         "476",
         "2024-01-28 00:00:00",
         "Carlos",
         "Rio de Janeiro",
         "-22.906847",
         "-43.172896",
         "1.56",
         "742.5600000000001",
         "432.12"
        ],
        [
         "28",
         "Soja",
         "48",
         "48",
         "2024-01-29 00:00:00",
         "Carlos",
         "Curitiba",
         "-25.428954",
         "-49.267137",
         "2.33",
         "111.84",
         "111.84"
        ],
        [
         "29",
         "Arroz",
         "278",
         "278",
         "2024-01-30 00:00:00",
         "Fernanda",
         "Brasília",
         "-15.794229",
         "-47.882166",
         "1.56",
         "433.68",
         "433.68"
        ],
        [
         "30",
         "Cana-de-açúcar",
         "229",
         "186",
         "2024-01-31 00:00:00",
         "Desconhecido",
         "Manaus",
         "-3.10194",
         "-60.025",
         "1.28",
         "238.08",
         "293.12"
        ],
        [
         "31",
         "Café",
         "509",
         "327",
         "2024-02-01 00:00:00",
         "Pedro",
         "Porto Alegre",
         "-30.034647",
         "-51.217658",
         "38.57",
         "12612.39",
         "19632.13"
        ],
        [
         "32",
         "Trigo",
         "529",
         "180",
         "2024-02-02 00:00:00",
         "Fernanda",
         "Porto Alegre",
         "-30.034647",
         "-51.217658",
         "1.42",
         "255.6",
         "751.18"
        ],
        [
         "33",
         "Cana-de-açúcar",
         "303",
         "68",
         "2024-02-03 00:00:00",
         "Maria",
         "Manaus",
         "-3.10194",
         "-60.025",
         "1.28",
         "87.04",
         "387.84000000000003"
        ],
        [
         "34",
         "Arroz",
         "272",
         "272",
         "2024-02-04 00:00:00",
         "Maria",
         "Curitiba",
         "-25.428954",
         "-49.267137",
         "1.56",
         "424.32",
         "424.32"
        ],
        [
         "35",
         "Algodão",
         "615",
         "26",
         "2024-02-05 00:00:00",
         "Ricardo",
         "São Paulo",
         "-23.55052",
         "-46.633308",
         "17.68",
         "459.68",
         "10873.2"
        ],
        [
         "36",
         "Soja",
         "174",
         "271",
         "2024-02-06 00:00:00",
         "Fernanda",
         "Fortaleza",
         "-3.71722",
         "-38.5434",
         "2.33",
         "631.4300000000001",
         "405.42"
        ],
        [
         "37",
         "Trigo",
         "500",
         "304",
         "2024-02-07 00:00:00",
         "Ana",
         "Recife",
         "-8.04756",
         "-34.877",
         "1.42",
         "431.67999999999995",
         "710.0"
        ],
        [
         "38",
         "Café",
         "454",
         "106",
         "2024-02-08 00:00:00",
         "Fernanda",
         "Belo Horizonte",
         "-19.924502",
         "-43.935237",
         "38.57",
         "4088.42",
         "17510.78"
        ],
        [
         "39",
         "Algodão",
         "109",
         "167",
         "2024-02-09 00:00:00",
         "Patrícia",
         "Salvador",
         "-12.971399",
         "-38.501305",
         "17.68",
         "2952.56",
         "1927.12"
        ],
        [
         "40",
         "Café",
         "745",
         "265",
         "2024-02-10 00:00:00",
         "Patrícia",
         "Brasília",
         "-15.794229",
         "-47.882166",
         "38.57",
         "10221.05",
         "28734.65"
        ],
        [
         "41",
         "Cana-de-açúcar",
         "396",
         "377",
         "2024-02-11 00:00:00",
         "Ana",
         "Brasília",
         "-15.794229",
         "-47.882166",
         "1.28",
         "482.56",
         "506.88"
        ],
        [
         "42",
         "Soja",
         "154",
         "355",
         "2024-02-12 00:00:00",
         "Carlos",
         "Salvador",
         "-12.971399",
         "-38.501305",
         "2.33",
         "827.15",
         "358.82"
        ],
        [
         "43",
         "Soja",
         "99",
         "99",
         "2024-02-13 00:00:00",
         "Pedro",
         "Belo Horizonte",
         "-19.924502",
         "-43.935237",
         "2.33",
         "230.67000000000002",
         "230.67000000000002"
        ],
        [
         "44",
         "Soja",
         "588",
         "179",
         "2024-02-14 00:00:00",
         "Carlos",
         "Curitiba",
         "-25.428954",
         "-49.267137",
         "2.33",
         "417.07",
         "1370.04"
        ],
        [
         "45",
         "Café",
         "448",
         "292",
         "2024-02-15 00:00:00",
         "Carlos",
         "Salvador",
         "-12.971399",
         "-38.501305",
         "38.57",
         "11262.44",
         "17279.36"
        ],
        [
         "46",
         "Soja",
         "525",
         "319",
         "2024-02-16 00:00:00",
         "Maria",
         "Belo Horizonte",
         "-19.924502",
         "-43.935237",
         "2.33",
         "743.27",
         "1223.25"
        ],
        [
         "47",
         "Arroz",
         "418",
         "265",
         "2024-02-17 00:00:00",
         "Fernanda",
         "Recife",
         "-8.04756",
         "-34.877",
         "1.56",
         "413.40000000000003",
         "652.08"
        ],
        [
         "48",
         "Soja",
         "710",
         "1",
         "2024-02-18 00:00:00",
         "Desconhecido",
         "Rio de Janeiro",
         "-22.906847",
         "-43.172896",
         "2.33",
         "2.33",
         "1654.3"
        ],
        [
         "49",
         "Soja",
         "253",
         "391",
         "2024-02-19 00:00:00",
         "Pedro",
         "São Paulo",
         "-23.55052",
         "-46.633308",
         "2.33",
         "911.03",
         "589.49"
        ]
       ],
       "shape": {
        "columns": 11,
        "rows": 2000
       }
      },
      "text/html": [
       "<div>\n",
       "<style scoped>\n",
       "    .dataframe tbody tr th:only-of-type {\n",
       "        vertical-align: middle;\n",
       "    }\n",
       "\n",
       "    .dataframe tbody tr th {\n",
       "        vertical-align: top;\n",
       "    }\n",
       "\n",
       "    .dataframe thead th {\n",
       "        text-align: right;\n",
       "    }\n",
       "</style>\n",
       "<table border=\"1\" class=\"dataframe\">\n",
       "  <thead>\n",
       "    <tr style=\"text-align: right;\">\n",
       "      <th></th>\n",
       "      <th>Produto</th>\n",
       "      <th>Estoque</th>\n",
       "      <th>Vendidos</th>\n",
       "      <th>Data_de_vendas</th>\n",
       "      <th>Vendedor</th>\n",
       "      <th>cidade</th>\n",
       "      <th>latitude</th>\n",
       "      <th>longitude</th>\n",
       "      <th>Preco_kg</th>\n",
       "      <th>Faturamento</th>\n",
       "      <th>Não_vendidos</th>\n",
       "    </tr>\n",
       "  </thead>\n",
       "  <tbody>\n",
       "    <tr>\n",
       "      <th>0</th>\n",
       "      <td>Café</td>\n",
       "      <td>466</td>\n",
       "      <td>277</td>\n",
       "      <td>2024-01-01</td>\n",
       "      <td>Desconhecido</td>\n",
       "      <td>São Paulo</td>\n",
       "      <td>-23.550520</td>\n",
       "      <td>-46.633308</td>\n",
       "      <td>38.57</td>\n",
       "      <td>10683.89</td>\n",
       "      <td>17973.62</td>\n",
       "    </tr>\n",
       "    <tr>\n",
       "      <th>1</th>\n",
       "      <td>Soja</td>\n",
       "      <td>191</td>\n",
       "      <td>37</td>\n",
       "      <td>2024-01-02</td>\n",
       "      <td>Pedro</td>\n",
       "      <td>Rio de Janeiro</td>\n",
       "      <td>-22.906847</td>\n",
       "      <td>-43.172896</td>\n",
       "      <td>2.33</td>\n",
       "      <td>86.21</td>\n",
       "      <td>445.03</td>\n",
       "    </tr>\n",
       "    <tr>\n",
       "      <th>2</th>\n",
       "      <td>Cana-de-açúcar</td>\n",
       "      <td>241</td>\n",
       "      <td>241</td>\n",
       "      <td>2024-01-03</td>\n",
       "      <td>Fernanda</td>\n",
       "      <td>Brasília</td>\n",
       "      <td>-15.794229</td>\n",
       "      <td>-47.882166</td>\n",
       "      <td>1.28</td>\n",
       "      <td>308.48</td>\n",
       "      <td>308.48</td>\n",
       "    </tr>\n",
       "    <tr>\n",
       "      <th>3</th>\n",
       "      <td>Arroz</td>\n",
       "      <td>222</td>\n",
       "      <td>283</td>\n",
       "      <td>2024-01-04</td>\n",
       "      <td>Carlos</td>\n",
       "      <td>Belo Horizonte</td>\n",
       "      <td>-19.924502</td>\n",
       "      <td>-43.935237</td>\n",
       "      <td>1.56</td>\n",
       "      <td>441.48</td>\n",
       "      <td>346.32</td>\n",
       "    </tr>\n",
       "    <tr>\n",
       "      <th>4</th>\n",
       "      <td>Arroz</td>\n",
       "      <td>370</td>\n",
       "      <td>432</td>\n",
       "      <td>2024-01-05</td>\n",
       "      <td>Patrícia</td>\n",
       "      <td>Fortaleza</td>\n",
       "      <td>-3.717220</td>\n",
       "      <td>-38.543400</td>\n",
       "      <td>1.56</td>\n",
       "      <td>673.92</td>\n",
       "      <td>577.20</td>\n",
       "    </tr>\n",
       "    <tr>\n",
       "      <th>...</th>\n",
       "      <td>...</td>\n",
       "      <td>...</td>\n",
       "      <td>...</td>\n",
       "      <td>...</td>\n",
       "      <td>...</td>\n",
       "      <td>...</td>\n",
       "      <td>...</td>\n",
       "      <td>...</td>\n",
       "      <td>...</td>\n",
       "      <td>...</td>\n",
       "      <td>...</td>\n",
       "    </tr>\n",
       "    <tr>\n",
       "      <th>1995</th>\n",
       "      <td>Arroz</td>\n",
       "      <td>493</td>\n",
       "      <td>336</td>\n",
       "      <td>2029-06-18</td>\n",
       "      <td>Patrícia</td>\n",
       "      <td>São Paulo</td>\n",
       "      <td>-23.550520</td>\n",
       "      <td>-46.633308</td>\n",
       "      <td>1.56</td>\n",
       "      <td>524.16</td>\n",
       "      <td>769.08</td>\n",
       "    </tr>\n",
       "    <tr>\n",
       "      <th>1996</th>\n",
       "      <td>Cana-de-açúcar</td>\n",
       "      <td>457</td>\n",
       "      <td>385</td>\n",
       "      <td>2029-06-19</td>\n",
       "      <td>Ana</td>\n",
       "      <td>Porto Alegre</td>\n",
       "      <td>-30.034647</td>\n",
       "      <td>-51.217658</td>\n",
       "      <td>1.28</td>\n",
       "      <td>492.80</td>\n",
       "      <td>584.96</td>\n",
       "    </tr>\n",
       "    <tr>\n",
       "      <th>1997</th>\n",
       "      <td>Algodão</td>\n",
       "      <td>316</td>\n",
       "      <td>276</td>\n",
       "      <td>2029-06-20</td>\n",
       "      <td>Maria</td>\n",
       "      <td>Recife</td>\n",
       "      <td>-8.047560</td>\n",
       "      <td>-34.877000</td>\n",
       "      <td>17.68</td>\n",
       "      <td>4879.68</td>\n",
       "      <td>5586.88</td>\n",
       "    </tr>\n",
       "    <tr>\n",
       "      <th>1998</th>\n",
       "      <td>Trigo</td>\n",
       "      <td>65</td>\n",
       "      <td>319</td>\n",
       "      <td>2029-06-21</td>\n",
       "      <td>João</td>\n",
       "      <td>Salvador</td>\n",
       "      <td>-12.971399</td>\n",
       "      <td>-38.501305</td>\n",
       "      <td>1.42</td>\n",
       "      <td>452.98</td>\n",
       "      <td>92.30</td>\n",
       "    </tr>\n",
       "    <tr>\n",
       "      <th>1999</th>\n",
       "      <td>Milho</td>\n",
       "      <td>982</td>\n",
       "      <td>403</td>\n",
       "      <td>2029-06-22</td>\n",
       "      <td>Ricardo</td>\n",
       "      <td>Recife</td>\n",
       "      <td>-8.047560</td>\n",
       "      <td>-34.877000</td>\n",
       "      <td>1.09</td>\n",
       "      <td>439.27</td>\n",
       "      <td>1070.38</td>\n",
       "    </tr>\n",
       "  </tbody>\n",
       "</table>\n",
       "<p>2000 rows × 11 columns</p>\n",
       "</div>"
      ],
      "text/plain": [
       "             Produto  Estoque  Vendidos Data_de_vendas      Vendedor  \\\n",
       "0               Café      466       277     2024-01-01  Desconhecido   \n",
       "1               Soja      191        37     2024-01-02         Pedro   \n",
       "2     Cana-de-açúcar      241       241     2024-01-03      Fernanda   \n",
       "3              Arroz      222       283     2024-01-04        Carlos   \n",
       "4              Arroz      370       432     2024-01-05      Patrícia   \n",
       "...              ...      ...       ...            ...           ...   \n",
       "1995           Arroz      493       336     2029-06-18      Patrícia   \n",
       "1996  Cana-de-açúcar      457       385     2029-06-19           Ana   \n",
       "1997         Algodão      316       276     2029-06-20         Maria   \n",
       "1998           Trigo       65       319     2029-06-21          João   \n",
       "1999           Milho      982       403     2029-06-22       Ricardo   \n",
       "\n",
       "              cidade   latitude  longitude  Preco_kg  Faturamento  \\\n",
       "0          São Paulo -23.550520 -46.633308     38.57     10683.89   \n",
       "1     Rio de Janeiro -22.906847 -43.172896      2.33        86.21   \n",
       "2           Brasília -15.794229 -47.882166      1.28       308.48   \n",
       "3     Belo Horizonte -19.924502 -43.935237      1.56       441.48   \n",
       "4          Fortaleza  -3.717220 -38.543400      1.56       673.92   \n",
       "...              ...        ...        ...       ...          ...   \n",
       "1995       São Paulo -23.550520 -46.633308      1.56       524.16   \n",
       "1996    Porto Alegre -30.034647 -51.217658      1.28       492.80   \n",
       "1997          Recife  -8.047560 -34.877000     17.68      4879.68   \n",
       "1998        Salvador -12.971399 -38.501305      1.42       452.98   \n",
       "1999          Recife  -8.047560 -34.877000      1.09       439.27   \n",
       "\n",
       "      Não_vendidos  \n",
       "0         17973.62  \n",
       "1           445.03  \n",
       "2           308.48  \n",
       "3           346.32  \n",
       "4           577.20  \n",
       "...            ...  \n",
       "1995        769.08  \n",
       "1996        584.96  \n",
       "1997       5586.88  \n",
       "1998         92.30  \n",
       "1999       1070.38  \n",
       "\n",
       "[2000 rows x 11 columns]"
      ]
     },
     "execution_count": 78,
     "metadata": {},
     "output_type": "execute_result"
    }
   ],
   "source": [
    "df.drop(columns=[\"Categoria\"], inplace=True)\n",
    "df\n",
    "# Removemos a coluna \"categoria pois ela estava irrelevante para a análise e trazia dados inconsistentes demias para tratar\""
   ]
  },
  {
   "cell_type": "markdown",
   "id": "4bb712e6",
   "metadata": {},
   "source": [
    "## Estatistica básica (Desvio padrão, Vareiância e coeficiente de variação)\n",
    "- Variância: É a média dos quadrados entre cada valor e a média. Informa quão distantes os valores estão da média \n",
    "- Desvio Padrão: É a raiz quadrada da variância Expressa a dispersão em termos da mesma unidade de dados\n",
    "- Coeficiente de variação:É o desvio padrão dividido pela média, expresso em porcentagem. Indica a variabilidade relativa dos dados em relação a média"
   ]
  },
  {
   "cell_type": "code",
   "execution_count": null,
   "id": "031b3d64",
   "metadata": {},
   "outputs": [
    {
     "data": {
      "text/plain": [
       "np.float64(30134.226077038522)"
      ]
     },
     "execution_count": 79,
     "metadata": {},
     "output_type": "execute_result"
    }
   ],
   "source": [
    "df['Vendidos'].var()\n",
    "# Variância de vendidos, está muito alto, ou seja os dados estão bem diferentes entre si(inconsatantes)"
   ]
  },
  {
   "cell_type": "code",
   "execution_count": null,
   "id": "ccc1061a",
   "metadata": {},
   "outputs": [
    {
     "data": {
      "text/plain": [
       "np.float64(173.59212561933367)"
      ]
     },
     "execution_count": 80,
     "metadata": {},
     "output_type": "execute_result"
    }
   ],
   "source": [
    "df['Vendidos'].std()  # Tem uma diferença de mais ou menos 173 vendas entre si seja pra mais seja pra menos"
   ]
  },
  {
   "cell_type": "code",
   "execution_count": null,
   "id": "fcc02f49",
   "metadata": {},
   "outputs": [
    {
     "data": {
      "text/plain": [
       "np.float64(67.02243408235087)"
      ]
     },
     "execution_count": 81,
     "metadata": {},
     "output_type": "execute_result"
    }
   ],
   "source": [
    "df['Vendidos'].std() / df['Vendidos'].mean() * 100\n",
    "#A dispersão dos dados é considerável, mas não exagerada. Em média, cada valor de vendas difere da média uma boa parte da média (mais da metade).\n",
    "#Isso confirma que os dados não são super consistentes, mas também não são totalmente caóticos.\n"
   ]
  },
  {
   "cell_type": "markdown",
   "id": "71a2fe12",
   "metadata": {},
   "source": [
    "## Medidas de Forma (distribuição dos dados)\n",
    "- Assimetria: Indica o grau e direção da distorção da distribuição em relação à média. Se positivo, indica a cauda direita da distribuição mais longa, já o oposto a cauda esquerda mais longa(Quando for positivo valores maiores mais distantes, quando for negativo mais perto eles estão).\n",
    "- Curtose: mede o pico ou \"pontuação\" da distribuição. Uma Curtose alta indica uma distribuição mais concentrada "
   ]
  },
  {
   "cell_type": "code",
   "execution_count": null,
   "id": "cbb73b69",
   "metadata": {},
   "outputs": [
    {
     "data": {
      "text/plain": [
       "np.float64(0.9595618887978993)"
      ]
     },
     "execution_count": 82,
     "metadata": {},
     "output_type": "execute_result"
    }
   ],
   "source": [
    "df['Vendidos'].skew() \n",
    "# Essa assimetria perto de 1 indica altos graus dispersão, ou seja os dados estão m,uito espalhados"
   ]
  },
  {
   "cell_type": "code",
   "execution_count": null,
   "id": "8e2bcb8a",
   "metadata": {},
   "outputs": [
    {
     "data": {
      "text/plain": [
       "np.float64(1.84885137858533)"
      ]
     },
     "execution_count": 83,
     "metadata": {},
     "output_type": "execute_result"
    }
   ],
   "source": [
    "df['Vendidos'].kurtosis()\n",
    "# Como a curtose estrá alta isso é bom, indica que estamos mais próximos da média de vendas e que mantemos uma certa \"estabilidade\" nas vendas "
   ]
  },
  {
   "cell_type": "code",
   "execution_count": null,
   "id": "dc5fc8c5",
   "metadata": {},
   "outputs": [],
   "source": [
    "def format_number(value, prefix = ''):\n",
    "    for unit in ['', 'mil']:\n",
    "        if value < 1000:\n",
    "            return f'{prefix} {value:.2f} {unit}'\n",
    "        value /= 1000\n",
    "    return f'{prefix} {value:.2f} milhões'"
   ]
  },
  {
   "cell_type": "code",
   "execution_count": null,
   "id": "6d68fa8c",
   "metadata": {},
   "outputs": [],
   "source": [
    "df = df.to_csv('data/banco_agro_projeto_limpo.csv', index=False)\n",
    "df = pd.read_csv('data/banco_agro_projeto_limpo.csv')"
   ]
  },
  {
   "cell_type": "markdown",
   "id": "5dbd1cfc",
   "metadata": {},
   "source": [
    "## Auto geração de relatório"
   ]
  },
  {
   "cell_type": "code",
   "execution_count": null,
   "id": "f1061e70",
   "metadata": {},
   "outputs": [
    {
     "data": {
      "application/vnd.jupyter.widget-view+json": {
       "model_id": "387bbf84c2994bc5a1fb3a8b4cac75a1",
       "version_major": 2,
       "version_minor": 0
      },
      "text/plain": [
       "                                             |          | [  0%]   00:00 -> (? left)"
      ]
     },
     "metadata": {},
     "output_type": "display_data"
    },
    {
     "name": "stdout",
     "output_type": "stream",
     "text": [
      "Report sweetviz_report.html was generated! NOTEBOOK/COLAB USERS: the web browser MAY not pop up, regardless, the report IS saved in your notebook/colab files.\n"
     ]
    }
   ],
   "source": [
    "import sweetviz as sv\n",
    "import numpy as np\n",
    "\n",
    "if not hasattr(np, \"VisibleDeprecationWarning\"):\n",
    "    class VisibleDeprecationWarning(Warning):\n",
    "        pass\n",
    "    np.VisibleDeprecationWarning = VisibleDeprecationWarning\n",
    "\n",
    "report = sv.analyze(df)\n",
    "report.show_html(\"sweetviz_report.html\")"
   ]
  },
  {
   "cell_type": "code",
   "execution_count": 38,
   "id": "37820739",
   "metadata": {},
   "outputs": [
    {
     "name": "stdout",
     "output_type": "stream",
     "text": [
      "Imported v0.1.905. Please call AutoViz in this sequence:\n",
      "    AV = AutoViz_Class()\n",
      "    %matplotlib inline\n",
      "    dfte = AV.AutoViz(filename, sep=',', depVar='', dfte=None, header=0, verbose=1, lowess=False,\n",
      "               chart_format='svg',max_rows_analyzed=150000,max_cols_analyzed=30, save_plot_dir=None)\n",
      "Shape of your Data Set loaded: (2000, 11)\n",
      "#######################################################################################\n",
      "######################## C L A S S I F Y I N G  V A R I A B L E S  ####################\n",
      "#######################################################################################\n",
      "Classifying variables in data set...\n",
      "    Number of Numeric Columns =  5\n",
      "    Number of Integer-Categorical Columns =  2\n",
      "    Number of String-Categorical Columns =  3\n",
      "    Number of Factor-Categorical Columns =  0\n",
      "    Number of String-Boolean Columns =  0\n",
      "    Number of Numeric-Boolean Columns =  0\n",
      "    Number of Discrete String Columns =  0\n",
      "    Number of NLP String Columns =  0\n",
      "    Number of Date Time Columns =  1\n",
      "    Number of ID Columns =  0\n",
      "    Number of Columns to Delete =  0\n",
      "    11 Predictors classified...\n",
      "        No variables removed since no ID or low-information variables found in data set\n",
      "To fix these data quality issues in the dataset, import FixDQ from autoviz...\n",
      "    All variables classified into correct types.\n"
     ]
    },
    {
     "data": {
      "text/html": [
       "<style type=\"text/css\">\n",
       "#T_d5b65_row0_col0, #T_d5b65_row0_col2, #T_d5b65_row0_col3, #T_d5b65_row0_col4, #T_d5b65_row0_col5, #T_d5b65_row1_col0, #T_d5b65_row1_col2, #T_d5b65_row1_col3, #T_d5b65_row1_col4, #T_d5b65_row1_col5, #T_d5b65_row2_col0, #T_d5b65_row2_col2, #T_d5b65_row2_col3, #T_d5b65_row2_col4, #T_d5b65_row2_col5, #T_d5b65_row3_col0, #T_d5b65_row3_col2, #T_d5b65_row3_col3, #T_d5b65_row3_col4, #T_d5b65_row3_col5, #T_d5b65_row4_col0, #T_d5b65_row4_col2, #T_d5b65_row4_col3, #T_d5b65_row4_col4, #T_d5b65_row4_col5, #T_d5b65_row5_col0, #T_d5b65_row5_col2, #T_d5b65_row5_col3, #T_d5b65_row5_col4, #T_d5b65_row5_col5, #T_d5b65_row6_col0, #T_d5b65_row6_col2, #T_d5b65_row6_col3, #T_d5b65_row6_col4, #T_d5b65_row6_col5, #T_d5b65_row7_col0, #T_d5b65_row7_col2, #T_d5b65_row7_col3, #T_d5b65_row7_col4, #T_d5b65_row7_col5, #T_d5b65_row8_col0, #T_d5b65_row8_col2, #T_d5b65_row8_col3, #T_d5b65_row8_col4, #T_d5b65_row8_col5, #T_d5b65_row9_col0, #T_d5b65_row9_col2, #T_d5b65_row9_col3, #T_d5b65_row9_col4, #T_d5b65_row9_col5, #T_d5b65_row10_col0, #T_d5b65_row10_col2, #T_d5b65_row10_col3, #T_d5b65_row10_col4, #T_d5b65_row10_col5 {\n",
       "  font-family: Segoe UI;\n",
       "}\n",
       "#T_d5b65_row0_col1, #T_d5b65_row1_col1, #T_d5b65_row2_col1, #T_d5b65_row3_col1, #T_d5b65_row4_col1, #T_d5b65_row5_col1, #T_d5b65_row6_col1, #T_d5b65_row7_col1, #T_d5b65_row8_col1, #T_d5b65_row9_col1, #T_d5b65_row10_col1 {\n",
       "  background-color: #fff5f0;\n",
       "  color: #000000;\n",
       "  font-family: Segoe UI;\n",
       "}\n",
       "</style>\n",
       "<table id=\"T_d5b65\">\n",
       "  <thead>\n",
       "    <tr>\n",
       "      <th class=\"blank level0\" >&nbsp;</th>\n",
       "      <th id=\"T_d5b65_level0_col0\" class=\"col_heading level0 col0\" >Data Type</th>\n",
       "      <th id=\"T_d5b65_level0_col1\" class=\"col_heading level0 col1\" >Missing Values%</th>\n",
       "      <th id=\"T_d5b65_level0_col2\" class=\"col_heading level0 col2\" >Unique Values%</th>\n",
       "      <th id=\"T_d5b65_level0_col3\" class=\"col_heading level0 col3\" >Minimum Value</th>\n",
       "      <th id=\"T_d5b65_level0_col4\" class=\"col_heading level0 col4\" >Maximum Value</th>\n",
       "      <th id=\"T_d5b65_level0_col5\" class=\"col_heading level0 col5\" >DQ Issue</th>\n",
       "    </tr>\n",
       "  </thead>\n",
       "  <tbody>\n",
       "    <tr>\n",
       "      <th id=\"T_d5b65_level0_row0\" class=\"row_heading level0 row0\" >Produto</th>\n",
       "      <td id=\"T_d5b65_row0_col0\" class=\"data row0 col0\" >object</td>\n",
       "      <td id=\"T_d5b65_row0_col1\" class=\"data row0 col1\" >0.000000</td>\n",
       "      <td id=\"T_d5b65_row0_col2\" class=\"data row0 col2\" >0</td>\n",
       "      <td id=\"T_d5b65_row0_col3\" class=\"data row0 col3\" ></td>\n",
       "      <td id=\"T_d5b65_row0_col4\" class=\"data row0 col4\" ></td>\n",
       "      <td id=\"T_d5b65_row0_col5\" class=\"data row0 col5\" >No issue</td>\n",
       "    </tr>\n",
       "    <tr>\n",
       "      <th id=\"T_d5b65_level0_row1\" class=\"row_heading level0 row1\" >Estoque</th>\n",
       "      <td id=\"T_d5b65_row1_col0\" class=\"data row1 col0\" >int64</td>\n",
       "      <td id=\"T_d5b65_row1_col1\" class=\"data row1 col1\" >0.000000</td>\n",
       "      <td id=\"T_d5b65_row1_col2\" class=\"data row1 col2\" >43</td>\n",
       "      <td id=\"T_d5b65_row1_col3\" class=\"data row1 col3\" >0.000000</td>\n",
       "      <td id=\"T_d5b65_row1_col4\" class=\"data row1 col4\" >999.000000</td>\n",
       "      <td id=\"T_d5b65_row1_col5\" class=\"data row1 col5\" >No issue</td>\n",
       "    </tr>\n",
       "    <tr>\n",
       "      <th id=\"T_d5b65_level0_row2\" class=\"row_heading level0 row2\" >Vendidos</th>\n",
       "      <td id=\"T_d5b65_row2_col0\" class=\"data row2 col0\" >int64</td>\n",
       "      <td id=\"T_d5b65_row2_col1\" class=\"data row2 col1\" >0.000000</td>\n",
       "      <td id=\"T_d5b65_row2_col2\" class=\"data row2 col2\" >27</td>\n",
       "      <td id=\"T_d5b65_row2_col3\" class=\"data row2 col3\" >1.000000</td>\n",
       "      <td id=\"T_d5b65_row2_col4\" class=\"data row2 col4\" >998.000000</td>\n",
       "      <td id=\"T_d5b65_row2_col5\" class=\"data row2 col5\" >Column has 37 outliers greater than upper bound (764.00) or lower than lower bound(-268.00). Cap them or remove them.</td>\n",
       "    </tr>\n",
       "    <tr>\n",
       "      <th id=\"T_d5b65_level0_row3\" class=\"row_heading level0 row3\" >Data_de_vendas</th>\n",
       "      <td id=\"T_d5b65_row3_col0\" class=\"data row3 col0\" >datetime64[ns]</td>\n",
       "      <td id=\"T_d5b65_row3_col1\" class=\"data row3 col1\" >0.000000</td>\n",
       "      <td id=\"T_d5b65_row3_col2\" class=\"data row3 col2\" >99</td>\n",
       "      <td id=\"T_d5b65_row3_col3\" class=\"data row3 col3\" ></td>\n",
       "      <td id=\"T_d5b65_row3_col4\" class=\"data row3 col4\" ></td>\n",
       "      <td id=\"T_d5b65_row3_col5\" class=\"data row3 col5\" >Possible date-time colum: transform before modeling step.</td>\n",
       "    </tr>\n",
       "    <tr>\n",
       "      <th id=\"T_d5b65_level0_row4\" class=\"row_heading level0 row4\" >Vendedor</th>\n",
       "      <td id=\"T_d5b65_row4_col0\" class=\"data row4 col0\" >object</td>\n",
       "      <td id=\"T_d5b65_row4_col1\" class=\"data row4 col1\" >0.000000</td>\n",
       "      <td id=\"T_d5b65_row4_col2\" class=\"data row4 col2\" >0</td>\n",
       "      <td id=\"T_d5b65_row4_col3\" class=\"data row4 col3\" ></td>\n",
       "      <td id=\"T_d5b65_row4_col4\" class=\"data row4 col4\" ></td>\n",
       "      <td id=\"T_d5b65_row4_col5\" class=\"data row4 col5\" >No issue</td>\n",
       "    </tr>\n",
       "    <tr>\n",
       "      <th id=\"T_d5b65_level0_row5\" class=\"row_heading level0 row5\" >cidade</th>\n",
       "      <td id=\"T_d5b65_row5_col0\" class=\"data row5 col0\" >object</td>\n",
       "      <td id=\"T_d5b65_row5_col1\" class=\"data row5 col1\" >0.000000</td>\n",
       "      <td id=\"T_d5b65_row5_col2\" class=\"data row5 col2\" >0</td>\n",
       "      <td id=\"T_d5b65_row5_col3\" class=\"data row5 col3\" ></td>\n",
       "      <td id=\"T_d5b65_row5_col4\" class=\"data row5 col4\" ></td>\n",
       "      <td id=\"T_d5b65_row5_col5\" class=\"data row5 col5\" >No issue</td>\n",
       "    </tr>\n",
       "    <tr>\n",
       "      <th id=\"T_d5b65_level0_row6\" class=\"row_heading level0 row6\" >latitude</th>\n",
       "      <td id=\"T_d5b65_row6_col0\" class=\"data row6 col0\" >float64</td>\n",
       "      <td id=\"T_d5b65_row6_col1\" class=\"data row6 col1\" >0.000000</td>\n",
       "      <td id=\"T_d5b65_row6_col2\" class=\"data row6 col2\" >NA</td>\n",
       "      <td id=\"T_d5b65_row6_col3\" class=\"data row6 col3\" >-30.034647</td>\n",
       "      <td id=\"T_d5b65_row6_col4\" class=\"data row6 col4\" >-3.101940</td>\n",
       "      <td id=\"T_d5b65_row6_col5\" class=\"data row6 col5\" >No issue</td>\n",
       "    </tr>\n",
       "    <tr>\n",
       "      <th id=\"T_d5b65_level0_row7\" class=\"row_heading level0 row7\" >longitude</th>\n",
       "      <td id=\"T_d5b65_row7_col0\" class=\"data row7 col0\" >float64</td>\n",
       "      <td id=\"T_d5b65_row7_col1\" class=\"data row7 col1\" >0.000000</td>\n",
       "      <td id=\"T_d5b65_row7_col2\" class=\"data row7 col2\" >NA</td>\n",
       "      <td id=\"T_d5b65_row7_col3\" class=\"data row7 col3\" >-60.025000</td>\n",
       "      <td id=\"T_d5b65_row7_col4\" class=\"data row7 col4\" >-34.877000</td>\n",
       "      <td id=\"T_d5b65_row7_col5\" class=\"data row7 col5\" >No issue</td>\n",
       "    </tr>\n",
       "    <tr>\n",
       "      <th id=\"T_d5b65_level0_row8\" class=\"row_heading level0 row8\" >Preco_kg</th>\n",
       "      <td id=\"T_d5b65_row8_col0\" class=\"data row8 col0\" >float64</td>\n",
       "      <td id=\"T_d5b65_row8_col1\" class=\"data row8 col1\" >0.000000</td>\n",
       "      <td id=\"T_d5b65_row8_col2\" class=\"data row8 col2\" >NA</td>\n",
       "      <td id=\"T_d5b65_row8_col3\" class=\"data row8 col3\" >1.090000</td>\n",
       "      <td id=\"T_d5b65_row8_col4\" class=\"data row8 col4\" >38.570000</td>\n",
       "      <td id=\"T_d5b65_row8_col5\" class=\"data row8 col5\" >Column has a high correlation with ['Não_vendidos']. Consider dropping one of them.</td>\n",
       "    </tr>\n",
       "    <tr>\n",
       "      <th id=\"T_d5b65_level0_row9\" class=\"row_heading level0 row9\" >Faturamento</th>\n",
       "      <td id=\"T_d5b65_row9_col0\" class=\"data row9 col0\" >float64</td>\n",
       "      <td id=\"T_d5b65_row9_col1\" class=\"data row9 col1\" >0.000000</td>\n",
       "      <td id=\"T_d5b65_row9_col2\" class=\"data row9 col2\" >NA</td>\n",
       "      <td id=\"T_d5b65_row9_col3\" class=\"data row9 col3\" >1.090000</td>\n",
       "      <td id=\"T_d5b65_row9_col4\" class=\"data row9 col4\" >37798.600000</td>\n",
       "      <td id=\"T_d5b65_row9_col5\" class=\"data row9 col5\" >Column has 398 outliers greater than upper bound (3579.37) or lower than lower bound(-1756.55). Cap them or remove them.</td>\n",
       "    </tr>\n",
       "    <tr>\n",
       "      <th id=\"T_d5b65_level0_row10\" class=\"row_heading level0 row10\" >Não_vendidos</th>\n",
       "      <td id=\"T_d5b65_row10_col0\" class=\"data row10 col0\" >float64</td>\n",
       "      <td id=\"T_d5b65_row10_col1\" class=\"data row10 col1\" >0.000000</td>\n",
       "      <td id=\"T_d5b65_row10_col2\" class=\"data row10 col2\" >NA</td>\n",
       "      <td id=\"T_d5b65_row10_col3\" class=\"data row10 col3\" >0.000000</td>\n",
       "      <td id=\"T_d5b65_row10_col4\" class=\"data row10 col4\" >38492.860000</td>\n",
       "      <td id=\"T_d5b65_row10_col5\" class=\"data row10 col5\" >Column has 404 outliers greater than upper bound (6542.49) or lower than lower bound(-3150.89). Cap them or remove them.</td>\n",
       "    </tr>\n",
       "  </tbody>\n",
       "</table>\n"
      ],
      "text/plain": [
       "<pandas.io.formats.style.Styler at 0x19b30d27a10>"
      ]
     },
     "metadata": {},
     "output_type": "display_data"
    },
    {
     "name": "stdout",
     "output_type": "stream",
     "text": [
      "Number of All Scatter Plots = 15\n",
      "All Plots done\n",
      "Time to run AutoViz = 7 seconds \n",
      "\n",
      " ###################### AUTO VISUALIZATION Completed ########################\n"
     ]
    }
   ],
   "source": [
    "from autoviz.AutoViz_Class import AutoViz_Class\n",
    "\n",
    "\n",
    "# Instancie a classe\n",
    "AV = AutoViz_Class()\n",
    "\n",
    "# Gere e salve as visualizações com um único comando\n",
    "report = AV.AutoViz(filename='', dfte=df)"
   ]
  },
  {
   "cell_type": "code",
   "execution_count": 41,
   "id": "df3fb973",
   "metadata": {},
   "outputs": [
    {
     "data": {
      "application/vnd.jupyter.widget-view+json": {
       "model_id": "baae2da9582c47c7b4bd47ae5e224489",
       "version_major": 2,
       "version_minor": 0
      },
      "text/plain": [
       "                                             |          | [  0%]   00:00 -> (? left)"
      ]
     },
     "metadata": {},
     "output_type": "display_data"
    },
    {
     "name": "stdout",
     "output_type": "stream",
     "text": [
      "Report relatorio_analise.html was generated! NOTEBOOK/COLAB USERS: the web browser MAY not pop up, regardless, the report IS saved in your notebook/colab files.\n"
     ]
    }
   ],
   "source": [
    "# ...existing code...\n",
    "try:\n",
    "    from ydata_profiling import ProfileReport\n",
    "    profile = ProfileReport(df, title=\"Relatório de Análise Exploratória\")\n",
    "    profile.to_file(\"relatorio_analise.html\")\n",
    "except Exception as e:\n",
    "    # Fallback: use sweetviz se ydata_profiling não estiver disponível\n",
    "    import sweetviz as sv\n",
    "    report = sv.analyze(df)\n",
    "    report.show_html(\"relatorio_analise.html\")\n",
    "# ...existing code..."
   ]
  },
  {
   "cell_type": "markdown",
   "id": "f97b2057",
   "metadata": {},
   "source": [
    "# 📊 Análise de Dados de Vendas Agrícolas\n",
    "\n",
    "## Conclusão\n",
    "\n",
    "Este projeto teve como objetivo analisar os dados de vendas de produtos agrícolas, utilizando Python e Pandas, com foco em **insights financeiros e geográficos**.  \n",
    "\n",
    "### 1️⃣ Estatísticas de vendas\n",
    "\n",
    "- **Faturamento total por produto:**  \n",
    "  Foi possível calcular o faturamento total de cada produto a partir da multiplicação de `Vendidos` pelo `Preco_kg`.  \n",
    "  Produtos como **Café e Algodão** se destacaram com faturamentos maiores.\n",
    "\n",
    "- **Perdas com produtos não vendidos:**  \n",
    "  Multiplicando `Estoque` pelo `Preco_kg`, identificamos os produtos com maiores perdas. Por exemplo, Café apresentou as maiores perdas devido ao alto preço e volume em estoque.\n",
    "\n",
    "- **Variabilidade das vendas:**  \n",
    "  - **Variância de `Vendidos`:** 30.134 → indica que os dados apresentam dispersão significativa.  \n",
    "  - **Desvio Padrão:** 173,59 → em média, cada registro de vendas difere ±174 unidades da média.  \n",
    "  - **Coeficiente de Variação:** 67% → mostra que existe variabilidade considerável nas vendas em relação à média, indicando que nem todos os produtos vendem de forma uniforme.\n",
    "\n",
    "### 2️⃣ Análise temporal\n",
    "\n",
    "- As vendas foram agrupadas por **dia, mês e ano**, permitindo observar sazonalidade e tendências ao longo do tempo.\n",
    "\n",
    "### 3️⃣ Análise geográfica\n",
    "\n",
    "- Utilizando **Plotly Express**, foi possível criar mapas interativos mostrando:\n",
    "  - **Faturamento total por cidade:** cada cidade aparece uma única vez, com pontos cujo tamanho e cor refletem o faturamento total.  \n",
    "  - **Faturamento por vendedor:** cada vendedor é representado por um ponto, mostrando o faturamento total que gerou e os produtos vendidos.  \n",
    "\n",
    "Esses mapas permitem identificar **as regiões com maior desempenho de vendas** e quais vendedores estão contribuindo mais para o faturamento.\n",
    "\n",
    "### 4️⃣ Insights gerais\n",
    "\n",
    "- Os dados apresentam **vendas inconsistentes entre produtos,cidades e vendedores**, com algumas regiões e produtos dominando o faturamento.  \n",
    "- É possível **priorizar produtos e regiões** com maior retorno financeiro, além de identificar **oportunidades de reduzir perdas** em estoque.  \n",
    "- A visualização geográfica facilita **decisões estratégicas** para logística e planejamento de vendas.\n",
    "\n",
    "---\n",
    "\n",
    "📌 **Resumo:** Este projeto demonstra a importância de combinar **estatísticas descritivas** com **visualizações interativas**, oferecendo uma visão clara do desempenho de produtos, vendedores e regiões no negócio agrícola, concluindo-se que a análise da forma como estamos estocando alimentos ser repensada.\n"
   ]
  }
 ],
 "metadata": {
  "kernelspec": {
   "display_name": "Python 3",
   "language": "python",
   "name": "python3"
  },
  "language_info": {
   "codemirror_mode": {
    "name": "ipython",
    "version": 3
   },
   "file_extension": ".py",
   "mimetype": "text/x-python",
   "name": "python",
   "nbconvert_exporter": "python",
   "pygments_lexer": "ipython3",
   "version": "3.13.2"
  }
 },
 "nbformat": 4,
 "nbformat_minor": 5
}
