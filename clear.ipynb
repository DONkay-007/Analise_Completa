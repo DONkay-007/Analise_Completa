{
 "cells": [
  {
   "cell_type": "markdown",
   "id": "63269325",
   "metadata": {},
   "source": [
    "# **🧠 Análise de Dados** — estatística • visualização • machine learning\n"
   ]
  },
  {
   "cell_type": "markdown",
   "id": "64403b9c",
   "metadata": {},
   "source": [
    "### Importando o Pandas e o matplot lib para verificação dos dados"
   ]
  },
  {
   "cell_type": "code",
   "execution_count": 80,
   "id": "f8e24b91",
   "metadata": {},
   "outputs": [],
   "source": [
    "import pandas as pd \n",
    "import matplotlib.pyplot as plt"
   ]
  },
  {
   "cell_type": "code",
   "execution_count": 81,
   "id": "8808526f",
   "metadata": {},
   "outputs": [
    {
     "name": "stdout",
     "output_type": "stream",
     "text": [
      "2.3.2\n"
     ]
    }
   ],
   "source": [
    "print(pd.__version__)"
   ]
  },
  {
   "cell_type": "markdown",
   "id": "c91e2f03",
   "metadata": {},
   "source": [
    "### Puxando os dados que serãso analisados"
   ]
  },
  {
   "cell_type": "code",
   "execution_count": 82,
   "id": "59d023b1",
   "metadata": {},
   "outputs": [],
   "source": [
    "df = pd.read_csv('data/banco_agro_projeto.csv')"
   ]
  },
  {
   "cell_type": "markdown",
   "id": "eae340e7",
   "metadata": {},
   "source": [
    "### Visualizando o Dataframe"
   ]
  },
  {
   "cell_type": "code",
   "execution_count": 83,
   "id": "aad21375",
   "metadata": {},
   "outputs": [
    {
     "data": {
      "application/vnd.microsoft.datawrangler.viewer.v0+json": {
       "columns": [
        {
         "name": "index",
         "rawType": "int64",
         "type": "integer"
        },
        {
         "name": "Produto",
         "rawType": "object",
         "type": "string"
        },
        {
         "name": "Categoria",
         "rawType": "object",
         "type": "string"
        },
        {
         "name": "Estoque",
         "rawType": "object",
         "type": "string"
        },
        {
         "name": "Vendidos",
         "rawType": "float64",
         "type": "float"
        },
        {
         "name": "Data_de_vendas",
         "rawType": "object",
         "type": "string"
        },
        {
         "name": "Data_venda",
         "rawType": "object",
         "type": "string"
        },
        {
         "name": "Vendedor",
         "rawType": "object",
         "type": "unknown"
        }
       ],
       "ref": "2d568181-6ae2-4699-b17f-65e14be363cb",
       "rows": [
        [
         "0",
         "Café",
         "Cereal",
         "466",
         "277.0",
         "2024-01-01",
         "01/01/2024",
         null
        ],
        [
         "1",
         "Soja",
         "Grão",
         "191",
         "37.0",
         "2024-01-02",
         "02/01/2024",
         "Pedro"
        ],
        [
         "2",
         "Cana-de-açúcar",
         "Grão",
         "indefinido",
         "241.0",
         "2024-01-03",
         "03/01/2024",
         "Fernanda"
        ],
        [
         "3",
         "Arroz",
         "Bebida",
         "222",
         "283.0",
         "2024-01-04",
         "04/01/2024",
         "Carlos"
        ],
        [
         "4",
         "Arroz",
         "Bebida",
         "370",
         "432.0",
         "2024-01-05",
         "05/01/2024",
         "Patrícia"
        ],
        [
         "5",
         "Café",
         "Grão",
         "559",
         "443.0",
         "2024-01-06",
         "06/01/2024",
         null
        ],
        [
         "6",
         "Cana-de-açúcar",
         "Cereal",
         "530",
         "337.0",
         "2024-01-07",
         "07/01/2024",
         "Patrícia"
        ],
        [
         "7",
         "Algodão",
         "Fibra",
         "100",
         null,
         "2024-01-08",
         "08/01/2024",
         "Ricardo"
        ],
        [
         "8",
         "Cana-de-açúcar",
         "Bebida",
         "52",
         "116.0",
         "2024-01-09",
         "09/01/2024",
         null
        ],
        [
         "9",
         "Café",
         "Cereal",
         "187",
         "369.0",
         "2024-01-10",
         "10/01/2024",
         "Pedro"
        ],
        [
         "10",
         "Soja",
         "Cereal",
         "929",
         "190.0",
         "2024-01-11",
         "11/01/2024",
         "Pedro"
        ],
        [
         "11",
         "Cana-de-açúcar",
         "Cereal",
         "526",
         "181.0",
         "2024-01-12",
         "12/01/2024",
         "João"
        ],
        [
         "12",
         "Arroz",
         "Bebida",
         "438",
         "104.0",
         "2024-01-13",
         "13/01/2024",
         "Ana"
        ],
        [
         "13",
         "Arroz",
         "Cereal",
         "315",
         "200.0",
         "2024-01-14",
         "14/01/2024",
         "Carlos"
        ],
        [
         "14",
         "Café",
         "Fibra",
         "50",
         "377.0",
         "2024-01-15",
         "15/01/2024",
         "Carlos"
        ],
        [
         "15",
         "Café",
         "Bebida",
         "969",
         "412.0",
         "2024-01-16",
         "16/01/2024",
         "Patrícia"
        ],
        [
         "16",
         "Soja",
         "Bebida",
         "indefinido",
         "36.0",
         "2024-01-17",
         "17/01/2024",
         "Fernanda"
        ],
        [
         "17",
         "Cana-de-açúcar",
         "Cereal",
         "830",
         null,
         "2024-01-18",
         "erro",
         "Ricardo"
        ],
        [
         "18",
         "Cana-de-açúcar",
         "Cereal",
         "620",
         "192.0",
         "2024-01-19",
         "19/01/2024",
         "Patrícia"
        ],
        [
         "19",
         "Trigo",
         "Bebida",
         "931",
         "189.0",
         "2024-01-20",
         "20/01/2024",
         "Ana"
        ],
        [
         "20",
         "Café",
         "Grão",
         "323",
         "278.0",
         "sem data",
         "21/01/2024",
         "Patrícia"
        ],
        [
         "21",
         "Trigo",
         "Cereal",
         "861",
         "280.0",
         "sem data",
         "22/01/2024",
         "Pedro"
        ],
        [
         "22",
         "Arroz",
         "Bebida",
         "141",
         "243.0",
         "2024-01-23",
         "23/01/2024",
         "Fernanda"
        ],
        [
         "23",
         "Algodão",
         "Bebida",
         "612",
         "209.0",
         "2024-01-24",
         "erro",
         "Pedro"
        ],
        [
         "24",
         "Milho",
         "Bebida",
         "432",
         "85.0",
         "sem data",
         "25/01/2024",
         "Ana"
        ],
        [
         "25",
         "Trigo",
         "Grão",
         "865",
         "498.0",
         "2024-01-26",
         "26/01/2024",
         "Carlos"
        ],
        [
         "26",
         "Algodão",
         "Fibra",
         "indefinido",
         "65.0",
         "sem data",
         "27/01/2024",
         "Carlos"
        ],
        [
         "27",
         "Arroz",
         "Bebida",
         "277",
         "476.0",
         "2024-01-28",
         "erro",
         "Carlos"
        ],
        [
         "28",
         "Soja",
         "Cereal",
         "indefinido",
         "48.0",
         "2024-01-29",
         "29/01/2024",
         "Carlos"
        ],
        [
         "29",
         "Arroz",
         "Bebida",
         "278",
         null,
         "2024-01-30",
         "erro",
         "Fernanda"
        ],
        [
         "30",
         "Cana-de-açúcar",
         "Cereal",
         "229",
         "186.0",
         "2024-01-31",
         "erro",
         null
        ],
        [
         "31",
         "Café",
         "Bebida",
         "509",
         "327.0",
         "sem data",
         "01/02/2024",
         "Pedro"
        ],
        [
         "32",
         "Trigo",
         "Grão",
         "529",
         "180.0",
         "2024-02-02",
         "02/02/2024",
         "Fernanda"
        ],
        [
         "33",
         "Cana-de-açúcar",
         "Cereal",
         "303",
         "68.0",
         "2024-02-03",
         "03/02/2024",
         "Maria"
        ],
        [
         "34",
         "Arroz",
         "Grão",
         "indefinido",
         "272.0",
         "2024-02-04",
         "04/02/2024",
         "Maria"
        ],
        [
         "35",
         "Algodão",
         "Fibra",
         "615",
         "26.0",
         "2024-02-05",
         "05/02/2024",
         "Ricardo"
        ],
        [
         "36",
         "Soja",
         "Grão",
         "174",
         "271.0",
         "2024-02-06",
         "06/02/2024",
         "Fernanda"
        ],
        [
         "37",
         "Trigo",
         "Grão",
         "500",
         "304.0",
         "sem data",
         "07/02/2024",
         "Ana"
        ],
        [
         "38",
         "Café",
         "Fibra",
         "454",
         "106.0",
         "2024-02-08",
         "08/02/2024",
         "Fernanda"
        ],
        [
         "39",
         "Algodão",
         "Grão",
         "109",
         "167.0",
         "2024-02-09",
         "09/02/2024",
         "Patrícia"
        ],
        [
         "40",
         "Café",
         "Fibra",
         "745",
         "265.0",
         "2024-02-10",
         "10/02/2024",
         "Patrícia"
        ],
        [
         "41",
         "Cana-de-açúcar",
         "Fibra",
         "396",
         "377.0",
         "2024-02-11",
         "erro",
         "Ana"
        ],
        [
         "42",
         "Soja",
         "Cereal",
         "154",
         "355.0",
         "2024-02-12",
         "12/02/2024",
         "Carlos"
        ],
        [
         "43",
         "Soja",
         "Cereal",
         "99",
         null,
         "2024-02-13",
         "13/02/2024",
         "Pedro"
        ],
        [
         "44",
         "Soja",
         "Bebida",
         "588",
         "179.0",
         "2024-02-14",
         "14/02/2024",
         "Carlos"
        ],
        [
         "45",
         "Café",
         "Cereal",
         "448",
         "292.0",
         "2024-02-15",
         "15/02/2024",
         "Carlos"
        ],
        [
         "46",
         "Soja",
         "Grão",
         "525",
         "319.0",
         "2024-02-16",
         "16/02/2024",
         "Maria"
        ],
        [
         "47",
         "Arroz",
         "Cereal",
         "418",
         "265.0",
         "2024-02-17",
         "17/02/2024",
         "Fernanda"
        ],
        [
         "48",
         "Soja",
         "Grão",
         "710",
         "1.0",
         "2024-02-18",
         "18/02/2024",
         null
        ],
        [
         "49",
         "Soja",
         "Grão",
         "253",
         "391.0",
         "2024-02-19",
         "19/02/2024",
         "Pedro"
        ]
       ],
       "shape": {
        "columns": 7,
        "rows": 2000
       }
      },
      "text/html": [
       "<div>\n",
       "<style scoped>\n",
       "    .dataframe tbody tr th:only-of-type {\n",
       "        vertical-align: middle;\n",
       "    }\n",
       "\n",
       "    .dataframe tbody tr th {\n",
       "        vertical-align: top;\n",
       "    }\n",
       "\n",
       "    .dataframe thead th {\n",
       "        text-align: right;\n",
       "    }\n",
       "</style>\n",
       "<table border=\"1\" class=\"dataframe\">\n",
       "  <thead>\n",
       "    <tr style=\"text-align: right;\">\n",
       "      <th></th>\n",
       "      <th>Produto</th>\n",
       "      <th>Categoria</th>\n",
       "      <th>Estoque</th>\n",
       "      <th>Vendidos</th>\n",
       "      <th>Data_de_vendas</th>\n",
       "      <th>Data_venda</th>\n",
       "      <th>Vendedor</th>\n",
       "    </tr>\n",
       "  </thead>\n",
       "  <tbody>\n",
       "    <tr>\n",
       "      <th>0</th>\n",
       "      <td>Café</td>\n",
       "      <td>Cereal</td>\n",
       "      <td>466</td>\n",
       "      <td>277.0</td>\n",
       "      <td>2024-01-01</td>\n",
       "      <td>01/01/2024</td>\n",
       "      <td>NaN</td>\n",
       "    </tr>\n",
       "    <tr>\n",
       "      <th>1</th>\n",
       "      <td>Soja</td>\n",
       "      <td>Grão</td>\n",
       "      <td>191</td>\n",
       "      <td>37.0</td>\n",
       "      <td>2024-01-02</td>\n",
       "      <td>02/01/2024</td>\n",
       "      <td>Pedro</td>\n",
       "    </tr>\n",
       "    <tr>\n",
       "      <th>2</th>\n",
       "      <td>Cana-de-açúcar</td>\n",
       "      <td>Grão</td>\n",
       "      <td>indefinido</td>\n",
       "      <td>241.0</td>\n",
       "      <td>2024-01-03</td>\n",
       "      <td>03/01/2024</td>\n",
       "      <td>Fernanda</td>\n",
       "    </tr>\n",
       "    <tr>\n",
       "      <th>3</th>\n",
       "      <td>Arroz</td>\n",
       "      <td>Bebida</td>\n",
       "      <td>222</td>\n",
       "      <td>283.0</td>\n",
       "      <td>2024-01-04</td>\n",
       "      <td>04/01/2024</td>\n",
       "      <td>Carlos</td>\n",
       "    </tr>\n",
       "    <tr>\n",
       "      <th>4</th>\n",
       "      <td>Arroz</td>\n",
       "      <td>Bebida</td>\n",
       "      <td>370</td>\n",
       "      <td>432.0</td>\n",
       "      <td>2024-01-05</td>\n",
       "      <td>05/01/2024</td>\n",
       "      <td>Patrícia</td>\n",
       "    </tr>\n",
       "    <tr>\n",
       "      <th>...</th>\n",
       "      <td>...</td>\n",
       "      <td>...</td>\n",
       "      <td>...</td>\n",
       "      <td>...</td>\n",
       "      <td>...</td>\n",
       "      <td>...</td>\n",
       "      <td>...</td>\n",
       "    </tr>\n",
       "    <tr>\n",
       "      <th>1995</th>\n",
       "      <td>Arroz</td>\n",
       "      <td>Cereal</td>\n",
       "      <td>493</td>\n",
       "      <td>336.0</td>\n",
       "      <td>2029-06-18</td>\n",
       "      <td>18/06/2029</td>\n",
       "      <td>Patrícia</td>\n",
       "    </tr>\n",
       "    <tr>\n",
       "      <th>1996</th>\n",
       "      <td>Cana-de-açúcar</td>\n",
       "      <td>Fibra</td>\n",
       "      <td>457</td>\n",
       "      <td>385.0</td>\n",
       "      <td>2029-06-19</td>\n",
       "      <td>19/06/2029</td>\n",
       "      <td>Ana</td>\n",
       "    </tr>\n",
       "    <tr>\n",
       "      <th>1997</th>\n",
       "      <td>Algodão</td>\n",
       "      <td>Fibra</td>\n",
       "      <td>316</td>\n",
       "      <td>276.0</td>\n",
       "      <td>2029-06-20</td>\n",
       "      <td>20/06/2029</td>\n",
       "      <td>Maria</td>\n",
       "    </tr>\n",
       "    <tr>\n",
       "      <th>1998</th>\n",
       "      <td>Trigo</td>\n",
       "      <td>Grão</td>\n",
       "      <td>65</td>\n",
       "      <td>319.0</td>\n",
       "      <td>2029-06-21</td>\n",
       "      <td>21/06/2029</td>\n",
       "      <td>João</td>\n",
       "    </tr>\n",
       "    <tr>\n",
       "      <th>1999</th>\n",
       "      <td>Milho</td>\n",
       "      <td>Fibra</td>\n",
       "      <td>982</td>\n",
       "      <td>403.0</td>\n",
       "      <td>2029-06-22</td>\n",
       "      <td>22/06/2029</td>\n",
       "      <td>Ricardo</td>\n",
       "    </tr>\n",
       "  </tbody>\n",
       "</table>\n",
       "<p>2000 rows × 7 columns</p>\n",
       "</div>"
      ],
      "text/plain": [
       "             Produto Categoria     Estoque  Vendidos Data_de_vendas  \\\n",
       "0               Café    Cereal         466     277.0     2024-01-01   \n",
       "1               Soja      Grão         191      37.0     2024-01-02   \n",
       "2     Cana-de-açúcar      Grão  indefinido     241.0     2024-01-03   \n",
       "3              Arroz    Bebida         222     283.0     2024-01-04   \n",
       "4              Arroz    Bebida         370     432.0     2024-01-05   \n",
       "...              ...       ...         ...       ...            ...   \n",
       "1995           Arroz    Cereal         493     336.0     2029-06-18   \n",
       "1996  Cana-de-açúcar     Fibra         457     385.0     2029-06-19   \n",
       "1997         Algodão     Fibra         316     276.0     2029-06-20   \n",
       "1998           Trigo      Grão          65     319.0     2029-06-21   \n",
       "1999           Milho     Fibra         982     403.0     2029-06-22   \n",
       "\n",
       "      Data_venda  Vendedor  \n",
       "0     01/01/2024       NaN  \n",
       "1     02/01/2024     Pedro  \n",
       "2     03/01/2024  Fernanda  \n",
       "3     04/01/2024    Carlos  \n",
       "4     05/01/2024  Patrícia  \n",
       "...          ...       ...  \n",
       "1995  18/06/2029  Patrícia  \n",
       "1996  19/06/2029       Ana  \n",
       "1997  20/06/2029     Maria  \n",
       "1998  21/06/2029      João  \n",
       "1999  22/06/2029   Ricardo  \n",
       "\n",
       "[2000 rows x 7 columns]"
      ]
     },
     "execution_count": 83,
     "metadata": {},
     "output_type": "execute_result"
    }
   ],
   "source": [
    "df"
   ]
  },
  {
   "cell_type": "markdown",
   "id": "2a755586",
   "metadata": {},
   "source": [
    "### Comando básicos de checagem de tabela"
   ]
  },
  {
   "cell_type": "code",
   "execution_count": 84,
   "id": "fca7074b",
   "metadata": {},
   "outputs": [
    {
     "data": {
      "application/vnd.microsoft.datawrangler.viewer.v0+json": {
       "columns": [
        {
         "name": "index",
         "rawType": "int64",
         "type": "integer"
        },
        {
         "name": "Produto",
         "rawType": "object",
         "type": "string"
        },
        {
         "name": "Categoria",
         "rawType": "object",
         "type": "string"
        },
        {
         "name": "Estoque",
         "rawType": "object",
         "type": "string"
        },
        {
         "name": "Vendidos",
         "rawType": "float64",
         "type": "float"
        },
        {
         "name": "Data_de_vendas",
         "rawType": "object",
         "type": "string"
        },
        {
         "name": "Data_venda",
         "rawType": "object",
         "type": "string"
        },
        {
         "name": "Vendedor",
         "rawType": "object",
         "type": "unknown"
        }
       ],
       "ref": "db605474-5c80-4353-9766-3f28240181fd",
       "rows": [
        [
         "0",
         "Café",
         "Cereal",
         "466",
         "277.0",
         "2024-01-01",
         "01/01/2024",
         null
        ],
        [
         "1",
         "Soja",
         "Grão",
         "191",
         "37.0",
         "2024-01-02",
         "02/01/2024",
         "Pedro"
        ],
        [
         "2",
         "Cana-de-açúcar",
         "Grão",
         "indefinido",
         "241.0",
         "2024-01-03",
         "03/01/2024",
         "Fernanda"
        ],
        [
         "3",
         "Arroz",
         "Bebida",
         "222",
         "283.0",
         "2024-01-04",
         "04/01/2024",
         "Carlos"
        ],
        [
         "4",
         "Arroz",
         "Bebida",
         "370",
         "432.0",
         "2024-01-05",
         "05/01/2024",
         "Patrícia"
        ]
       ],
       "shape": {
        "columns": 7,
        "rows": 5
       }
      },
      "text/html": [
       "<div>\n",
       "<style scoped>\n",
       "    .dataframe tbody tr th:only-of-type {\n",
       "        vertical-align: middle;\n",
       "    }\n",
       "\n",
       "    .dataframe tbody tr th {\n",
       "        vertical-align: top;\n",
       "    }\n",
       "\n",
       "    .dataframe thead th {\n",
       "        text-align: right;\n",
       "    }\n",
       "</style>\n",
       "<table border=\"1\" class=\"dataframe\">\n",
       "  <thead>\n",
       "    <tr style=\"text-align: right;\">\n",
       "      <th></th>\n",
       "      <th>Produto</th>\n",
       "      <th>Categoria</th>\n",
       "      <th>Estoque</th>\n",
       "      <th>Vendidos</th>\n",
       "      <th>Data_de_vendas</th>\n",
       "      <th>Data_venda</th>\n",
       "      <th>Vendedor</th>\n",
       "    </tr>\n",
       "  </thead>\n",
       "  <tbody>\n",
       "    <tr>\n",
       "      <th>0</th>\n",
       "      <td>Café</td>\n",
       "      <td>Cereal</td>\n",
       "      <td>466</td>\n",
       "      <td>277.0</td>\n",
       "      <td>2024-01-01</td>\n",
       "      <td>01/01/2024</td>\n",
       "      <td>NaN</td>\n",
       "    </tr>\n",
       "    <tr>\n",
       "      <th>1</th>\n",
       "      <td>Soja</td>\n",
       "      <td>Grão</td>\n",
       "      <td>191</td>\n",
       "      <td>37.0</td>\n",
       "      <td>2024-01-02</td>\n",
       "      <td>02/01/2024</td>\n",
       "      <td>Pedro</td>\n",
       "    </tr>\n",
       "    <tr>\n",
       "      <th>2</th>\n",
       "      <td>Cana-de-açúcar</td>\n",
       "      <td>Grão</td>\n",
       "      <td>indefinido</td>\n",
       "      <td>241.0</td>\n",
       "      <td>2024-01-03</td>\n",
       "      <td>03/01/2024</td>\n",
       "      <td>Fernanda</td>\n",
       "    </tr>\n",
       "    <tr>\n",
       "      <th>3</th>\n",
       "      <td>Arroz</td>\n",
       "      <td>Bebida</td>\n",
       "      <td>222</td>\n",
       "      <td>283.0</td>\n",
       "      <td>2024-01-04</td>\n",
       "      <td>04/01/2024</td>\n",
       "      <td>Carlos</td>\n",
       "    </tr>\n",
       "    <tr>\n",
       "      <th>4</th>\n",
       "      <td>Arroz</td>\n",
       "      <td>Bebida</td>\n",
       "      <td>370</td>\n",
       "      <td>432.0</td>\n",
       "      <td>2024-01-05</td>\n",
       "      <td>05/01/2024</td>\n",
       "      <td>Patrícia</td>\n",
       "    </tr>\n",
       "  </tbody>\n",
       "</table>\n",
       "</div>"
      ],
      "text/plain": [
       "          Produto Categoria     Estoque  Vendidos Data_de_vendas  Data_venda  \\\n",
       "0            Café    Cereal         466     277.0     2024-01-01  01/01/2024   \n",
       "1            Soja      Grão         191      37.0     2024-01-02  02/01/2024   \n",
       "2  Cana-de-açúcar      Grão  indefinido     241.0     2024-01-03  03/01/2024   \n",
       "3           Arroz    Bebida         222     283.0     2024-01-04  04/01/2024   \n",
       "4           Arroz    Bebida         370     432.0     2024-01-05  05/01/2024   \n",
       "\n",
       "   Vendedor  \n",
       "0       NaN  \n",
       "1     Pedro  \n",
       "2  Fernanda  \n",
       "3    Carlos  \n",
       "4  Patrícia  "
      ]
     },
     "execution_count": 84,
     "metadata": {},
     "output_type": "execute_result"
    }
   ],
   "source": [
    "df.head(5) #`df.head()` -> mostra os primeiros registros da tabela"
   ]
  },
  {
   "cell_type": "code",
   "execution_count": 85,
   "id": "fee2cf19",
   "metadata": {},
   "outputs": [
    {
     "data": {
      "application/vnd.microsoft.datawrangler.viewer.v0+json": {
       "columns": [
        {
         "name": "index",
         "rawType": "int64",
         "type": "integer"
        },
        {
         "name": "Produto",
         "rawType": "object",
         "type": "string"
        },
        {
         "name": "Categoria",
         "rawType": "object",
         "type": "string"
        },
        {
         "name": "Estoque",
         "rawType": "object",
         "type": "string"
        },
        {
         "name": "Vendidos",
         "rawType": "float64",
         "type": "float"
        },
        {
         "name": "Data_de_vendas",
         "rawType": "object",
         "type": "string"
        },
        {
         "name": "Data_venda",
         "rawType": "object",
         "type": "string"
        },
        {
         "name": "Vendedor",
         "rawType": "object",
         "type": "string"
        }
       ],
       "ref": "dcfa16f8-9fa0-4b05-b285-762b49c29588",
       "rows": [
        [
         "1995",
         "Arroz",
         "Cereal",
         "493",
         "336.0",
         "2029-06-18",
         "18/06/2029",
         "Patrícia"
        ],
        [
         "1996",
         "Cana-de-açúcar",
         "Fibra",
         "457",
         "385.0",
         "2029-06-19",
         "19/06/2029",
         "Ana"
        ],
        [
         "1997",
         "Algodão",
         "Fibra",
         "316",
         "276.0",
         "2029-06-20",
         "20/06/2029",
         "Maria"
        ],
        [
         "1998",
         "Trigo",
         "Grão",
         "65",
         "319.0",
         "2029-06-21",
         "21/06/2029",
         "João"
        ],
        [
         "1999",
         "Milho",
         "Fibra",
         "982",
         "403.0",
         "2029-06-22",
         "22/06/2029",
         "Ricardo"
        ]
       ],
       "shape": {
        "columns": 7,
        "rows": 5
       }
      },
      "text/html": [
       "<div>\n",
       "<style scoped>\n",
       "    .dataframe tbody tr th:only-of-type {\n",
       "        vertical-align: middle;\n",
       "    }\n",
       "\n",
       "    .dataframe tbody tr th {\n",
       "        vertical-align: top;\n",
       "    }\n",
       "\n",
       "    .dataframe thead th {\n",
       "        text-align: right;\n",
       "    }\n",
       "</style>\n",
       "<table border=\"1\" class=\"dataframe\">\n",
       "  <thead>\n",
       "    <tr style=\"text-align: right;\">\n",
       "      <th></th>\n",
       "      <th>Produto</th>\n",
       "      <th>Categoria</th>\n",
       "      <th>Estoque</th>\n",
       "      <th>Vendidos</th>\n",
       "      <th>Data_de_vendas</th>\n",
       "      <th>Data_venda</th>\n",
       "      <th>Vendedor</th>\n",
       "    </tr>\n",
       "  </thead>\n",
       "  <tbody>\n",
       "    <tr>\n",
       "      <th>1995</th>\n",
       "      <td>Arroz</td>\n",
       "      <td>Cereal</td>\n",
       "      <td>493</td>\n",
       "      <td>336.0</td>\n",
       "      <td>2029-06-18</td>\n",
       "      <td>18/06/2029</td>\n",
       "      <td>Patrícia</td>\n",
       "    </tr>\n",
       "    <tr>\n",
       "      <th>1996</th>\n",
       "      <td>Cana-de-açúcar</td>\n",
       "      <td>Fibra</td>\n",
       "      <td>457</td>\n",
       "      <td>385.0</td>\n",
       "      <td>2029-06-19</td>\n",
       "      <td>19/06/2029</td>\n",
       "      <td>Ana</td>\n",
       "    </tr>\n",
       "    <tr>\n",
       "      <th>1997</th>\n",
       "      <td>Algodão</td>\n",
       "      <td>Fibra</td>\n",
       "      <td>316</td>\n",
       "      <td>276.0</td>\n",
       "      <td>2029-06-20</td>\n",
       "      <td>20/06/2029</td>\n",
       "      <td>Maria</td>\n",
       "    </tr>\n",
       "    <tr>\n",
       "      <th>1998</th>\n",
       "      <td>Trigo</td>\n",
       "      <td>Grão</td>\n",
       "      <td>65</td>\n",
       "      <td>319.0</td>\n",
       "      <td>2029-06-21</td>\n",
       "      <td>21/06/2029</td>\n",
       "      <td>João</td>\n",
       "    </tr>\n",
       "    <tr>\n",
       "      <th>1999</th>\n",
       "      <td>Milho</td>\n",
       "      <td>Fibra</td>\n",
       "      <td>982</td>\n",
       "      <td>403.0</td>\n",
       "      <td>2029-06-22</td>\n",
       "      <td>22/06/2029</td>\n",
       "      <td>Ricardo</td>\n",
       "    </tr>\n",
       "  </tbody>\n",
       "</table>\n",
       "</div>"
      ],
      "text/plain": [
       "             Produto Categoria Estoque  Vendidos Data_de_vendas  Data_venda  \\\n",
       "1995           Arroz    Cereal     493     336.0     2029-06-18  18/06/2029   \n",
       "1996  Cana-de-açúcar     Fibra     457     385.0     2029-06-19  19/06/2029   \n",
       "1997         Algodão     Fibra     316     276.0     2029-06-20  20/06/2029   \n",
       "1998           Trigo      Grão      65     319.0     2029-06-21  21/06/2029   \n",
       "1999           Milho     Fibra     982     403.0     2029-06-22  22/06/2029   \n",
       "\n",
       "      Vendedor  \n",
       "1995  Patrícia  \n",
       "1996       Ana  \n",
       "1997     Maria  \n",
       "1998      João  \n",
       "1999   Ricardo  "
      ]
     },
     "execution_count": 85,
     "metadata": {},
     "output_type": "execute_result"
    }
   ],
   "source": [
    "df.tail(5) #`df.tail()` -> mostra os últimos registros da tabela"
   ]
  },
  {
   "cell_type": "code",
   "execution_count": 86,
   "id": "5ca85fa2",
   "metadata": {},
   "outputs": [
    {
     "name": "stdout",
     "output_type": "stream",
     "text": [
      "<class 'pandas.core.frame.DataFrame'>\n",
      "RangeIndex: 2000 entries, 0 to 1999\n",
      "Data columns (total 7 columns):\n",
      " #   Column          Non-Null Count  Dtype  \n",
      "---  ------          --------------  -----  \n",
      " 0   Produto         2000 non-null   object \n",
      " 1   Categoria       2000 non-null   object \n",
      " 2   Estoque         2000 non-null   object \n",
      " 3   Vendidos        1848 non-null   float64\n",
      " 4   Data_de_vendas  2000 non-null   object \n",
      " 5   Data_venda      2000 non-null   object \n",
      " 6   Vendedor        1868 non-null   object \n",
      "dtypes: float64(1), object(6)\n",
      "memory usage: 109.5+ KB\n"
     ]
    }
   ],
   "source": [
    "df.info() #`df.info()` -> informações sobre a tabela (colunas, tipo de dado, valores nulos)\n",
    "# JÁ VERIFICAMOS QUE HÁ TABELAS EM TIPOS ERRADOS MAIS A FRENTE SERÁ FEITA A TRANSFORMAÇÃO PARA SEUS DEVIDOS TIPOS"
   ]
  },
  {
   "cell_type": "code",
   "execution_count": 87,
   "id": "ba23b167",
   "metadata": {},
   "outputs": [
    {
     "data": {
      "application/vnd.microsoft.datawrangler.viewer.v0+json": {
       "columns": [
        {
         "name": "index",
         "rawType": "object",
         "type": "string"
        },
        {
         "name": "Vendidos",
         "rawType": "float64",
         "type": "float"
        }
       ],
       "ref": "6030bf7a-21b7-4e4f-b22f-d53058645bf1",
       "rows": [
        [
         "count",
         "1848.0"
        ],
        [
         "mean",
         "239.9020562770563"
        ],
        [
         "std",
         "141.80558778753138"
        ],
        [
         "min",
         "1.0"
        ],
        [
         "25%",
         "116.75"
        ],
        [
         "50%",
         "237.0"
        ],
        [
         "75%",
         "362.0"
        ],
        [
         "max",
         "499.0"
        ]
       ],
       "shape": {
        "columns": 1,
        "rows": 8
       }
      },
      "text/plain": [
       "count    1848.000000\n",
       "mean      239.902056\n",
       "std       141.805588\n",
       "min         1.000000\n",
       "25%       116.750000\n",
       "50%       237.000000\n",
       "75%       362.000000\n",
       "max       499.000000\n",
       "Name: Vendidos, dtype: float64"
      ]
     },
     "execution_count": 87,
     "metadata": {},
     "output_type": "execute_result"
    }
   ],
   "source": [
    "df['Vendidos'].describe() #`df.describe()` -> estatísticas descritivas das colunas numéricas"
   ]
  },
  {
   "cell_type": "markdown",
   "id": "0491dccb",
   "metadata": {},
   "source": [
    "### Tratamentos e transformação de dados | Parte 1"
   ]
  },
  {
   "cell_type": "code",
   "execution_count": 88,
   "id": "53585349",
   "metadata": {},
   "outputs": [
    {
     "name": "stdout",
     "output_type": "stream",
     "text": [
      "<class 'pandas.core.frame.DataFrame'>\n",
      "RangeIndex: 2000 entries, 0 to 1999\n",
      "Data columns (total 7 columns):\n",
      " #   Column          Non-Null Count  Dtype  \n",
      "---  ------          --------------  -----  \n",
      " 0   Produto         2000 non-null   object \n",
      " 1   Categoria       2000 non-null   object \n",
      " 2   Estoque         2000 non-null   object \n",
      " 3   Vendidos        1848 non-null   float64\n",
      " 4   Data_de_vendas  2000 non-null   object \n",
      " 5   Data_venda      2000 non-null   object \n",
      " 6   Vendedor        1868 non-null   object \n",
      "dtypes: float64(1), object(6)\n",
      "memory usage: 109.5+ KB\n"
     ]
    }
   ],
   "source": [
    "df.info()"
   ]
  },
  {
   "cell_type": "markdown",
   "id": "8e85ff1f",
   "metadata": {},
   "source": [
    "# Tipos de Dados (dtypes) no pandas\n",
    "\n",
    "| dtype           | Exemplo                | Uso                        |\n",
    "|-----------------|-----------------------|----------------------------|\n",
    "| int64           | 10, -5                | Números inteiros           |\n",
    "| float64         | 3.14, -0.5            | Números decimais           |\n",
    "| bool            | True, False           | Valores lógicos            |\n",
    "| object          | \"Python\", \"Ana\"       | Texto ou dados mistos      |\n",
    "| string          | \"Python\"              | Texto (mais moderno)       |\n",
    "| datetime64[ns]  | 2025-08-24 17:00:00   | Datas e horas              |\n",
    "| timedelta[ns]   | 5 days 12:30:00       | Diferença entre datas      |\n",
    "| category        | \"M\", \"F\"              | Dados categóricos          |\n",
    "| Int64           | 10, NaN               | Inteiros com valores nulos |\n",
    "\n",
    "logo aqueles dados que não estão em seu determinado tipo nos devemos os consertar\n",
    "✅ 0   Produto         | object <br>\n",
    "✅ 1   Categoria       | object <br>\n",
    "❌ 2   Estoque         | object -> errado, seu tipo é int64 <br>\n",
    "❌ 3   Vendidos        | float64 -> float até funciona mas o int64 é mais adequado <br>\n",
    "❌ 4   Data_de_vendas  | object -> redundante o dados pois ja tem outro com data de vendas <br>\n",
    "❌ 5   Data_venda      | object -> está errado pois seu tipo é datetime <br>\n",
    "✅ 6   Vendedor        | object \n"
   ]
  },
  {
   "cell_type": "code",
   "execution_count": 89,
   "id": "b01800b5",
   "metadata": {},
   "outputs": [
    {
     "data": {
      "text/plain": [
       "<bound method NDFrame.astype of 0       277\n",
       "1        37\n",
       "2       241\n",
       "3       283\n",
       "4       432\n",
       "       ... \n",
       "1995    336\n",
       "1996    385\n",
       "1997    276\n",
       "1998    319\n",
       "1999    403\n",
       "Name: Vendidos, Length: 2000, dtype: Int64>"
      ]
     },
     "execution_count": 89,
     "metadata": {},
     "output_type": "execute_result"
    }
   ],
   "source": [
    "df['Vendidos'] = pd.to_numeric(df['Vendidos'], errors='coerce')\n",
    "df['Vendidos'] = df['Vendidos'].astype('Int64')\n",
    "df['Vendidos'].astype  #Conversão para int64"
   ]
  },
  {
   "cell_type": "code",
   "execution_count": 90,
   "id": "9f282139",
   "metadata": {},
   "outputs": [
    {
     "data": {
      "text/plain": [
       "<bound method NDFrame.astype of 0        466\n",
       "1        191\n",
       "2       <NA>\n",
       "3        222\n",
       "4        370\n",
       "        ... \n",
       "1995     493\n",
       "1996     457\n",
       "1997     316\n",
       "1998      65\n",
       "1999     982\n",
       "Name: Estoque, Length: 2000, dtype: Int64>"
      ]
     },
     "execution_count": 90,
     "metadata": {},
     "output_type": "execute_result"
    }
   ],
   "source": [
    "df['Estoque'] = pd.to_numeric(df['Estoque'], errors='coerce')\n",
    "df['Estoque'] = df['Estoque'].astype('Int64')\n",
    "df['Estoque'].astype  #Conversão para int64"
   ]
  },
  {
   "cell_type": "markdown",
   "id": "00192f13",
   "metadata": {},
   "source": [
    "### Tratamentos e transformação de dados | Parte2"
   ]
  },
  {
   "cell_type": "code",
   "execution_count": 91,
   "id": "1267201b",
   "metadata": {},
   "outputs": [],
   "source": [
    "df['Data_de_vendas'] = pd.to_datetime(df['Data_de_vendas'], errors='coerce', dayfirst=False)\n",
    "df['Data_venda'] = pd.to_datetime(df['Data_venda'], errors='coerce', dayfirst=True)"
   ]
  },
  {
   "cell_type": "code",
   "execution_count": 92,
   "id": "28c04163",
   "metadata": {},
   "outputs": [
    {
     "data": {
      "application/vnd.microsoft.datawrangler.viewer.v0+json": {
       "columns": [
        {
         "name": "index",
         "rawType": "int64",
         "type": "integer"
        },
        {
         "name": "Produto",
         "rawType": "object",
         "type": "string"
        },
        {
         "name": "Categoria",
         "rawType": "object",
         "type": "string"
        },
        {
         "name": "Estoque",
         "rawType": "Int64",
         "type": "integer"
        },
        {
         "name": "Vendidos",
         "rawType": "Int64",
         "type": "integer"
        },
        {
         "name": "Data_de_vendas",
         "rawType": "datetime64[ns]",
         "type": "datetime"
        },
        {
         "name": "Data_venda",
         "rawType": "datetime64[ns]",
         "type": "datetime"
        },
        {
         "name": "Vendedor",
         "rawType": "object",
         "type": "unknown"
        }
       ],
       "ref": "46bdc41a-c4da-463a-9214-32bf92e69f63",
       "rows": [
        [
         "0",
         "Café",
         "Cereal",
         "466",
         "277",
         "2024-01-01 00:00:00",
         "2024-01-01 00:00:00",
         null
        ],
        [
         "1",
         "Soja",
         "Grão",
         "191",
         "37",
         "2024-01-02 00:00:00",
         "2024-01-02 00:00:00",
         "Pedro"
        ],
        [
         "2",
         "Cana-de-açúcar",
         "Grão",
         null,
         "241",
         "2024-01-03 00:00:00",
         "2024-01-03 00:00:00",
         "Fernanda"
        ],
        [
         "3",
         "Arroz",
         "Bebida",
         "222",
         "283",
         "2024-01-04 00:00:00",
         "2024-01-04 00:00:00",
         "Carlos"
        ],
        [
         "4",
         "Arroz",
         "Bebida",
         "370",
         "432",
         "2024-01-05 00:00:00",
         "2024-01-05 00:00:00",
         "Patrícia"
        ],
        [
         "5",
         "Café",
         "Grão",
         "559",
         "443",
         "2024-01-06 00:00:00",
         "2024-01-06 00:00:00",
         null
        ],
        [
         "6",
         "Cana-de-açúcar",
         "Cereal",
         "530",
         "337",
         "2024-01-07 00:00:00",
         "2024-01-07 00:00:00",
         "Patrícia"
        ],
        [
         "7",
         "Algodão",
         "Fibra",
         "100",
         null,
         "2024-01-08 00:00:00",
         "2024-01-08 00:00:00",
         "Ricardo"
        ],
        [
         "8",
         "Cana-de-açúcar",
         "Bebida",
         "52",
         "116",
         "2024-01-09 00:00:00",
         "2024-01-09 00:00:00",
         null
        ],
        [
         "9",
         "Café",
         "Cereal",
         "187",
         "369",
         "2024-01-10 00:00:00",
         "2024-01-10 00:00:00",
         "Pedro"
        ],
        [
         "10",
         "Soja",
         "Cereal",
         "929",
         "190",
         "2024-01-11 00:00:00",
         "2024-01-11 00:00:00",
         "Pedro"
        ],
        [
         "11",
         "Cana-de-açúcar",
         "Cereal",
         "526",
         "181",
         "2024-01-12 00:00:00",
         "2024-01-12 00:00:00",
         "João"
        ],
        [
         "12",
         "Arroz",
         "Bebida",
         "438",
         "104",
         "2024-01-13 00:00:00",
         "2024-01-13 00:00:00",
         "Ana"
        ],
        [
         "13",
         "Arroz",
         "Cereal",
         "315",
         "200",
         "2024-01-14 00:00:00",
         "2024-01-14 00:00:00",
         "Carlos"
        ],
        [
         "14",
         "Café",
         "Fibra",
         "50",
         "377",
         "2024-01-15 00:00:00",
         "2024-01-15 00:00:00",
         "Carlos"
        ],
        [
         "15",
         "Café",
         "Bebida",
         "969",
         "412",
         "2024-01-16 00:00:00",
         "2024-01-16 00:00:00",
         "Patrícia"
        ],
        [
         "16",
         "Soja",
         "Bebida",
         null,
         "36",
         "2024-01-17 00:00:00",
         "2024-01-17 00:00:00",
         "Fernanda"
        ],
        [
         "17",
         "Cana-de-açúcar",
         "Cereal",
         "830",
         null,
         "2024-01-18 00:00:00",
         "2024-01-18 00:00:00",
         "Ricardo"
        ],
        [
         "18",
         "Cana-de-açúcar",
         "Cereal",
         "620",
         "192",
         "2024-01-19 00:00:00",
         "2024-01-19 00:00:00",
         "Patrícia"
        ],
        [
         "19",
         "Trigo",
         "Bebida",
         "931",
         "189",
         "2024-01-20 00:00:00",
         "2024-01-20 00:00:00",
         "Ana"
        ],
        [
         "20",
         "Café",
         "Grão",
         "323",
         "278",
         "2024-01-21 00:00:00",
         "2024-01-21 00:00:00",
         "Patrícia"
        ],
        [
         "21",
         "Trigo",
         "Cereal",
         "861",
         "280",
         "2024-01-22 00:00:00",
         "2024-01-22 00:00:00",
         "Pedro"
        ],
        [
         "22",
         "Arroz",
         "Bebida",
         "141",
         "243",
         "2024-01-23 00:00:00",
         "2024-01-23 00:00:00",
         "Fernanda"
        ],
        [
         "23",
         "Algodão",
         "Bebida",
         "612",
         "209",
         "2024-01-24 00:00:00",
         "2024-01-24 00:00:00",
         "Pedro"
        ],
        [
         "24",
         "Milho",
         "Bebida",
         "432",
         "85",
         "2024-01-25 00:00:00",
         "2024-01-25 00:00:00",
         "Ana"
        ],
        [
         "25",
         "Trigo",
         "Grão",
         "865",
         "498",
         "2024-01-26 00:00:00",
         "2024-01-26 00:00:00",
         "Carlos"
        ],
        [
         "26",
         "Algodão",
         "Fibra",
         null,
         "65",
         "2024-01-27 00:00:00",
         "2024-01-27 00:00:00",
         "Carlos"
        ],
        [
         "27",
         "Arroz",
         "Bebida",
         "277",
         "476",
         "2024-01-28 00:00:00",
         "2024-01-28 00:00:00",
         "Carlos"
        ],
        [
         "28",
         "Soja",
         "Cereal",
         null,
         "48",
         "2024-01-29 00:00:00",
         "2024-01-29 00:00:00",
         "Carlos"
        ],
        [
         "29",
         "Arroz",
         "Bebida",
         "278",
         null,
         "2024-01-30 00:00:00",
         "2024-01-30 00:00:00",
         "Fernanda"
        ],
        [
         "30",
         "Cana-de-açúcar",
         "Cereal",
         "229",
         "186",
         "2024-01-31 00:00:00",
         "2024-01-31 00:00:00",
         null
        ],
        [
         "31",
         "Café",
         "Bebida",
         "509",
         "327",
         "2024-02-01 00:00:00",
         "2024-02-01 00:00:00",
         "Pedro"
        ],
        [
         "32",
         "Trigo",
         "Grão",
         "529",
         "180",
         "2024-02-02 00:00:00",
         "2024-02-02 00:00:00",
         "Fernanda"
        ],
        [
         "33",
         "Cana-de-açúcar",
         "Cereal",
         "303",
         "68",
         "2024-02-03 00:00:00",
         "2024-02-03 00:00:00",
         "Maria"
        ],
        [
         "34",
         "Arroz",
         "Grão",
         null,
         "272",
         "2024-02-04 00:00:00",
         "2024-02-04 00:00:00",
         "Maria"
        ],
        [
         "35",
         "Algodão",
         "Fibra",
         "615",
         "26",
         "2024-02-05 00:00:00",
         "2024-02-05 00:00:00",
         "Ricardo"
        ],
        [
         "36",
         "Soja",
         "Grão",
         "174",
         "271",
         "2024-02-06 00:00:00",
         "2024-02-06 00:00:00",
         "Fernanda"
        ],
        [
         "37",
         "Trigo",
         "Grão",
         "500",
         "304",
         "2024-02-07 00:00:00",
         "2024-02-07 00:00:00",
         "Ana"
        ],
        [
         "38",
         "Café",
         "Fibra",
         "454",
         "106",
         "2024-02-08 00:00:00",
         "2024-02-08 00:00:00",
         "Fernanda"
        ],
        [
         "39",
         "Algodão",
         "Grão",
         "109",
         "167",
         "2024-02-09 00:00:00",
         "2024-02-09 00:00:00",
         "Patrícia"
        ],
        [
         "40",
         "Café",
         "Fibra",
         "745",
         "265",
         "2024-02-10 00:00:00",
         "2024-02-10 00:00:00",
         "Patrícia"
        ],
        [
         "41",
         "Cana-de-açúcar",
         "Fibra",
         "396",
         "377",
         "2024-02-11 00:00:00",
         "2024-02-11 00:00:00",
         "Ana"
        ],
        [
         "42",
         "Soja",
         "Cereal",
         "154",
         "355",
         "2024-02-12 00:00:00",
         "2024-02-12 00:00:00",
         "Carlos"
        ],
        [
         "43",
         "Soja",
         "Cereal",
         "99",
         null,
         "2024-02-13 00:00:00",
         "2024-02-13 00:00:00",
         "Pedro"
        ],
        [
         "44",
         "Soja",
         "Bebida",
         "588",
         "179",
         "2024-02-14 00:00:00",
         "2024-02-14 00:00:00",
         "Carlos"
        ],
        [
         "45",
         "Café",
         "Cereal",
         "448",
         "292",
         "2024-02-15 00:00:00",
         "2024-02-15 00:00:00",
         "Carlos"
        ],
        [
         "46",
         "Soja",
         "Grão",
         "525",
         "319",
         "2024-02-16 00:00:00",
         "2024-02-16 00:00:00",
         "Maria"
        ],
        [
         "47",
         "Arroz",
         "Cereal",
         "418",
         "265",
         "2024-02-17 00:00:00",
         "2024-02-17 00:00:00",
         "Fernanda"
        ],
        [
         "48",
         "Soja",
         "Grão",
         "710",
         "1",
         "2024-02-18 00:00:00",
         "2024-02-18 00:00:00",
         null
        ],
        [
         "49",
         "Soja",
         "Grão",
         "253",
         "391",
         "2024-02-19 00:00:00",
         "2024-02-19 00:00:00",
         "Pedro"
        ]
       ],
       "shape": {
        "columns": 7,
        "rows": 2000
       }
      },
      "text/html": [
       "<div>\n",
       "<style scoped>\n",
       "    .dataframe tbody tr th:only-of-type {\n",
       "        vertical-align: middle;\n",
       "    }\n",
       "\n",
       "    .dataframe tbody tr th {\n",
       "        vertical-align: top;\n",
       "    }\n",
       "\n",
       "    .dataframe thead th {\n",
       "        text-align: right;\n",
       "    }\n",
       "</style>\n",
       "<table border=\"1\" class=\"dataframe\">\n",
       "  <thead>\n",
       "    <tr style=\"text-align: right;\">\n",
       "      <th></th>\n",
       "      <th>Produto</th>\n",
       "      <th>Categoria</th>\n",
       "      <th>Estoque</th>\n",
       "      <th>Vendidos</th>\n",
       "      <th>Data_de_vendas</th>\n",
       "      <th>Data_venda</th>\n",
       "      <th>Vendedor</th>\n",
       "    </tr>\n",
       "  </thead>\n",
       "  <tbody>\n",
       "    <tr>\n",
       "      <th>0</th>\n",
       "      <td>Café</td>\n",
       "      <td>Cereal</td>\n",
       "      <td>466</td>\n",
       "      <td>277</td>\n",
       "      <td>2024-01-01</td>\n",
       "      <td>2024-01-01</td>\n",
       "      <td>NaN</td>\n",
       "    </tr>\n",
       "    <tr>\n",
       "      <th>1</th>\n",
       "      <td>Soja</td>\n",
       "      <td>Grão</td>\n",
       "      <td>191</td>\n",
       "      <td>37</td>\n",
       "      <td>2024-01-02</td>\n",
       "      <td>2024-01-02</td>\n",
       "      <td>Pedro</td>\n",
       "    </tr>\n",
       "    <tr>\n",
       "      <th>2</th>\n",
       "      <td>Cana-de-açúcar</td>\n",
       "      <td>Grão</td>\n",
       "      <td>&lt;NA&gt;</td>\n",
       "      <td>241</td>\n",
       "      <td>2024-01-03</td>\n",
       "      <td>2024-01-03</td>\n",
       "      <td>Fernanda</td>\n",
       "    </tr>\n",
       "    <tr>\n",
       "      <th>3</th>\n",
       "      <td>Arroz</td>\n",
       "      <td>Bebida</td>\n",
       "      <td>222</td>\n",
       "      <td>283</td>\n",
       "      <td>2024-01-04</td>\n",
       "      <td>2024-01-04</td>\n",
       "      <td>Carlos</td>\n",
       "    </tr>\n",
       "    <tr>\n",
       "      <th>4</th>\n",
       "      <td>Arroz</td>\n",
       "      <td>Bebida</td>\n",
       "      <td>370</td>\n",
       "      <td>432</td>\n",
       "      <td>2024-01-05</td>\n",
       "      <td>2024-01-05</td>\n",
       "      <td>Patrícia</td>\n",
       "    </tr>\n",
       "    <tr>\n",
       "      <th>...</th>\n",
       "      <td>...</td>\n",
       "      <td>...</td>\n",
       "      <td>...</td>\n",
       "      <td>...</td>\n",
       "      <td>...</td>\n",
       "      <td>...</td>\n",
       "      <td>...</td>\n",
       "    </tr>\n",
       "    <tr>\n",
       "      <th>1995</th>\n",
       "      <td>Arroz</td>\n",
       "      <td>Cereal</td>\n",
       "      <td>493</td>\n",
       "      <td>336</td>\n",
       "      <td>2029-06-18</td>\n",
       "      <td>2029-06-18</td>\n",
       "      <td>Patrícia</td>\n",
       "    </tr>\n",
       "    <tr>\n",
       "      <th>1996</th>\n",
       "      <td>Cana-de-açúcar</td>\n",
       "      <td>Fibra</td>\n",
       "      <td>457</td>\n",
       "      <td>385</td>\n",
       "      <td>2029-06-19</td>\n",
       "      <td>2029-06-19</td>\n",
       "      <td>Ana</td>\n",
       "    </tr>\n",
       "    <tr>\n",
       "      <th>1997</th>\n",
       "      <td>Algodão</td>\n",
       "      <td>Fibra</td>\n",
       "      <td>316</td>\n",
       "      <td>276</td>\n",
       "      <td>2029-06-20</td>\n",
       "      <td>2029-06-20</td>\n",
       "      <td>Maria</td>\n",
       "    </tr>\n",
       "    <tr>\n",
       "      <th>1998</th>\n",
       "      <td>Trigo</td>\n",
       "      <td>Grão</td>\n",
       "      <td>65</td>\n",
       "      <td>319</td>\n",
       "      <td>2029-06-21</td>\n",
       "      <td>2029-06-21</td>\n",
       "      <td>João</td>\n",
       "    </tr>\n",
       "    <tr>\n",
       "      <th>1999</th>\n",
       "      <td>Milho</td>\n",
       "      <td>Fibra</td>\n",
       "      <td>982</td>\n",
       "      <td>403</td>\n",
       "      <td>2029-06-22</td>\n",
       "      <td>2029-06-22</td>\n",
       "      <td>Ricardo</td>\n",
       "    </tr>\n",
       "  </tbody>\n",
       "</table>\n",
       "<p>2000 rows × 7 columns</p>\n",
       "</div>"
      ],
      "text/plain": [
       "             Produto Categoria  Estoque  Vendidos Data_de_vendas Data_venda  \\\n",
       "0               Café    Cereal      466       277     2024-01-01 2024-01-01   \n",
       "1               Soja      Grão      191        37     2024-01-02 2024-01-02   \n",
       "2     Cana-de-açúcar      Grão     <NA>       241     2024-01-03 2024-01-03   \n",
       "3              Arroz    Bebida      222       283     2024-01-04 2024-01-04   \n",
       "4              Arroz    Bebida      370       432     2024-01-05 2024-01-05   \n",
       "...              ...       ...      ...       ...            ...        ...   \n",
       "1995           Arroz    Cereal      493       336     2029-06-18 2029-06-18   \n",
       "1996  Cana-de-açúcar     Fibra      457       385     2029-06-19 2029-06-19   \n",
       "1997         Algodão     Fibra      316       276     2029-06-20 2029-06-20   \n",
       "1998           Trigo      Grão       65       319     2029-06-21 2029-06-21   \n",
       "1999           Milho     Fibra      982       403     2029-06-22 2029-06-22   \n",
       "\n",
       "      Vendedor  \n",
       "0          NaN  \n",
       "1        Pedro  \n",
       "2     Fernanda  \n",
       "3       Carlos  \n",
       "4     Patrícia  \n",
       "...        ...  \n",
       "1995  Patrícia  \n",
       "1996       Ana  \n",
       "1997     Maria  \n",
       "1998      João  \n",
       "1999   Ricardo  \n",
       "\n",
       "[2000 rows x 7 columns]"
      ]
     },
     "execution_count": 92,
     "metadata": {},
     "output_type": "execute_result"
    }
   ],
   "source": [
    "df['Data_venda'] = df['Data_venda'].fillna(df['Data_de_vendas'])\n",
    "df['Data_de_vendas'] = df['Data_de_vendas'].fillna(df['Data_venda'])\n",
    "# preenchi os dados faltantes de um tabela para a outra\n",
    "df"
   ]
  }
 ],
 "metadata": {
  "kernelspec": {
   "display_name": "venv",
   "language": "python",
   "name": "python3"
  },
  "language_info": {
   "codemirror_mode": {
    "name": "ipython",
    "version": 3
   },
   "file_extension": ".py",
   "mimetype": "text/x-python",
   "name": "python",
   "nbconvert_exporter": "python",
   "pygments_lexer": "ipython3",
   "version": "3.13.2"
  }
 },
 "nbformat": 4,
 "nbformat_minor": 5
}
